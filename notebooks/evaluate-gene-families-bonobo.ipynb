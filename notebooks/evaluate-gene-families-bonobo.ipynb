{
 "cells": [
  {
   "cell_type": "code",
   "execution_count": 1,
   "metadata": {},
   "outputs": [],
   "source": [
    "# what genes experienced putative gene family collapse?"
   ]
  },
  {
   "cell_type": "code",
   "execution_count": 1,
   "metadata": {},
   "outputs": [],
   "source": [
    "import pandas as pd\n",
    "from tools.sqlInterface import *\n",
    "from collections import *"
   ]
  },
  {
   "cell_type": "code",
   "execution_count": 2,
   "metadata": {},
   "outputs": [],
   "source": [
    "df = load_filter_evaluation('/public/groups/cgl/cat/primates_evan/v2/bonobo-only-v2.1/databases/Bonobo.db')"
   ]
  },
  {
   "cell_type": "code",
   "execution_count": 3,
   "metadata": {},
   "outputs": [],
   "source": [
    "ref_df = load_annotation('/public/groups/cgl/cat/primates_evan/v2/bonobo-only-v2.1/databases/Human.db')"
   ]
  },
  {
   "cell_type": "code",
   "execution_count": 4,
   "metadata": {},
   "outputs": [],
   "source": [
    "merged = df.merge(ref_df, on=['GeneId', 'TranscriptId'])"
   ]
  },
  {
   "cell_type": "code",
   "execution_count": 5,
   "metadata": {},
   "outputs": [],
   "source": [
    "merged_collapsed = merged[~merged.CollapsedGeneIds.isnull()]"
   ]
  },
  {
   "cell_type": "code",
   "execution_count": 6,
   "metadata": {},
   "outputs": [],
   "source": [
    "r = []\n",
    "# this was actually calculated per-gene in the original analysis, so we can just look at the first transcript\n",
    "for (gene_biotype, gene_id, gene_name), d in merged_collapsed.groupby(['GeneBiotype', 'GeneId', 'GeneName']):\n",
    "    d = d.iloc[0]\n",
    "    r.append([gene_id, gene_name, gene_biotype, d.CollapsedGeneIds.count(',') + 1, d.CollapsedGeneIds, d.CollapsedGeneNames])\n",
    "collapsed_df = pd.DataFrame(r, columns=['GeneId', 'GeneName', 'GeneBiotype', 'NumberOfCollapsedCopies', 'CollapsedGeneIds', 'CollapsedGeneNames'])"
   ]
  },
  {
   "cell_type": "code",
   "execution_count": 7,
   "metadata": {},
   "outputs": [
    {
     "data": {
      "text/plain": [
       "(Counter({1: 174, 2: 19, 3: 7, 7: 1, 4: 2, 5: 3}), 206)"
      ]
     },
     "execution_count": 7,
     "metadata": {},
     "output_type": "execute_result"
    }
   ],
   "source": [
    "c = collapsed_df[collapsed_df.GeneBiotype == 'protein_coding']\n",
    "Counter(c.NumberOfCollapsedCopies), len(c)"
   ]
  },
  {
   "cell_type": "code",
   "execution_count": 8,
   "metadata": {},
   "outputs": [
    {
     "name": "stdout",
     "output_type": "stream",
     "text": [
      "128\n"
     ]
    }
   ],
   "source": [
    "# split gene analysis\n",
    "# this was done per-transcript, so the intervals may vary per transcript\n",
    "split = merged[~merged.PossibleSplitGeneLocations.isnull()]\n",
    "split = split[['GeneId', 'GeneName', 'TranscriptId', 'PossibleSplitGeneLocations']].sort_values(['GeneId', 'GeneName'])\n",
    "split.columns = ['Gene ID', 'Gene Name', 'Transcript ID', 'Locations of split mappings']\n",
    "print(len(set(split['Gene ID'])))"
   ]
  },
  {
   "cell_type": "code",
   "execution_count": 9,
   "metadata": {},
   "outputs": [
    {
     "data": {
      "text/plain": [
       "(Counter({2: 621,\n",
       "          1: 21780,\n",
       "          3: 200,\n",
       "          5: 68,\n",
       "          4: 106,\n",
       "          7: 38,\n",
       "          8: 38,\n",
       "          6: 55,\n",
       "          9: 10,\n",
       "          10: 7,\n",
       "          18: 2,\n",
       "          16: 2,\n",
       "          23: 2,\n",
       "          11: 16,\n",
       "          13: 5,\n",
       "          12: 4,\n",
       "          27: 1,\n",
       "          14: 5,\n",
       "          15: 1,\n",
       "          17: 2,\n",
       "          19: 1,\n",
       "          24: 1,\n",
       "          26: 1}),\n",
       " 22966)"
      ]
     },
     "execution_count": 9,
     "metadata": {},
     "output_type": "execute_result"
    }
   ],
   "source": [
    "# this was done per gene\n",
    "paralogy = merged[~merged.GeneAlternateLoci.isnull()]\n",
    "paralogy = paralogy[['GeneId', 'GeneName', 'GeneBiotype', 'GeneAlternateLoci']].groupby('GeneId').first().reset_index()\n",
    "paralogy.columns = ['Gene ID', 'Gene Name', 'Gene Biotype', 'Loci of possible paralogous mappings']\n",
    "paralogy['Number of possible paralogous mappings'] = [x.count(',') + 1 for x in paralogy['Loci of possible paralogous mappings']]\n",
    "paralogy = paralogy.sort_values(['Gene Biotype', 'Gene ID', 'Gene Name'])\n",
    "Counter(paralogy['Number of possible paralogous mappings']), len(paralogy)"
   ]
  },
  {
   "cell_type": "code",
   "execution_count": 10,
   "metadata": {},
   "outputs": [
    {
     "data": {
      "text/plain": [
       "(Counter({1: 14298,\n",
       "          7: 9,\n",
       "          2: 261,\n",
       "          4: 35,\n",
       "          5: 19,\n",
       "          3: 65,\n",
       "          6: 23,\n",
       "          12: 2,\n",
       "          11: 6,\n",
       "          8: 18,\n",
       "          9: 4,\n",
       "          14: 3,\n",
       "          19: 1,\n",
       "          13: 2,\n",
       "          10: 2,\n",
       "          16: 1,\n",
       "          24: 1}),\n",
       " 14750)"
      ]
     },
     "execution_count": 10,
     "metadata": {},
     "output_type": "execute_result"
    }
   ],
   "source": [
    "paralogy_coding = paralogy[paralogy['Gene Biotype'] == 'protein_coding']\n",
    "Counter(paralogy_coding['Number of possible paralogous mappings']), len(paralogy_coding)"
   ]
  },
  {
   "cell_type": "code",
   "execution_count": 11,
   "metadata": {},
   "outputs": [],
   "source": [
    "with pd.ExcelWriter('bonobo_transMap_metrics.xlsx') as fh:\n",
    "    collapsed_df.to_excel(fh, sheet_name='Gene Family Collapse')\n",
    "    split.to_excel(fh, sheet_name='Split Gene Analysis')\n",
    "    paralogy.to_excel(fh, sheet_name='Putative Paralogous Loci')"
   ]
  },
  {
   "cell_type": "code",
   "execution_count": 96,
   "metadata": {},
   "outputs": [
    {
     "data": {
      "text/plain": [
       "'/public/groups/cgl/cat/primates_evan/primates-2020/notebooks'"
      ]
     },
     "execution_count": 96,
     "metadata": {},
     "output_type": "execute_result"
    }
   ],
   "source": [
    "os.getcwd()"
   ]
  },
  {
   "cell_type": "code",
   "execution_count": null,
   "metadata": {},
   "outputs": [],
   "source": []
  }
 ],
 "metadata": {
  "kernelspec": {
   "display_name": "Python 3",
   "language": "python",
   "name": "python3"
  },
  "language_info": {
   "codemirror_mode": {
    "name": "ipython",
    "version": 3
   },
   "file_extension": ".py",
   "mimetype": "text/x-python",
   "name": "python",
   "nbconvert_exporter": "python",
   "pygments_lexer": "ipython3",
   "version": "3.7.6"
  }
 },
 "nbformat": 4,
 "nbformat_minor": 4
}
