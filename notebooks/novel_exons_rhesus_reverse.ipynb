{
 "cells": [
  {
   "cell_type": "code",
   "execution_count": 403,
   "metadata": {},
   "outputs": [],
   "source": [
    "# look for sequence inserted in transMap of AugustusPB back to human\n",
    "from tools.psl import *\n",
    "from tools.transcripts import *\n",
    "import os\n",
    "import pandas as pd\n",
    "from cat.consensus import *\n",
    "from tools.fileOps import *\n",
    "from tools.sqlInterface import *\n",
    "from tools.nameConversions import strip_alignment_numbers\n",
    "data_dir = '/public/groups/cgl/cat/primates_evan/rhesus_reverse/work/transMap'"
   ]
  },
  {
   "cell_type": "code",
   "execution_count": 38,
   "metadata": {},
   "outputs": [],
   "source": [
    "alns = get_alignment_dict(os.path.join(data_dir, 'Human.filtered.psl'))"
   ]
  },
  {
   "cell_type": "code",
   "execution_count": 33,
   "metadata": {},
   "outputs": [],
   "source": [
    "txs = get_gene_pred_dict(os.path.join(data_dir, 'Human.filtered.gp'))"
   ]
  },
  {
   "cell_type": "code",
   "execution_count": 212,
   "metadata": {},
   "outputs": [],
   "source": [
    "ref_txs = get_gene_pred_dict('/public/groups/cgl/cat/primates_evan/rhesus_reverse/work/reference/Rhesus.gp')"
   ]
  },
  {
   "cell_type": "code",
   "execution_count": 113,
   "metadata": {},
   "outputs": [],
   "source": [
    "ref_df = load_annotation('/public/groups/cgl/cat/primates_evan/rhesus_reverse/out/databases/Rhesus.db')"
   ]
  },
  {
   "cell_type": "code",
   "execution_count": null,
   "metadata": {},
   "outputs": [],
   "source": [
    "# filter for 1-1 mappings\n",
    "unique = set(tm_eval_df[tm_eval_df.UnfilteredParalogy == ''].TranscriptId)"
   ]
  },
  {
   "cell_type": "code",
   "execution_count": 199,
   "metadata": {},
   "outputs": [],
   "source": [
    "# filter for novel *isoform* predictions\n",
    "novel = set(ref_df[(ref_df.TranscriptBiotype == 'unknown_likely_coding') & (ref_df.GeneBiotype != 'unknown_likely_coding')].TranscriptId)"
   ]
  },
  {
   "cell_type": "code",
   "execution_count": 200,
   "metadata": {},
   "outputs": [
    {
     "name": "stdout",
     "output_type": "stream",
     "text": [
      "4951\n"
     ]
    }
   ],
   "source": [
    "useful_ids = novel & unique\n",
    "print(len(useful_ids))"
   ]
  },
  {
   "cell_type": "code",
   "execution_count": 397,
   "metadata": {},
   "outputs": [],
   "source": [
    "def convert_ref_chrom(ref_tx, left_pos, right_pos):\n",
    "    if ref_tx.strand == '+':\n",
    "        rhesus_right_chrom = ref_tx.mrna_coordinate_to_chromosome(right_pos)\n",
    "        rhesus_left_chrom = ref_tx.mrna_coordinate_to_chromosome(left_pos)\n",
    "    else:\n",
    "        rhesus_right_chrom = ref_tx.mrna_coordinate_to_chromosome(left_pos) + 1\n",
    "        rhesus_left_chrom = ref_tx.mrna_coordinate_to_chromosome(right_pos - 1)\n",
    "    assert rhesus_right_chrom > rhesus_left_chrom\n",
    "    return rhesus_left_chrom, rhesus_right_chrom\n",
    "\n",
    "\n",
    "def find_exons(ref_tx, rhesus_left_chrom, rhesus_right_chrom):\n",
    "    i = ChromosomeInterval(ref_tx.chromosome, rhesus_left_chrom, rhesus_right_chrom, ref_tx.strand)\n",
    "    intersections = []\n",
    "    for exon in ref_tx.exon_intervals:\n",
    "        if exon.overlap(i):\n",
    "            intersections.append(exon)\n",
    "    return intersections\n",
    "\n",
    "\n",
    "def convert_back_to_tx(ref_tx, exon):\n",
    "    # convert to tx coordinates\n",
    "    left_pos = ref_tx.chromosome_coordinate_to_mrna(exon.start)\n",
    "    right_pos = ref_tx.chromosome_coordinate_to_mrna(exon.stop - 1)\n",
    "    if right_pos < left_pos:\n",
    "        right_pos, left_pos = left_pos, right_pos\n",
    "    return left_pos, right_pos\n",
    "\n",
    "def find_indels(aln, tx, ref_tx, min_size=30):\n",
    "    # remember where we were last iteration\n",
    "    q_pos = 0\n",
    "    t_pos = 0\n",
    "    # iterate over block starts[i], q_starts[i + 1], t_starts[i + 1]\n",
    "    for block_size, q_start, t_start in zip(*[aln.block_sizes, aln.q_starts[1:], aln.t_starts[1:]]):\n",
    "        q_offset = q_start - block_size - q_pos\n",
    "        t_offset = t_start - block_size - t_pos\n",
    "        if q_offset != 0:  # query insertion -> insertion in target sequence\n",
    "            if tx.strand == '+':\n",
    "                left_pos = q_start - q_offset\n",
    "                right_pos = q_start\n",
    "                right_chrom = aln.query_coordinate_to_target(right_pos + 1)\n",
    "                left_chrom = aln.query_coordinate_to_target(left_pos - 1)\n",
    "            else:\n",
    "                left_pos = aln.q_size - q_start\n",
    "                right_pos = aln.q_size - q_start + q_offset\n",
    "                right_chrom = aln.query_coordinate_to_target(left_pos - 1)\n",
    "                left_chrom = aln.query_coordinate_to_target(right_pos + 1)\n",
    "            if left_chrom is None or right_chrom is None:\n",
    "                continue\n",
    "            assert left_chrom < right_chrom\n",
    "            assert left_pos < right_pos\n",
    "            size = right_pos - left_pos\n",
    "            if size >= min_size:\n",
    "                rhesus_left_chrom, rhesus_right_chrom = convert_ref_chrom(ref_tx, left_pos, right_pos)\n",
    "                for exon in find_exons(ref_tx, rhesus_left_chrom, rhesus_right_chrom):\n",
    "                    exon_left_pos, exon_right_pos = convert_back_to_tx(ref_tx, exon)\n",
    "                    yield tx.chromosome, left_chrom, right_chrom, tx.name, exon_left_pos, exon_right_pos, len(exon), exon.chromosome, exon.start, exon.stop\n",
    "        q_pos = q_start\n",
    "        t_pos = t_start"
   ]
  },
  {
   "cell_type": "code",
   "execution_count": 398,
   "metadata": {},
   "outputs": [],
   "source": [
    "r = []\n",
    "for aln_id, tx in txs.items():\n",
    "    if strip_alignment_numbers(aln_id) not in useful_ids:\n",
    "        continue\n",
    "    aln = alns[aln_id]\n",
    "    ref_tx = ref_txs[strip_alignment_numbers(aln_id)]\n",
    "    r.extend(find_indels(aln, tx, ref_tx))"
   ]
  },
  {
   "cell_type": "code",
   "execution_count": 399,
   "metadata": {},
   "outputs": [],
   "source": [
    "rdf = pd.DataFrame(r, columns=['chromosome', 'chrom_start', 'chrom_stop', 'aln_id', 'start', 'stop', 'size',\n",
    "                              'rhesus_chromosome', 'rhesus_chrom_start', 'rhesus_chrom_stop'])"
   ]
  },
  {
   "cell_type": "code",
   "execution_count": 402,
   "metadata": {},
   "outputs": [],
   "source": [
    "# due to alignment issues, it may be the case that these exons exist already in transMap. Remove these\n",
    "!mkdir -p bam_tmp\n",
    "rdf[['rhesus_chromosome', 'rhesus_chrom_start', 'rhesus_chrom_stop']].to_csv('bam_tmp/exons.bed', header=None, index=None, sep='\\t')"
   ]
  },
  {
   "cell_type": "code",
   "execution_count": 452,
   "metadata": {},
   "outputs": [],
   "source": [
    "# grab CAT consensus transcripts that are not novel\n",
    "rhesus_cat_df = pd.read_csv('/public/groups/cgl/cat/primates_evan/out/consensus_gene_set/Rhesus.gp_info', sep='\\t')\n",
    "to_keep = set(rhesus_cat_df[rhesus_cat_df.transcript_biotype != 'unknown_likely_coding'].transcript_id)\n",
    "with open('bam_tmp/rhesus_cat_exons.bed', 'w') as fh:\n",
    "    for tx in gene_pred_iterator('/public/groups/cgl/cat/primates_evan/out/consensus_gene_set/Rhesus.gp'):\n",
    "        if tx.name in to_keep:\n",
    "            for exon in tx.exon_intervals:\n",
    "                fh.write('\\t'.join(map(str, [tx.chromosome, tx.start, tx.stop])) + '\\n')"
   ]
  },
  {
   "cell_type": "code",
   "execution_count": 453,
   "metadata": {},
   "outputs": [],
   "source": [
    "!bedtools intersect -v -a bam_tmp/exons.bed -b bam_tmp/rhesus_cat_exons.bed > bam_tmp/exons_filtered_for_cat_consensus.bed"
   ]
  },
  {
   "cell_type": "code",
   "execution_count": null,
   "metadata": {},
   "outputs": [],
   "source": [
    "# filter for IsoSeq support\n",
    "!samtools merge bam_tmp/merged.bam /public/groups/cgl/cat/primates_evan/out/assemblyHub/Rhesus/*bam\n",
    "!bedtools bamtobed -split -i bam_tmp/merged.bam > bam_tmp/merged.bed\n",
    "!bedSort bam_tmp/merged.bed bam_tmp/merged.bed\n",
    "!bedtools merge -i bam_tmp/merged.bed -c 1 -o count > bam_tmp/collapsed.bed"
   ]
  },
  {
   "cell_type": "code",
   "execution_count": 172,
   "metadata": {},
   "outputs": [],
   "source": [
    "with open('bam_tmp/filtered.bed', 'w') as fh:\n",
    "    for l in open('bam_tmp/collapsed.bed'):\n",
    "        l = l.split()\n",
    "        if int(l[-1]) > 3:\n",
    "            fh.write('\\t'.join(l) + '\\n')"
   ]
  },
  {
   "cell_type": "code",
   "execution_count": 426,
   "metadata": {},
   "outputs": [],
   "source": [
    "!bedtools intersect -u -a bam_tmp/exons.bed -b bam_tmp/collapsed.bed > bam_tmp/exons_filtered_for_isoseq.bed"
   ]
  },
  {
   "cell_type": "code",
   "execution_count": 465,
   "metadata": {},
   "outputs": [],
   "source": [
    "m = rdf.copy()\n",
    "for bed, col in [['bam_tmp/exons_filtered_for_cat_consensus.bed', 'cat_consensus_filter'],\n",
    "                ['bam_tmp/exons_filtered_for_isoseq.bed', 'isoseq_filter']]:\n",
    "    tmp_df = pd.read_csv(bed, sep='\\t', header=None)\n",
    "    tmp_df.columns = ['rhesus_chromosome', 'rhesus_chrom_start', 'rhesus_chrom_stop']\n",
    "    tmp_df[col] = [True] * len(tmp_df)\n",
    "    m = m.merge(tmp_df, on=['rhesus_chromosome', 'rhesus_chrom_start', 'rhesus_chrom_stop'], how='left').drop_duplicates()\n",
    "m = m.fillna(False)\n",
    "# flip the consensus to\n",
    "m['cat_consensus_filter'] = [not x for x in m['cat_consensus_filter']]"
   ]
  },
  {
   "cell_type": "code",
   "execution_count": 466,
   "metadata": {},
   "outputs": [],
   "source": [
    "m.columns = ['GRCh38 chromosome', 'GRCh38 nearest start', 'GRCh38 nearest stop', 'CAT Alignment ID', 'CAT transcript coordinates exon start',\n",
    "            'CAT transcript coordinates exon stop', 'exon size',\n",
    "             'RheMac10 chromosome', 'RheMac10 start', 'RheMac10 stop',\n",
    "            'Possible false positive', 'Supported by at least 3 IsoSeq reads']"
   ]
  },
  {
   "cell_type": "code",
   "execution_count": 467,
   "metadata": {
    "scrolled": true
   },
   "outputs": [],
   "source": [
    "m.to_csv('rhesus_novel_exons.csv', sep='\\t', index=None)\n",
    "m.to_excel('rhesus_novel_exons.xlsx')"
   ]
  },
  {
   "cell_type": "code",
   "execution_count": 470,
   "metadata": {},
   "outputs": [],
   "source": [
    "m[['RheMac10 chromosome', 'RheMac10 start', 'RheMac10 stop']].to_csv('rhesus_unfiltered_novel_exons.bed', sep='\\t', header=None, index=None)\n",
    "m[m['Possible false positive'] == False][['RheMac10 chromosome', 'RheMac10 start', 'RheMac10 stop']].to_csv('rhesus_filtered_novel_exons.bed', sep='\\t', header=None, index=None)"
   ]
  },
  {
   "cell_type": "code",
   "execution_count": null,
   "metadata": {},
   "outputs": [],
   "source": []
  }
 ],
 "metadata": {
  "kernelspec": {
   "display_name": "Python 3",
   "language": "python",
   "name": "python3"
  },
  "language_info": {
   "codemirror_mode": {
    "name": "ipython",
    "version": 3
   },
   "file_extension": ".py",
   "mimetype": "text/x-python",
   "name": "python",
   "nbconvert_exporter": "python",
   "pygments_lexer": "ipython3",
   "version": "3.7.6"
  }
 },
 "nbformat": 4,
 "nbformat_minor": 4
}
