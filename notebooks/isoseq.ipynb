{
 "cells": [
  {
   "cell_type": "code",
   "execution_count": 1,
   "metadata": {},
   "outputs": [],
   "source": [
    "from glob import glob\n",
    "from tools.procOps import *\n",
    "from tools.fileOps import *"
   ]
  },
  {
   "cell_type": "code",
   "execution_count": 2,
   "metadata": {},
   "outputs": [],
   "source": [
    "import os\n",
    "os.chdir('/public/groups/cgl/cat/primates_evan/')"
   ]
  },
  {
   "cell_type": "code",
   "execution_count": 10,
   "metadata": {},
   "outputs": [],
   "source": [
    "flnc = glob('isoseq/*/*fasta')"
   ]
  },
  {
   "cell_type": "code",
   "execution_count": 5,
   "metadata": {},
   "outputs": [],
   "source": [
    "cfg = [x.split() for x in open('assemblies/cactus.config')][2:]\n",
    "d = {x[0].lower().replace('*', ''): x[1].split('evan/')[1] for x in cfg}"
   ]
  },
  {
   "cell_type": "code",
   "execution_count": 35,
   "metadata": {},
   "outputs": [],
   "source": [
    "for f in flnc:\n",
    "    g = f.split('/')[1].split('_')[0]\n",
    "    a = d[g]\n",
    "    out = f.replace('.fasta', '.sorted.bam')\n",
    "    cmd = [['minimap2', '-t', '12', '-ax', 'splice:hq', '-uf', a, f],\n",
    "            ['samtools', 'view', '-bS', '-'],\n",
    "            ['sambamba', 'sort', '/dev/stdin', '-o', out]]\n",
    "    run_proc(cmd)"
   ]
  },
  {
   "cell_type": "code",
   "execution_count": 13,
   "metadata": {},
   "outputs": [],
   "source": [
    "# run cDNA_cupcake\n",
    "# first, we need to do BAM -> SAM\n",
    "for f in flnc:\n",
    "    bam = f.replace('.fasta', '.sorted.bam')\n",
    "    sam = f.replace('.fasta', '.sorted.sam')\n",
    "    !samtools view {bam} > {sam}"
   ]
  },
  {
   "cell_type": "code",
   "execution_count": 33,
   "metadata": {},
   "outputs": [],
   "source": [
    "from collections import *\n",
    "grouped_by_genome = defaultdict(list)\n",
    "for f in flnc:\n",
    "    g = f.split('/')[1].split('_')[0]\n",
    "    grouped_by_genome[g].append(f)"
   ]
  },
  {
   "cell_type": "code",
   "execution_count": 38,
   "metadata": {},
   "outputs": [
    {
     "data": {
      "text/plain": [
       "'isoseq/bonobo_iPSC/bonobo0_merged_flnc.bam.sorted.bam isoseq/bonobo_iPSC/bonobo1_merged_flnc.bam.sorted.bam isoseq/bonobo_iPSC/bonobo2_merged_flnc.bam.sorted.bam isoseq/bonobo_iPSC/bonobo3_merged_flnc.bam.sorted.bam'"
      ]
     },
     "execution_count": 38,
     "metadata": {},
     "output_type": "execute_result"
    }
   ],
   "source": [
    "bams"
   ]
  },
  {
   "cell_type": "code",
   "execution_count": 55,
   "metadata": {},
   "outputs": [
    {
     "name": "stdout",
     "output_type": "stream",
     "text": [
      "collapse_isoforms_by_sam.py --input isoseq/cupcake/bonobo.fa -s isoseq/cupcake/bonobo.sam -o isoseq/cupcake/bonobo\n",
      "collapse_isoforms_by_sam.py --input isoseq/cupcake/gibbon.fa -s isoseq/cupcake/gibbon.sam -o isoseq/cupcake/gibbon\n",
      "collapse_isoforms_by_sam.py --input isoseq/cupcake/gorilla.fa -s isoseq/cupcake/gorilla.sam -o isoseq/cupcake/gorilla\n",
      "collapse_isoforms_by_sam.py --input isoseq/cupcake/marmoset.fa -s isoseq/cupcake/marmoset.sam -o isoseq/cupcake/marmoset\n",
      "collapse_isoforms_by_sam.py --input isoseq/cupcake/rhesus.fa -s isoseq/cupcake/rhesus.sam -o isoseq/cupcake/rhesus\n",
      "collapse_isoforms_by_sam.py --input isoseq/cupcake/human.fa -s isoseq/cupcake/human.sam -o isoseq/cupcake/human\n",
      "collapse_isoforms_by_sam.py --input isoseq/cupcake/chimp.fa -s isoseq/cupcake/chimp.sam -o isoseq/cupcake/chimp\n",
      "collapse_isoforms_by_sam.py --input isoseq/cupcake/orangutan.fa -s isoseq/cupcake/orangutan.sam -o isoseq/cupcake/orangutan\n"
     ]
    }
   ],
   "source": [
    "!mkdir -p isoseq/cupcake\n",
    "import subprocess\n",
    "# cat everything together to avoid having to merge\n",
    "for g, l in grouped_by_genome.items():\n",
    "    out = f'isoseq/cupcake/{g}'\n",
    "    if len(l) > 1:\n",
    "        bams = ' '.join([f.replace('.fasta', '.sorted.bam') for f in l])\n",
    "        !sambamba merge -t 16 {out}.bam {bams}\n",
    "        !samtools view {out}.bam > {out}.sam\n",
    "    else:\n",
    "        !samtools view {l[0].replace('.fasta', '.sorted.bam')} > {out}.sam\n",
    "    for f in l:\n",
    "        !cat {f} >> {out}.fa\n",
    "    subprocess.Popen(['collapse_isoforms_by_sam.py', '--input', f'{out}.fa', '-s', f'{out}.sam', '-o', out])\n",
    "    print(' '.join(['collapse_isoforms_by_sam.py', '--input', f'{out}.fa', '-s', f'{out}.sam', '-o', out]))"
   ]
  },
  {
   "cell_type": "code",
   "execution_count": 56,
   "metadata": {},
   "outputs": [],
   "source": [
    "%%bash\n",
    "\n",
    "for f in /public/groups/cgl/cat/primates_evan/isoseq/cupcake/*.collapsed.gff; do\n",
    "    python /public/home/ifiddes/Comparative-Annotation-Toolkit/programs/convert_cupcake_gff ${f} ${f}3\n",
    "done"
   ]
  },
  {
   "cell_type": "code",
   "execution_count": null,
   "metadata": {},
   "outputs": [],
   "source": [
    "# repeat for old assemblies\n",
    "old_fastas = glob('/public/groups/cgl/cat/original_primates/genome_files/*fa')\n",
    "old_d = {}\n",
    "for fasta in old_fastas:\n",
    "    genome = os.path.basename(fasta).split('.')[0].lower()\n",
    "    if genome in d and genome != 'human':\n",
    "        old_d[genome] = fasta"
   ]
  },
  {
   "cell_type": "code",
   "execution_count": 7,
   "metadata": {},
   "outputs": [],
   "source": [
    "out_dir = '/public/groups/cgl/cat/primates_evan/isoseq_original_primates'\n",
    "for f in flnc:\n",
    "    g = f.split('/')[1].split('_')[0]\n",
    "    if g not in old_d:\n",
    "        continue\n",
    "    a = old_d[g]\n",
    "    out = f.replace('.fasta', '.sorted.bam')\n",
    "    out = out.replace('isoseq', out_dir, 1)\n",
    "    !mkdir -p {os.path.dirname(out)}\n",
    "    cmd = [['minimap2', '-t', '12', '-ax', 'splice:hq', '-uf', a, f],\n",
    "            ['samtools', 'view', '-bS', '-'],\n",
    "            ['sambamba', 'sort', '/dev/stdin', '-o', out]]\n",
    "    run_proc(cmd)"
   ]
  },
  {
   "cell_type": "code",
   "execution_count": null,
   "metadata": {},
   "outputs": [],
   "source": []
  }
 ],
 "metadata": {
  "kernelspec": {
   "display_name": "Python 3",
   "language": "python",
   "name": "python3"
  },
  "language_info": {
   "codemirror_mode": {
    "name": "ipython",
    "version": 3
   },
   "file_extension": ".py",
   "mimetype": "text/x-python",
   "name": "python",
   "nbconvert_exporter": "python",
   "pygments_lexer": "ipython3",
   "version": "3.7.6"
  }
 },
 "nbformat": 4,
 "nbformat_minor": 2
}
