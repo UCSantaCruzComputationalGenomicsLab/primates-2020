{
 "cells": [
  {
   "cell_type": "code",
   "execution_count": 1,
   "metadata": {},
   "outputs": [],
   "source": [
    "from glob import glob\n",
    "from tools.procOps import *\n",
    "from tools.fileOps import *"
   ]
  },
  {
   "cell_type": "code",
   "execution_count": 2,
   "metadata": {},
   "outputs": [],
   "source": [
    "import os\n",
    "os.chdir('/public/groups/cgl/cat/primates_evan/')"
   ]
  },
  {
   "cell_type": "code",
   "execution_count": 3,
   "metadata": {},
   "outputs": [],
   "source": [
    "flnc = glob('isoseq/*/*fasta')"
   ]
  },
  {
   "cell_type": "code",
   "execution_count": 5,
   "metadata": {},
   "outputs": [],
   "source": [
    "cfg = [x.split() for x in open('assemblies/cactus.config')][2:]\n",
    "d = {x[0].lower().replace('*', ''): x[1].split('evan/')[1] for x in cfg}"
   ]
  },
  {
   "cell_type": "code",
   "execution_count": 35,
   "metadata": {},
   "outputs": [],
   "source": [
    "for f in flnc:\n",
    "    g = f.split('/')[1].split('_')[0]\n",
    "    a = d[g]\n",
    "    out = f.replace('.fasta', '.sorted.bam')\n",
    "    cmd = [['minimap2', '-t', '12', '-ax', 'splice:hq', '-uf', a, f],\n",
    "            ['samtools', 'view', '-bS', '-'],\n",
    "            ['sambamba', 'sort', '/dev/stdin', '-o', out]]\n",
    "    run_proc(cmd)"
   ]
  },
  {
   "cell_type": "code",
   "execution_count": 6,
   "metadata": {},
   "outputs": [],
   "source": [
    "# repeat for old assemblies\n",
    "old_fastas = glob('/public/groups/cgl/cat/original_primates/genome_files/*fa')\n",
    "old_d = {}\n",
    "for fasta in old_fastas:\n",
    "    genome = os.path.basename(fasta).split('.')[0].lower()\n",
    "    if genome in d and genome != 'human':\n",
    "        old_d[genome] = fasta"
   ]
  },
  {
   "cell_type": "code",
   "execution_count": 7,
   "metadata": {},
   "outputs": [],
   "source": [
    "out_dir = '/public/groups/cgl/cat/primates_evan/isoseq_original_primates'\n",
    "for f in flnc:\n",
    "    g = f.split('/')[1].split('_')[0]\n",
    "    if g not in old_d:\n",
    "        continue\n",
    "    a = old_d[g]\n",
    "    out = f.replace('.fasta', '.sorted.bam')\n",
    "    out = out.replace('isoseq', out_dir, 1)\n",
    "    !mkdir -p {os.path.dirname(out)}\n",
    "    cmd = [['minimap2', '-t', '12', '-ax', 'splice:hq', '-uf', a, f],\n",
    "            ['samtools', 'view', '-bS', '-'],\n",
    "            ['sambamba', 'sort', '/dev/stdin', '-o', out]]\n",
    "    run_proc(cmd)"
   ]
  },
  {
   "cell_type": "code",
   "execution_count": null,
   "metadata": {},
   "outputs": [],
   "source": []
  }
 ],
 "metadata": {
  "kernelspec": {
   "display_name": "Python 3",
   "language": "python",
   "name": "python3"
  },
  "language_info": {
   "codemirror_mode": {
    "name": "ipython",
    "version": 3
   },
   "file_extension": ".py",
   "mimetype": "text/x-python",
   "name": "python",
   "nbconvert_exporter": "python",
   "pygments_lexer": "ipython3",
   "version": "3.7.6"
  }
 },
 "nbformat": 4,
 "nbformat_minor": 2
}
