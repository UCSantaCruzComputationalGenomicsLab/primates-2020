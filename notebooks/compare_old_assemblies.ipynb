{
 "cells": [
  {
   "cell_type": "code",
   "execution_count": 91,
   "metadata": {},
   "outputs": [],
   "source": [
    "from tools.transcripts import *\n",
    "from tools.psl import *\n",
    "import pandas as pd\n",
    "from tools.mathOps import *\n",
    "from tools.nameConversions import *"
   ]
  },
  {
   "cell_type": "code",
   "execution_count": 2,
   "metadata": {},
   "outputs": [],
   "source": [
    "genomes = (\"Chimp\", \"Gibbon\", \"Gorilla\", \"Orangutan\", \"Rhesus\")\n",
    "new_dir = '/public/groups/cgl/cat/primates_evan/work/transMap'\n",
    "old_dir = '/public/groups/cgl/cat/primates_evan/original_primates/work/transMap/'\n"
   ]
  },
  {
   "cell_type": "code",
   "execution_count": 12,
   "metadata": {},
   "outputs": [],
   "source": [
    "def load_metrics(genome, psl_dict):\n",
    "    m = [[genome, strip_alignment_numbers(x.q_name), x.coverage, x.identity] for x in psl_dict.values()]\n",
    "    return pd.DataFrame(m, columns=['Genome', 'TranscriptId', 'Coverage', 'Identity'])\n",
    "\n",
    "gene_sets = []\n",
    "for genome in genomes:\n",
    "    new_psl = get_alignment_dict(f'{new_dir}/{genome}.filtered.psl')\n",
    "    old_psl = get_alignment_dict(f'{old_dir}/{genome}.filtered.psl')\n",
    "    new_metrics_df = load_metrics(genome, new_psl)\n",
    "    old_metrics_df = load_metrics(genome, old_psl)\n",
    "    merged = new_metrics_df.merge(old_metrics_df, on=['Genome', 'TranscriptId'], \n",
    "                                  suffixes=['_NewAssembly', '_OriginalAssembly'])\n",
    "    gene_sets.append(merged)\n",
    "df = pd.concat(gene_sets)"
   ]
  },
  {
   "cell_type": "code",
   "execution_count": 13,
   "metadata": {},
   "outputs": [],
   "source": [
    "%matplotlib inline\n",
    "import seaborn as sns"
   ]
  },
  {
   "cell_type": "code",
   "execution_count": 21,
   "metadata": {},
   "outputs": [],
   "source": [
    "df['d(Identity)'] = 100.0 * (df['Identity_NewAssembly'] - df['Identity_OriginalAssembly'])\n",
    "df['d(Coverage)'] = 100.0 * (df['Coverage_NewAssembly'] - df['Coverage_OriginalAssembly'])"
   ]
  },
  {
   "cell_type": "code",
   "execution_count": 22,
   "metadata": {},
   "outputs": [],
   "source": [
    "m = df[['Genome', 'd(Identity)', 'd(Coverage)']].melt(id_vars=['Genome'])"
   ]
  },
  {
   "cell_type": "code",
   "execution_count": 26,
   "metadata": {},
   "outputs": [
    {
     "data": {
      "text/plain": [
       "<seaborn.axisgrid.FacetGrid at 0x7fa4c0145dd0>"
      ]
     },
     "execution_count": 26,
     "metadata": {},
     "output_type": "execute_result"
    },
    {
     "data": {
      "image/png": "[encoded data removed]",
      "text/plain": [
       "<Figure size 720x360 with 2 Axes>"
      ]
     },
     "metadata": {
      "needs_background": "light"
     },
     "output_type": "display_data"
    }
   ],
   "source": [
    "sns.catplot(data=m[m.value != 0], kind='box', x='Genome', y='value', col='variable', showfliers=False,\n",
    "           sharey=False, order=genomes)"
   ]
  },
  {
   "cell_type": "code",
   "execution_count": 55,
   "metadata": {},
   "outputs": [],
   "source": [
    "counts = []\n",
    "for (genome, variable), d in m.groupby(['Genome', 'variable']):\n",
    "    num_zero = len(d[d.value == 0])\n",
    "    num_nonzero = len(d) - num_zero\n",
    "    counts.append([genome, variable, num_zero, num_nonzero])\n",
    "cdf = pd.DataFrame(counts, columns=['Genome', 'Metric', 'Unchanged', 'Changed'])\n",
    "cdf = cdf.melt(id_vars=['Genome', 'Metric'])"
   ]
  },
  {
   "cell_type": "code",
   "execution_count": 58,
   "metadata": {},
   "outputs": [
    {
     "data": {
      "text/plain": [
       "<seaborn.axisgrid.FacetGrid at 0x7fa4c11447d0>"
      ]
     },
     "execution_count": 58,
     "metadata": {},
     "output_type": "execute_result"
    },
    {
     "data": {
      "image/png": "[encoded data removed]",
      "text/plain": [
       "<Figure size 813x360 with 2 Axes>"
      ]
     },
     "metadata": {
      "needs_background": "light"
     },
     "output_type": "display_data"
    }
   ],
   "source": [
    "sns.catplot(data=cdf, hue='variable', y='value', x='Genome', col='Metric', kind='bar')"
   ]
  },
  {
   "cell_type": "code",
   "execution_count": 59,
   "metadata": {},
   "outputs": [],
   "source": [
    "# compare IsoSeq mappability\n",
    "import pysam\n",
    "from glob import glob"
   ]
  },
  {
   "cell_type": "code",
   "execution_count": 77,
   "metadata": {},
   "outputs": [],
   "source": [
    "import os\n",
    "os.chdir('/public/groups/cgl/cat/primates_evan/')\n",
    "flnc = glob('isoseq/*/*fasta')\n",
    "\n",
    "bam_map = defaultdict(list)\n",
    "\n",
    "for f in flnc:\n",
    "    g = f.split('/')[1].split('_')[0]\n",
    "    g = g.title()\n",
    "    new_bam = f.replace('fasta', 'sorted.bam')\n",
    "    assert os.path.exists(new_bam)\n",
    "    old_bam = new_bam.replace('isoseq/', 'isoseq_original_primates/')\n",
    "    if not os.path.exists(old_bam):\n",
    "        continue\n",
    "    bam_map[g].append([new_bam, old_bam])"
   ]
  },
  {
   "cell_type": "code",
   "execution_count": 108,
   "metadata": {},
   "outputs": [],
   "source": [
    "def filter_bam(bam):\n",
    "    for rec in pysam.Samfile(bam):\n",
    "        if not x.is_supplementary and not x.is_secondary and not rec.is_unmapped and rec.seq is not None:\n",
    "            yield rec\n",
    "            \n",
    "\n",
    "def parse_cigar(rec):\n",
    "    matches = 0\n",
    "    for op, num_bases in rec.cigar:\n",
    "        if op == 0:\n",
    "            matches += num_bases\n",
    "    return rec.qname, format_ratio(matches, len(rec.seq))\n",
    "\n",
    "\n",
    "def bam_wapper(bam):\n",
    "    for rec in filter_bam(bam):\n",
    "        yield parse_cigar(rec)"
   ]
  },
  {
   "cell_type": "code",
   "execution_count": 109,
   "metadata": {},
   "outputs": [],
   "source": [
    "metrics = []\n",
    "for genome, bams in bam_map.items():\n",
    "    for new_bam, old_bam in bams:\n",
    "        new_bam = pd.DataFrame(list(bam_wapper(new_bam)), columns=['qname', 'coverage'])\n",
    "        old_bam = pd.DataFrame(list(bam_wapper(old_bam)), columns=['qname', 'coverage'])\n",
    "        m = new_bam.merge(old_bam, how='outer', on='qname', suffixes=['_new', '_old'])\n",
    "        m['genome'] = [genome] * len(m)\n",
    "        metrics.append(m)"
   ]
  },
  {
   "cell_type": "code",
   "execution_count": 110,
   "metadata": {},
   "outputs": [],
   "source": [
    "metrics_df = pd.concat(metrics)"
   ]
  },
  {
   "cell_type": "code",
   "execution_count": 112,
   "metadata": {},
   "outputs": [],
   "source": [
    "metrics_df['delta(Coverage)'] = metrics_df['coverage_new'] - metrics_df['coverage_old']"
   ]
  },
  {
   "cell_type": "code",
   "execution_count": 115,
   "metadata": {},
   "outputs": [],
   "source": [
    "m = metrics_df[['delta(Coverage)', 'genome']].melt(id_vars=['genome'])"
   ]
  },
  {
   "cell_type": "code",
   "execution_count": 118,
   "metadata": {},
   "outputs": [
    {
     "data": {
      "image/png": "[encoded data removed]",
      "text/plain": [
       "<Figure size 360x360 with 1 Axes>"
      ]
     },
     "metadata": {
      "needs_background": "light"
     },
     "output_type": "display_data"
    }
   ],
   "source": [
    "g = sns.catplot(data=m[m.value != 0], y='value', x='genome', kind='box', showfliers=False, order=genomes)"
   ]
  },
  {
   "cell_type": "code",
   "execution_count": 120,
   "metadata": {},
   "outputs": [
    {
     "data": {
      "text/plain": [
       "<seaborn.axisgrid.FacetGrid at 0x7fa46663b3d0>"
      ]
     },
     "execution_count": 120,
     "metadata": {},
     "output_type": "execute_result"
    },
    {
     "data": {
      "image/png": "[encoded data removed]",
      "text/plain": [
       "<Figure size 453x360 with 1 Axes>"
      ]
     },
     "metadata": {
      "needs_background": "light"
     },
     "output_type": "display_data"
    }
   ],
   "source": [
    "counts = []\n",
    "for (genome, variable), d in m.groupby(['genome', 'variable']):\n",
    "    num_zero = len(d[d.value == 0])\n",
    "    num_nonzero = len(d) - num_zero\n",
    "    tot = len(d)\n",
    "    counts.append([genome, variable, 100.0 * num_zero, num_nonzero])\n",
    "cdf = pd.DataFrame(counts, columns=['Genome', 'Metric', 'Unchanged', 'Changed'])\n",
    "cdf = cdf.melt(id_vars=['Genome', 'Metric'])\n",
    "sns.catplot(data=cdf, hue='variable', y='value', x='Genome', col='Metric', kind='bar')"
   ]
  },
  {
   "cell_type": "code",
   "execution_count": null,
   "metadata": {},
   "outputs": [],
   "source": []
  }
 ],
 "metadata": {
  "kernelspec": {
   "display_name": "Python 3",
   "language": "python",
   "name": "python3"
  },
  "language_info": {
   "codemirror_mode": {
    "name": "ipython",
    "version": 3
   },
   "file_extension": ".py",
   "mimetype": "text/x-python",
   "name": "python",
   "nbconvert_exporter": "python",
   "pygments_lexer": "ipython3",
   "version": "3.7.6"
  }
 },
 "nbformat": 4,
 "nbformat_minor": 4
}
