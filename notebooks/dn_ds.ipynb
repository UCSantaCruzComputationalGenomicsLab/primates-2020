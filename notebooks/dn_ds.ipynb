{
 "cells": [
  {
   "cell_type": "code",
   "execution_count": 1,
   "metadata": {},
   "outputs": [],
   "source": [
    "from cat.transmap_classify import *\n",
    "import os\n",
    "os.chdir('/public/groups/cgl/cat/primates_evan/')\n",
    "\n",
    "genomes = ['Chimp',\n",
    " 'Bonobo',\n",
    " 'Gorilla',\n",
    " 'Orangutan',\n",
    " 'Gibbon',\n",
    " 'Rhesus',\n",
    " 'Owl_monkey',\n",
    " 'Marmoset']"
   ]
  },
  {
   "cell_type": "code",
   "execution_count": 9,
   "metadata": {},
   "outputs": [
    {
     "name": "stdout",
     "output_type": "stream",
     "text": [
      "--2020-03-07 11:48:22--  http://apprisws.bioinfo.cnio.es/pub/current_release/datafiles/homo_sapiens/GRCh38/appris_data.principal.forENSEMBL.txt\n",
      "Resolving apprisws.bioinfo.cnio.es (apprisws.bioinfo.cnio.es)... 193.147.150.92\n",
      "Connecting to apprisws.bioinfo.cnio.es (apprisws.bioinfo.cnio.es)|193.147.150.92|:80... connected.\n",
      "HTTP request sent, awaiting response... 200 OK\n",
      "Length: 1615177 (1.5M) [text/plain]\n",
      "Saving to: ‘appris_data.principal.forENSEMBL.txt’\n",
      "\n",
      "100%[======================================>] 1,615,177    545KB/s   in 2.9s   \n",
      "\n",
      "2020-03-07 11:48:26 (545 KB/s) - ‘appris_data.principal.forENSEMBL.txt’ saved [1615177/1615177]\n",
      "\n"
     ]
    }
   ],
   "source": [
    "# get APPRIS\n",
    "!wget http://apprisws.bioinfo.cnio.es/pub/current_release/datafiles/homo_sapiens/GRCh38/appris_data.principal.forENSEMBL.txt"
   ]
  },
  {
   "cell_type": "code",
   "execution_count": 2,
   "metadata": {},
   "outputs": [],
   "source": [
    "appris_df = pd.read_csv('appris_data.principal.forENSEMBL.txt', sep='\\t', header=None)"
   ]
  },
  {
   "cell_type": "code",
   "execution_count": 3,
   "metadata": {},
   "outputs": [],
   "source": [
    "# get strict set of transcripts\n",
    "appris_df = appris_df[appris_df[2] == 'PRINCIPAL:1']\n",
    "strict_txs = set(appris_df[1])"
   ]
  },
  {
   "cell_type": "code",
   "execution_count": 4,
   "metadata": {},
   "outputs": [],
   "source": [
    "ref_gp_dict = tools.transcripts.get_gene_pred_dict('work/reference/gencode.v33.annotation.gff3.gp')\n",
    "ref_fasta = tools.bio.get_sequence_dict('work/genome_files/Human.fa')\n",
    "ref_psl_dict = tools.psl.get_alignment_dict('work/reference/gencode.v33.annotation.gff3.psl')"
   ]
  },
  {
   "cell_type": "code",
   "execution_count": 5,
   "metadata": {},
   "outputs": [],
   "source": [
    "def codon_pair_iterator(ref_tx, tx, aln, fasta, ref_fasta):\n",
    "    \"\"\"\n",
    "    Inputs:\n",
    "    Transcript objects representing the annotation (query) transcript and the target transcript.\n",
    "    PslRow object that represents the alignment between the transcript objects.\n",
    "    pyfaidx Fasta objects that contain the genomic sequence for these two transcripts\n",
    "    Order is (target_cds_pos, target, query)\n",
    "    \"\"\"\n",
    "    target_cds = tx.get_cds(fasta)\n",
    "    query_cds = ref_tx.get_cds(ref_fasta)\n",
    "    cds_size = ref_tx.cds_size - ref_tx.offset\n",
    "    for i in range(ref_tx.offset, cds_size - cds_size % 3, 3):\n",
    "        target_cds_positions = []\n",
    "        for ref_cds_coord in range(i, i + 3):\n",
    "            ref_mrna_coord = ref_tx.cds_coordinate_to_mrna(ref_cds_coord)\n",
    "            if ref_mrna_coord is None:\n",
    "                print(ref_tx, i)\n",
    "                target_cds_positions.append(None)\n",
    "                continue\n",
    "            chrom_coord = aln.query_coordinate_to_target(ref_mrna_coord)\n",
    "            if chrom_coord is None:\n",
    "                target_cds_positions.append(None)\n",
    "            else:\n",
    "                target_cds_positions.append(tx.chromosome_coordinate_to_cds(chrom_coord))\n",
    "        if None in target_cds_positions:\n",
    "            continue\n",
    "        target_codon = target_cds[target_cds_positions[0]:target_cds_positions[0] + 3]\n",
    "        query_codon = query_cds[i:i + 3]\n",
    "        assert len(target_codon) == len(query_codon) == 3, ref_tx.name\n",
    "        yield target_cds_positions[0], target_codon, query_codon\n",
    "\n",
    "\n",
    "def dn_ds(ref_tx, tx, aln, fasta, ref_fasta):\n",
    "    synon = 0\n",
    "    non_synon = 0\n",
    "    for pos, codon, ref_codon in codon_pair_iterator(ref_tx, tx, aln, fasta, ref_fasta):\n",
    "        if codon == ref_codon:\n",
    "            continue\n",
    "        tgt_aa = tools.bio.translate_sequence(codon)\n",
    "        ref_aa = tools.bio.translate_sequence(ref_codon)\n",
    "        if tgt_aa == ref_aa:\n",
    "            synon += 1\n",
    "        else:\n",
    "            non_synon += 1\n",
    "    return synon, non_synon, tools.mathOps.format_ratio(non_synon, synon)\n"
   ]
  },
  {
   "cell_type": "code",
   "execution_count": 6,
   "metadata": {},
   "outputs": [],
   "source": [
    "def filter_psl(psl):\n",
    "    \"\"\"Filter based on unique mappings and being in the strict transcript set\"\"\"\n",
    "    alns = tools.psl.group_alignments_by_qname(tools.psl.psl_iterator(psl))\n",
    "    return {y[0].q_name: y[0] for x, y in alns.items() if x.split('.')[0] in strict_txs and len(y) == 1}"
   ]
  },
  {
   "cell_type": "code",
   "execution_count": 7,
   "metadata": {},
   "outputs": [
    {
     "name": "stdout",
     "output_type": "stream",
     "text": [
      "Chimp 1000\n",
      "Chimp 2000\n",
      "Chimp 3000\n",
      "Chimp 4000\n",
      "Chimp 5000\n",
      "Chimp 6000\n",
      "Chimp 7000\n",
      "Chimp 8000\n",
      "Chimp 9000\n",
      "Chimp 10000\n",
      "Chimp 11000\n",
      "Chimp 12000\n",
      "Chimp 13000\n",
      "Chimp 14000\n",
      "Chimp 15000\n",
      "Chimp 16000\n",
      "Chimp 17000\n",
      "Chimp 18000\n",
      "Chimp 19000\n",
      "Bonobo 1000\n",
      "Bonobo 2000\n",
      "Bonobo 3000\n",
      "Bonobo 4000\n",
      "Bonobo 5000\n",
      "Bonobo 6000\n",
      "Bonobo 7000\n",
      "Bonobo 8000\n",
      "Bonobo 9000\n",
      "Bonobo 10000\n",
      "Bonobo 11000\n",
      "Bonobo 12000\n",
      "Bonobo 13000\n",
      "Bonobo 14000\n",
      "Bonobo 15000\n",
      "Bonobo 16000\n",
      "Bonobo 17000\n",
      "Bonobo 18000\n",
      "Bonobo 19000\n",
      "Gorilla 1000\n",
      "Gorilla 2000\n",
      "Gorilla 3000\n",
      "Gorilla 4000\n",
      "Gorilla 5000\n",
      "Gorilla 6000\n",
      "Gorilla 7000\n",
      "Gorilla 8000\n",
      "Gorilla 9000\n",
      "Gorilla 10000\n",
      "Gorilla 11000\n",
      "Gorilla 12000\n",
      "Gorilla 13000\n",
      "Gorilla 14000\n",
      "Gorilla 15000\n",
      "Gorilla 16000\n",
      "Gorilla 17000\n",
      "Gorilla 18000\n",
      "Gorilla 19000\n",
      "Orangutan 1000\n",
      "Orangutan 2000\n",
      "Orangutan 3000\n",
      "Orangutan 4000\n",
      "Orangutan 5000\n",
      "Orangutan 6000\n",
      "Orangutan 7000\n",
      "Orangutan 8000\n",
      "Orangutan 9000\n",
      "Orangutan 10000\n",
      "Orangutan 11000\n",
      "Orangutan 12000\n",
      "Orangutan 13000\n",
      "Orangutan 14000\n",
      "Orangutan 15000\n",
      "Orangutan 16000\n",
      "Orangutan 17000\n",
      "Orangutan 18000\n",
      "Gibbon 1000\n",
      "Gibbon 2000\n",
      "Gibbon 3000\n",
      "Gibbon 4000\n",
      "Gibbon 5000\n",
      "Gibbon 6000\n",
      "Gibbon 7000\n",
      "Gibbon 8000\n",
      "Gibbon 9000\n",
      "Gibbon 10000\n",
      "Gibbon 11000\n",
      "Gibbon 12000\n",
      "Gibbon 13000\n",
      "Gibbon 14000\n",
      "Gibbon 15000\n",
      "Gibbon 16000\n",
      "Gibbon 18000\n",
      "Rhesus 1000\n",
      "Rhesus 2000\n",
      "Rhesus 3000\n",
      "Rhesus 4000\n",
      "Rhesus 5000\n",
      "Rhesus 6000\n",
      "Rhesus 7000\n",
      "Rhesus 8000\n",
      "Rhesus 9000\n",
      "Rhesus 10000\n",
      "Rhesus 11000\n",
      "Rhesus 12000\n",
      "Rhesus 13000\n",
      "Rhesus 14000\n",
      "Rhesus 15000\n",
      "Rhesus 16000\n",
      "Rhesus 17000\n",
      "Owl_monkey 1000\n",
      "Owl_monkey 2000\n",
      "Owl_monkey 3000\n",
      "Owl_monkey 4000\n",
      "Owl_monkey 5000\n",
      "Owl_monkey 6000\n",
      "Owl_monkey 7000\n",
      "Owl_monkey 8000\n",
      "Owl_monkey 9000\n",
      "Owl_monkey 10000\n",
      "Owl_monkey 11000\n",
      "Owl_monkey 12000\n",
      "Owl_monkey 14000\n",
      "Marmoset 1000\n",
      "Marmoset 2000\n",
      "Marmoset 3000\n",
      "Marmoset 4000\n",
      "Marmoset 5000\n",
      "Marmoset 6000\n",
      "Marmoset 7000\n",
      "Marmoset 8000\n",
      "Marmoset 9000\n",
      "Marmoset 10000\n",
      "Marmoset 11000\n",
      "Marmoset 12000\n",
      "Marmoset 13000\n",
      "Marmoset 14000\n"
     ]
    }
   ],
   "source": [
    "dfs = []\n",
    "for genome in genomes:\n",
    "    psl = f'work/transMap/{genome}.psl'\n",
    "    tm_gp = f'work/transMap/{genome}.gp'\n",
    "    fasta = f'work/genome_files/{genome}.fa'\n",
    "    alns = filter_psl(psl)\n",
    "    gp_dict = tools.transcripts.get_gene_pred_dict(tm_gp)\n",
    "    fasta = tools.bio.get_sequence_dict(fasta)\n",
    "    \n",
    "    r = []\n",
    "    for i, (aln_id, aln) in enumerate(alns.items()):\n",
    "        tx = gp_dict[aln_id]\n",
    "        tx_id = tools.nameConversions.strip_alignment_numbers(aln_id)\n",
    "        ref_aln = ref_psl_dict[tx_id]\n",
    "        ref_tx = ref_gp_dict[tx_id]\n",
    "        gene_id = ref_tx.name2\n",
    "        synon, non_synon, result = dn_ds(ref_tx, tx, aln, fasta, ref_fasta)\n",
    "        r.append([aln_id, tx_id, gene_id, synon, non_synon, result,\n",
    "                  aln.coverage, aln.identity, genome])\n",
    "        if i % 1000 == 0 and i != 0:\n",
    "            print(genome, i)\n",
    "    df = pd.DataFrame(r, columns=['AlignmentId', 'TranscriptId', 'GeneId', 'Synonymous',\n",
    "                                  'Non-synonymous', 'dN/dS', 'Coverage', 'Identity',\n",
    "                                 'Genome'])\n",
    "    dfs.append(df)\n",
    "combined_df = pd.concat(dfs)"
   ]
  },
  {
   "cell_type": "code",
   "execution_count": 12,
   "metadata": {},
   "outputs": [],
   "source": [
    "import seaborn as sns\n",
    "%matplotlib inline"
   ]
  },
  {
   "cell_type": "code",
   "execution_count": 30,
   "metadata": {},
   "outputs": [
    {
     "data": {
      "text/plain": [
       "<seaborn.axisgrid.FacetGrid at 0x7faba86edd50>"
      ]
     },
     "execution_count": 30,
     "metadata": {},
     "output_type": "execute_result"
    },
    {
     "data": {
      "image/png": "[encoded data removed]",
      "text/plain": [
       "<Figure size 360x360 with 1 Axes>"
      ]
     },
     "metadata": {
      "needs_background": "light"
     },
     "output_type": "display_data"
    }
   ],
   "source": [
    "g = sns.catplot(data=combined_df, y='dN/dS', x='Genome', kind='box', order=genomes, showfliers=False)\n",
    "g.set_xticklabels(rotation=60)"
   ]
  },
  {
   "cell_type": "code",
   "execution_count": 27,
   "metadata": {},
   "outputs": [
    {
     "data": {
      "text/plain": [
       "Genome\n",
       "Bonobo        19815\n",
       "Chimp         19823\n",
       "Gibbon        18278\n",
       "Gorilla       19261\n",
       "Marmoset      14338\n",
       "Orangutan     18976\n",
       "Owl_monkey    14459\n",
       "Rhesus        17330\n",
       "dtype: int64"
      ]
     },
     "execution_count": 27,
     "metadata": {},
     "output_type": "execute_result"
    }
   ],
   "source": [
    "combined_df.groupby('Genome').size()"
   ]
  },
  {
   "cell_type": "code",
   "execution_count": 29,
   "metadata": {},
   "outputs": [
    {
     "data": {
      "text/plain": [
       "Genome\n",
       "Bonobo        17865\n",
       "Chimp         17748\n",
       "Gibbon        17952\n",
       "Gorilla       17929\n",
       "Marmoset      14220\n",
       "Orangutan     18588\n",
       "Owl_monkey    14354\n",
       "Rhesus        17173\n",
       "dtype: int64"
      ]
     },
     "execution_count": 29,
     "metadata": {},
     "output_type": "execute_result"
    }
   ],
   "source": [
    "combined_df.dropna().groupby('Genome').size()"
   ]
  },
  {
   "cell_type": "code",
   "execution_count": 24,
   "metadata": {},
   "outputs": [
    {
     "data": {
      "text/html": [
       "<div>\n",
       "<style scoped>\n",
       "    .dataframe tbody tr th:only-of-type {\n",
       "        vertical-align: middle;\n",
       "    }\n",
       "\n",
       "    .dataframe tbody tr th {\n",
       "        vertical-align: top;\n",
       "    }\n",
       "\n",
       "    .dataframe thead th {\n",
       "        text-align: right;\n",
       "    }\n",
       "</style>\n",
       "<table border=\"1\" class=\"dataframe\">\n",
       "  <thead>\n",
       "    <tr style=\"text-align: right;\">\n",
       "      <th></th>\n",
       "      <th>dN/dS</th>\n",
       "    </tr>\n",
       "    <tr>\n",
       "      <th>Genome</th>\n",
       "      <th></th>\n",
       "    </tr>\n",
       "  </thead>\n",
       "  <tbody>\n",
       "    <tr>\n",
       "      <th>Bonobo</th>\n",
       "      <td>0.400000</td>\n",
       "    </tr>\n",
       "    <tr>\n",
       "      <th>Chimp</th>\n",
       "      <td>0.375000</td>\n",
       "    </tr>\n",
       "    <tr>\n",
       "      <th>Gibbon</th>\n",
       "      <td>0.428571</td>\n",
       "    </tr>\n",
       "    <tr>\n",
       "      <th>Gorilla</th>\n",
       "      <td>0.400000</td>\n",
       "    </tr>\n",
       "    <tr>\n",
       "      <th>Marmoset</th>\n",
       "      <td>0.491830</td>\n",
       "    </tr>\n",
       "    <tr>\n",
       "      <th>Orangutan</th>\n",
       "      <td>0.428571</td>\n",
       "    </tr>\n",
       "    <tr>\n",
       "      <th>Owl_monkey</th>\n",
       "      <td>0.479452</td>\n",
       "    </tr>\n",
       "    <tr>\n",
       "      <th>Rhesus</th>\n",
       "      <td>0.400000</td>\n",
       "    </tr>\n",
       "  </tbody>\n",
       "</table>\n",
       "</div>"
      ],
      "text/plain": [
       "               dN/dS\n",
       "Genome              \n",
       "Bonobo      0.400000\n",
       "Chimp       0.375000\n",
       "Gibbon      0.428571\n",
       "Gorilla     0.400000\n",
       "Marmoset    0.491830\n",
       "Orangutan   0.428571\n",
       "Owl_monkey  0.479452\n",
       "Rhesus      0.400000"
      ]
     },
     "execution_count": 24,
     "metadata": {},
     "output_type": "execute_result"
    }
   ],
   "source": [
    "combined_df.fillna(0)[['Genome', 'dN/dS']].groupby('Genome').median()"
   ]
  },
  {
   "cell_type": "code",
   "execution_count": 25,
   "metadata": {},
   "outputs": [],
   "source": [
    "combined_df.to_csv('dn_ds.csv')"
   ]
  },
  {
   "cell_type": "code",
   "execution_count": null,
   "metadata": {},
   "outputs": [],
   "source": []
  }
 ],
 "metadata": {
  "kernelspec": {
   "display_name": "Python 3",
   "language": "python",
   "name": "python3"
  },
  "language_info": {
   "codemirror_mode": {
    "name": "ipython",
    "version": 3
   },
   "file_extension": ".py",
   "mimetype": "text/x-python",
   "name": "python",
   "nbconvert_exporter": "python",
   "pygments_lexer": "ipython3",
   "version": "3.7.6"
  }
 },
 "nbformat": 4,
 "nbformat_minor": 4
}
