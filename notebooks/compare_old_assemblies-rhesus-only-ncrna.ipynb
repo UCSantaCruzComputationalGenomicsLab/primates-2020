{
 "cells": [
  {
   "cell_type": "code",
   "execution_count": 1,
   "metadata": {},
   "outputs": [],
   "source": [
    "from tools.transcripts import *\n",
    "from tools.psl import *\n",
    "import pandas as pd\n",
    "from tools.mathOps import *\n",
    "from tools.sqlInterface import *\n",
    "from tools.nameConversions import *\n",
    "%matplotlib inline\n",
    "import seaborn as sns\n",
    "import pysam\n",
    "from glob import glob\n",
    "import os"
   ]
  },
  {
   "cell_type": "code",
   "execution_count": 39,
   "metadata": {},
   "outputs": [],
   "source": [
    "new_dir = '/public/groups/cgl/cat/primates_evan/work/transMap'\n",
    "old_dir = '/public/groups/cgl/cat/primates_evan/original_primates/work/transMap/'\n",
    "genome = 'Rhesus'"
   ]
  },
  {
   "cell_type": "code",
   "execution_count": 3,
   "metadata": {},
   "outputs": [],
   "source": [
    "ref_df = load_annotation('/public/groups/cgl/cat/primates_evan/out/databases/Human.db')"
   ]
  },
  {
   "cell_type": "code",
   "execution_count": 42,
   "metadata": {},
   "outputs": [],
   "source": [
    "def load_metrics(psl_dict):\n",
    "    m = [[strip_alignment_numbers(x.q_name), f'{x.t_name}:{x.t_start}-{x.t_end}', x.coverage, x.identity] for x in psl_dict.values()]\n",
    "    return pd.DataFrame(m, columns=['TranscriptId', 'Position', 'Coverage', 'Identity'])\n",
    "\n",
    "gene_sets = []\n",
    "\n",
    "new_psl = get_alignment_dict(f'{new_dir}/{genome}.filtered.psl')\n",
    "old_psl = get_alignment_dict(f'{old_dir}/{genome}.filtered.psl')\n",
    "new_metrics_df = load_metrics(new_psl)\n",
    "old_metrics_df = load_metrics(old_psl)\n",
    "merged = new_metrics_df.merge(old_metrics_df, on='TranscriptId', \n",
    "                              suffixes=['_Mmul_10', '_Mmul_8.0.1'], how='outer')\n",
    "df = merged"
   ]
  },
  {
   "cell_type": "code",
   "execution_count": 43,
   "metadata": {},
   "outputs": [],
   "source": [
    "df = df.merge(ref_df[['TranscriptId', 'TranscriptBiotype']], on='TranscriptId')"
   ]
  },
  {
   "cell_type": "code",
   "execution_count": 46,
   "metadata": {},
   "outputs": [],
   "source": [
    "r = []\n",
    "for biotype, s in df.groupby('TranscriptBiotype'):\n",
    "    missing_new = len(s[s['Coverage_Mmul_10'].isnull()])\n",
    "    missing_old = len(s[s['Coverage_Mmul_8.0.1'].isnull()])\n",
    "    tot = len(s)\n",
    "    s = s.dropna()\n",
    "    average_cov_change = (s['Coverage_Mmul_10'] - s['Coverage_Mmul_8.0.1']).mean()\n",
    "    r.append([biotype, tot, missing_new, missing_old, average_cov_change])"
   ]
  },
  {
   "cell_type": "code",
   "execution_count": 47,
   "metadata": {},
   "outputs": [],
   "source": [
    "rdf = pd.DataFrame(r, columns=['biotype', 'num_in_gencode', 'missing_new', 'missing_old', 'avg_cov_change'])"
   ]
  },
  {
   "cell_type": "code",
   "execution_count": 48,
   "metadata": {},
   "outputs": [],
   "source": [
    "rdf[rdf.biotype.str.contains('RNA')].to_csv('ncrna.csv')"
   ]
  },
  {
   "cell_type": "code",
   "execution_count": 49,
   "metadata": {},
   "outputs": [
    {
     "name": "stderr",
     "output_type": "stream",
     "text": [
      "/public/home/ifiddes/anaconda2/envs/cat3.7/lib/python3.7/site-packages/ipykernel_launcher.py:2: SettingWithCopyWarning: \n",
      "A value is trying to be set on a copy of a slice from a DataFrame.\n",
      "Try using .loc[row_indexer,col_indexer] = value instead\n",
      "\n",
      "See the caveats in the documentation: https://pandas.pydata.org/pandas-docs/stable/user_guide/indexing.html#returning-a-view-versus-a-copy\n",
      "  \n"
     ]
    }
   ],
   "source": [
    "q=rdf[rdf.biotype.str.contains('RNA')]\n",
    "q['delta'] = q['missing_new'] - q['missing_old']"
   ]
  },
  {
   "cell_type": "code",
   "execution_count": 50,
   "metadata": {},
   "outputs": [
    {
     "data": {
      "text/html": [
       "<div>\n",
       "<style scoped>\n",
       "    .dataframe tbody tr th:only-of-type {\n",
       "        vertical-align: middle;\n",
       "    }\n",
       "\n",
       "    .dataframe tbody tr th {\n",
       "        vertical-align: top;\n",
       "    }\n",
       "\n",
       "    .dataframe thead th {\n",
       "        text-align: right;\n",
       "    }\n",
       "</style>\n",
       "<table border=\"1\" class=\"dataframe\">\n",
       "  <thead>\n",
       "    <tr style=\"text-align: right;\">\n",
       "      <th></th>\n",
       "      <th>biotype</th>\n",
       "      <th>num_in_gencode</th>\n",
       "      <th>missing_new</th>\n",
       "      <th>missing_old</th>\n",
       "      <th>avg_cov_change</th>\n",
       "      <th>delta</th>\n",
       "    </tr>\n",
       "  </thead>\n",
       "  <tbody>\n",
       "    <tr>\n",
       "      <th>7</th>\n",
       "      <td>Mt_tRNA</td>\n",
       "      <td>8</td>\n",
       "      <td>0</td>\n",
       "      <td>8</td>\n",
       "      <td>NaN</td>\n",
       "      <td>-8</td>\n",
       "    </tr>\n",
       "    <tr>\n",
       "      <th>15</th>\n",
       "      <td>lncRNA</td>\n",
       "      <td>44042</td>\n",
       "      <td>689</td>\n",
       "      <td>1420</td>\n",
       "      <td>0.003738</td>\n",
       "      <td>-731</td>\n",
       "    </tr>\n",
       "    <tr>\n",
       "      <th>16</th>\n",
       "      <td>miRNA</td>\n",
       "      <td>1809</td>\n",
       "      <td>23</td>\n",
       "      <td>75</td>\n",
       "      <td>0.005891</td>\n",
       "      <td>-52</td>\n",
       "    </tr>\n",
       "    <tr>\n",
       "      <th>17</th>\n",
       "      <td>misc_RNA</td>\n",
       "      <td>2106</td>\n",
       "      <td>33</td>\n",
       "      <td>64</td>\n",
       "      <td>0.011977</td>\n",
       "      <td>-31</td>\n",
       "    </tr>\n",
       "    <tr>\n",
       "      <th>25</th>\n",
       "      <td>rRNA</td>\n",
       "      <td>28</td>\n",
       "      <td>0</td>\n",
       "      <td>8</td>\n",
       "      <td>0.018268</td>\n",
       "      <td>-8</td>\n",
       "    </tr>\n",
       "    <tr>\n",
       "      <th>26</th>\n",
       "      <td>rRNA_pseudogene</td>\n",
       "      <td>441</td>\n",
       "      <td>7</td>\n",
       "      <td>14</td>\n",
       "      <td>0.006534</td>\n",
       "      <td>-7</td>\n",
       "    </tr>\n",
       "    <tr>\n",
       "      <th>29</th>\n",
       "      <td>sRNA</td>\n",
       "      <td>3</td>\n",
       "      <td>0</td>\n",
       "      <td>0</td>\n",
       "      <td>-0.005747</td>\n",
       "      <td>0</td>\n",
       "    </tr>\n",
       "    <tr>\n",
       "      <th>30</th>\n",
       "      <td>scRNA</td>\n",
       "      <td>1</td>\n",
       "      <td>0</td>\n",
       "      <td>0</td>\n",
       "      <td>-0.015000</td>\n",
       "      <td>0</td>\n",
       "    </tr>\n",
       "    <tr>\n",
       "      <th>31</th>\n",
       "      <td>scaRNA</td>\n",
       "      <td>46</td>\n",
       "      <td>2</td>\n",
       "      <td>0</td>\n",
       "      <td>-0.001991</td>\n",
       "      <td>2</td>\n",
       "    </tr>\n",
       "    <tr>\n",
       "      <th>32</th>\n",
       "      <td>snRNA</td>\n",
       "      <td>1714</td>\n",
       "      <td>45</td>\n",
       "      <td>98</td>\n",
       "      <td>0.000625</td>\n",
       "      <td>-53</td>\n",
       "    </tr>\n",
       "    <tr>\n",
       "      <th>33</th>\n",
       "      <td>snoRNA</td>\n",
       "      <td>862</td>\n",
       "      <td>20</td>\n",
       "      <td>39</td>\n",
       "      <td>0.004282</td>\n",
       "      <td>-19</td>\n",
       "    </tr>\n",
       "    <tr>\n",
       "      <th>40</th>\n",
       "      <td>vaultRNA</td>\n",
       "      <td>1</td>\n",
       "      <td>0</td>\n",
       "      <td>0</td>\n",
       "      <td>0.000000</td>\n",
       "      <td>0</td>\n",
       "    </tr>\n",
       "  </tbody>\n",
       "</table>\n",
       "</div>"
      ],
      "text/plain": [
       "            biotype  num_in_gencode  missing_new  missing_old  avg_cov_change  \\\n",
       "7           Mt_tRNA               8            0            8             NaN   \n",
       "15           lncRNA           44042          689         1420        0.003738   \n",
       "16            miRNA            1809           23           75        0.005891   \n",
       "17         misc_RNA            2106           33           64        0.011977   \n",
       "25             rRNA              28            0            8        0.018268   \n",
       "26  rRNA_pseudogene             441            7           14        0.006534   \n",
       "29             sRNA               3            0            0       -0.005747   \n",
       "30            scRNA               1            0            0       -0.015000   \n",
       "31           scaRNA              46            2            0       -0.001991   \n",
       "32            snRNA            1714           45           98        0.000625   \n",
       "33           snoRNA             862           20           39        0.004282   \n",
       "40         vaultRNA               1            0            0        0.000000   \n",
       "\n",
       "    delta  \n",
       "7      -8  \n",
       "15   -731  \n",
       "16    -52  \n",
       "17    -31  \n",
       "25     -8  \n",
       "26     -7  \n",
       "29      0  \n",
       "30      0  \n",
       "31      2  \n",
       "32    -53  \n",
       "33    -19  \n",
       "40      0  "
      ]
     },
     "execution_count": 50,
     "metadata": {},
     "output_type": "execute_result"
    }
   ],
   "source": [
    "q"
   ]
  },
  {
   "cell_type": "code",
   "execution_count": 51,
   "metadata": {},
   "outputs": [],
   "source": [
    "filt_df = df[df.TranscriptBiotype.str.contains('RNA')]"
   ]
  },
  {
   "cell_type": "code",
   "execution_count": 55,
   "metadata": {},
   "outputs": [],
   "source": [
    "filt_df.to_csv('ncrna_full_table_mmul.csv')"
   ]
  },
  {
   "cell_type": "code",
   "execution_count": null,
   "metadata": {},
   "outputs": [],
   "source": []
  }
 ],
 "metadata": {
  "kernelspec": {
   "display_name": "Python 3",
   "language": "python",
   "name": "python3"
  },
  "language_info": {
   "codemirror_mode": {
    "name": "ipython",
    "version": 3
   },
   "file_extension": ".py",
   "mimetype": "text/x-python",
   "name": "python",
   "nbconvert_exporter": "python",
   "pygments_lexer": "ipython3",
   "version": "3.7.6"
  }
 },
 "nbformat": 4,
 "nbformat_minor": 4
}
