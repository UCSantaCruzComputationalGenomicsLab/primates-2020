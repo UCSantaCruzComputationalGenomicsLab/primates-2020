{
 "cells": [
  {
   "cell_type": "code",
   "execution_count": 1,
   "metadata": {},
   "outputs": [],
   "source": [
    "from glob import glob\n",
    "from tools.procOps import *\n",
    "from tools.fileOps import *"
   ]
  },
  {
   "cell_type": "code",
   "execution_count": 12,
   "metadata": {},
   "outputs": [],
   "source": [
    "rnaseq = [x.split() for x in open('rnaseq/accessions')]"
   ]
  },
  {
   "cell_type": "code",
   "execution_count": 25,
   "metadata": {},
   "outputs": [],
   "source": [
    "cfg = [x.split() for x in open('assemblies/cactus.config')][2:]\n",
    "d = {x[0].lower().replace('*', ''): x[1].split('assemblies/')[1].rsplit('.', 1)[0] for x in cfg}\n",
    "d['orang'] = d['orangutan']"
   ]
  },
  {
   "cell_type": "code",
   "execution_count": 26,
   "metadata": {},
   "outputs": [],
   "source": [
    "for genome, accession in rnaseq:\n",
    "    !mkdir -p rnaseq/{genome}\n",
    "    ref = os.path.join('star_references/', d[genome])\n",
    "    assert os.path.exists(ref)\n",
    "    files = glob('rnaseq/{}*'.format(accession))\n",
    "    cmd = ['STAR', '--runThreadN', '8', '--readFilesCommand', 'zcat', '--outSAMtype', 'BAM', 'SortedByCoordinate',\n",
    "          '--outFileNamePrefix', os.path.join('rnaseq', genome, accession + '_'), '--genomeDir', ref,\n",
    "          '--readFilesIn']\n",
    "    cmd.extend(files)\n",
    "    run_proc(cmd)"
   ]
  },
  {
   "cell_type": "code",
   "execution_count": null,
   "metadata": {},
   "outputs": [],
   "source": []
  }
 ],
 "metadata": {
  "kernelspec": {
   "display_name": "Python 2",
   "language": "python",
   "name": "python2"
  },
  "language_info": {
   "codemirror_mode": {
    "name": "ipython",
    "version": 2
   },
   "file_extension": ".py",
   "mimetype": "text/x-python",
   "name": "python",
   "nbconvert_exporter": "python",
   "pygments_lexer": "ipython2",
   "version": "2.7.15"
  }
 },
 "nbformat": 4,
 "nbformat_minor": 2
}
