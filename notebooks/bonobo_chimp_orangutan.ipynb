{
 "cells": [
  {
   "cell_type": "code",
   "execution_count": 9,
   "metadata": {},
   "outputs": [],
   "source": [
    "import pandas as pd\n",
    "import os\n",
    "import json\n",
    "from collections import *\n",
    "from cat.plots import *"
   ]
  },
  {
   "cell_type": "code",
   "execution_count": 15,
   "metadata": {},
   "outputs": [],
   "source": [
    "ordered_genomes = [\"Bonobo\", \"Chimp\", \"Gorilla\"]\n",
    "annot_db = \"/public/groups/cgl/cat/primates_evan/v2/out/databases/Human.db\"\n",
    "metric_dir = \"/public/groups/cgl/cat/primates_evan/v2/bonobo-only-v2.1/plot_data/\""
   ]
  },
  {
   "cell_type": "code",
   "execution_count": 3,
   "metadata": {},
   "outputs": [],
   "source": [
    "gene_biotype_map = tools.sqlInterface.get_gene_biotype_map(annot_db)"
   ]
  },
  {
   "cell_type": "code",
   "execution_count": 6,
   "metadata": {},
   "outputs": [],
   "source": [
    "biotypes = sorted(tools.sqlInterface.get_transcript_biotypes(annot_db))"
   ]
  },
  {
   "cell_type": "code",
   "execution_count": 16,
   "metadata": {},
   "outputs": [],
   "source": [
    "consensus_data = OrderedDict([[genome, json.load(open(os.path.join(metric_dir, genome, \"consensus.json\")))] for genome in ordered_genomes])"
   ]
  },
  {
   "cell_type": "code",
   "execution_count": 17,
   "metadata": {},
   "outputs": [],
   "source": [
    "biotype_map = {\n",
    "    '3prime_overlapping_ncRNA': 'ncRNA',\n",
    "    '3prime_overlapping_ncrna': 'ncRNA',\n",
    "    'IG_C_gene': 'C_segment',\n",
    "    'IG_C_pseudogene': 'C_segment',\n",
    "    'IG_D_gene': 'D_region',\n",
    "    'IG_D_pseudogene': 'D_region',\n",
    "    'IG_J_gene': 'J_segment',\n",
    "    'IG_J_pseudogene': 'J_segment',\n",
    "    'IG_V_gene': 'V_region',\n",
    "    'IG_V_pseudogene': 'V_region',\n",
    "    'IG_pseudogene': 'J_segment',\n",
    "    'Mt_rRNA': 'rRNA',\n",
    "    'Mt_tRNA': 'tRNA',\n",
    "    'TEC': 'mRNA',\n",
    "    'TR_C_gene': 'C_region',\n",
    "    'TR_C_pseudogene': 'C_region',\n",
    "    'TR_J_gene': 'J_segment',\n",
    "    'TR_J_pseudogene': 'J_segment',\n",
    "    'TR_V_gene': 'V_region',\n",
    "    'TR_V_pseudogene': 'V_region',\n",
    "    'antisense': 'ncRNA',\n",
    "    'antisense_RNA': 'ncRNA',\n",
    "    'bidirectional_promoter_lncRNA': 'ncRNA',\n",
    "    'bidirectional_promoter_lncrna': 'ncRNA',\n",
    "    'lincRNA': 'ncRNA',\n",
    "    'lncRNA': 'ncRNA',\n",
    "    'macro_lncRNA': 'ncRNA',\n",
    "    'miRNA': 'ncRNA',\n",
    "    'misc_RNA': 'ncRNA',\n",
    "    'non_coding': 'ncRNA',\n",
    "    'non_stop_decay': 'mRNA',\n",
    "    'nonsense_mediated_decay': 'mRNA',\n",
    "    'polymorphic_pseudogene': 'mRNA',  # coding in some humans\n",
    "    'processed_pseudogene': 'pseudogene',\n",
    "    'processed_transcript': 'ncRNA',\n",
    "    'protein_coding': 'mRNA',\n",
    "    'pseudogene': 'pseudogene',\n",
    "    'rRNA_pseudogene': 'pseudogene',\n",
    "    'rRNA': 'rRNA',\n",
    "    'retained_intron': 'ncRNA',\n",
    "    'ribozyme': 'ncRNA',\n",
    "    'sRNA': 'ncRNA',\n",
    "    'scaRNA': 'ncRNA',\n",
    "    'scRNA': 'ncRNA',\n",
    "    'sense_intronic': 'ncRNA',\n",
    "    'sense_overlapping': 'ncRNA',\n",
    "    'snRNA': 'ncRNA',\n",
    "    'snoRNA': 'ncRNA',\n",
    "    'transcribed_processed_pseudogene': 'pseudogene',\n",
    "    'transcribed_unitary_pseudogene': 'pseudogene',\n",
    "    'transcribed_unprocessed_pseudogene': 'pseudogene',\n",
    "    'translated_unprocessed_pseudogene': 'pseudogene',\n",
    "    'translated_processed_pseudogene': 'pseudogene',\n",
    "    'unitary_pseudogene': 'pseudogene',   # only in human\n",
    "    'unknown_likely_coding': 'denovo',\n",
    "    'unprocessed_pseudogene': 'pseudogene',\n",
    "    'vaultRNA': 'ncRNA',\n",
    "    'ncRNA': 'ncRNA',\n",
    "    'tRNA': 'tRNA'}"
   ]
  },
  {
   "cell_type": "code",
   "execution_count": 21,
   "metadata": {},
   "outputs": [],
   "source": [
    "gene_missing_df = json_biotype_counter_to_df(consensus_data, 'Gene Missing')\n",
    "transcript_missing_df = json_biotype_counter_to_df(consensus_data, 'Transcript Missing')"
   ]
  },
  {
   "cell_type": "code",
   "execution_count": 38,
   "metadata": {},
   "outputs": [],
   "source": [
    "c = Counter()\n",
    "for (genome, biotype), s in gene_missing_df.groupby([\"genome\", 'Gene Missing']):\n",
    "    b = biotype_map.get(biotype)\n",
    "    assert len(s) == 1\n",
    "    if b:\n",
    "        c[(genome, b, 'Gene')] += s.iloc[0]['count']\n",
    "for (genome, biotype), s in transcript_missing_df.groupby([\"genome\", 'Transcript Missing']):\n",
    "    b = biotype_map.get(biotype)\n",
    "    assert len(s) == 1\n",
    "    if b:\n",
    "        c[(genome, b, 'Transcript')] += s.iloc[0]['count']"
   ]
  },
  {
   "cell_type": "code",
   "execution_count": 63,
   "metadata": {},
   "outputs": [],
   "source": [
    "missing_df = pd.DataFrame.from_dict({\"col\": c}, orient=\"columns\").reset_index()\n",
    "missing_df.columns = ['Genome', \"Biotype\", \"Annotation Type\", \"Number of items\"]\n",
    "missing_df = pd.melt(missing_df, id_vars=['Genome', \"Biotype\", \"Annotation Type\"])"
   ]
  },
  {
   "cell_type": "code",
   "execution_count": 65,
   "metadata": {},
   "outputs": [],
   "source": [
    "missing_df = missing_df[missing_df.Biotype.isin([\"mRNA\", \"ncRNA\", \"pseudogene\"])]"
   ]
  },
  {
   "cell_type": "code",
   "execution_count": 94,
   "metadata": {},
   "outputs": [],
   "source": [
    "with PdfPages(\"bonbo_missing.pdf\") as pdf:\n",
    "    sns.catplot(data=missing_df, x='Genome', y='value', col=\"variable\", kind=\"bar\", hue=\"Biotype\",\n",
    "               row=\"Annotation Type\", sharey=False)\n",
    "    g.fig.suptitle(\"Missing genes by category in final CAT annotation sets\")\n",
    "    multipage_close(pdf, tight_layout=False)"
   ]
  },
  {
   "cell_type": "code",
   "execution_count": 84,
   "metadata": {},
   "outputs": [],
   "source": [
    "consensus_df = pd.concat([pd.DataFrame.from_dict(consensus_data[genome]['Consensus Indels'], orient='index').T\n",
    "                                  for genome in ordered_genomes])\n",
    "consensus_df['genome'] = ordered_genomes\n",
    "consensus_df = pd.melt(consensus_df, id_vars=['genome'],\n",
    "             value_vars=['CodingDeletion', 'CodingInsertion', 'CodingMult3Indel'])"
   ]
  },
  {
   "cell_type": "code",
   "execution_count": 93,
   "metadata": {},
   "outputs": [],
   "source": [
    "with PdfPages(\"bonobo_indels.pdf\") as pdf:\n",
    "    g = sns.catplot(data=consensus_df, x='genome', y='value', hue=\"variable\", kind=\"bar\", sharey=False)\n",
    "    g.fig.suptitle(\"Indel rates in final CAT annotation sets\")\n",
    "    multipage_close(pdf, tight_layout=False)"
   ]
  },
  {
   "cell_type": "code",
   "execution_count": 95,
   "metadata": {},
   "outputs": [],
   "source": [
    "tm_data = OrderedDict([[genome, json.load(open(os.path.join(metric_dir, genome, \"filter_tm_metrics.json\")))] for genome in ordered_genomes])"
   ]
  },
  {
   "cell_type": "code",
   "execution_count": 96,
   "metadata": {},
   "outputs": [],
   "source": [
    "split_df = json_biotype_counter_to_df(tm_data, 'Split Genes')\n",
    "split_df.columns = ['category', 'count', 'genome']"
   ]
  },
  {
   "cell_type": "code",
   "execution_count": 102,
   "metadata": {},
   "outputs": [],
   "source": [
    "with PdfPages(\"bonobo_split_genes.pdf\") as pdf:\n",
    "    g = sns.catplot(data=split_df, x='genome', y='count', hue=\"category\", kind=\"bar\", sharey=False)\n",
    "    g.fig.suptitle(\"Discontiguous genes\")\n",
    "    multipage_close(pdf, tight_layout=False)"
   ]
  },
  {
   "cell_type": "code",
   "execution_count": null,
   "metadata": {},
   "outputs": [],
   "source": []
  }
 ],
 "metadata": {
  "kernelspec": {
   "display_name": "Python 3",
   "language": "python",
   "name": "python3"
  },
  "language_info": {
   "codemirror_mode": {
    "name": "ipython",
    "version": 3
   },
   "file_extension": ".py",
   "mimetype": "text/x-python",
   "name": "python",
   "nbconvert_exporter": "python",
   "pygments_lexer": "ipython3",
   "version": "3.7.6"
  }
 },
 "nbformat": 4,
 "nbformat_minor": 4
}
