{
 "cells": [
  {
   "cell_type": "code",
   "execution_count": 1,
   "metadata": {},
   "outputs": [],
   "source": [
    "# what genes experienced putative gene family collapse?"
   ]
  },
  {
   "cell_type": "code",
   "execution_count": 40,
   "metadata": {},
   "outputs": [],
   "source": [
    "import pandas as pd\n",
    "from tools.sqlInterface import *\n",
    "from collections import *"
   ]
  },
  {
   "cell_type": "code",
   "execution_count": 7,
   "metadata": {},
   "outputs": [],
   "source": [
    "df = load_filter_evaluation('/public/groups/cgl/cat/primates_evan/out/databases/Rhesus.db')"
   ]
  },
  {
   "cell_type": "code",
   "execution_count": 9,
   "metadata": {},
   "outputs": [],
   "source": [
    "ref_df = load_annotation('/public/groups/cgl/cat/primates_evan/out/databases/Human.db')"
   ]
  },
  {
   "cell_type": "code",
   "execution_count": 20,
   "metadata": {},
   "outputs": [],
   "source": [
    "merged = df.merge(ref_df, on=['GeneId', 'TranscriptId'])"
   ]
  },
  {
   "cell_type": "code",
   "execution_count": 21,
   "metadata": {},
   "outputs": [],
   "source": [
    "merged_collapsed = merged[~merged.CollapsedGeneIds.isnull()]"
   ]
  },
  {
   "cell_type": "code",
   "execution_count": 71,
   "metadata": {},
   "outputs": [],
   "source": [
    "r = []\n",
    "# this was actually calculated per-gene in the original analysis, so we can just look at the first transcript\n",
    "for (gene_biotype, gene_id, gene_name), d in merged_collapsed.groupby(['GeneBiotype', 'GeneId', 'GeneName']):\n",
    "    d = d.iloc[0]\n",
    "    r.append([gene_id, gene_name, gene_biotype, d.CollapsedGeneIds.count(',') + 1, d.CollapsedGeneIds, d.CollapsedGeneNames])\n",
    "collapsed_df = pd.DataFrame(r, columns=['GeneId', 'GeneName', 'GeneBiotype', 'NumberOfCollapsedCopies', 'CollapsedGeneIds', 'CollapsedGeneNames'])"
   ]
  },
  {
   "cell_type": "code",
   "execution_count": 72,
   "metadata": {},
   "outputs": [
    {
     "data": {
      "text/plain": [
       "(Counter({2: 295,\n",
       "          1: 473,\n",
       "          3: 28,\n",
       "          4: 17,\n",
       "          7: 1,\n",
       "          17: 1,\n",
       "          5: 7,\n",
       "          6: 1,\n",
       "          8: 2,\n",
       "          14: 1,\n",
       "          21: 1}),\n",
       " 827)"
      ]
     },
     "execution_count": 72,
     "metadata": {},
     "output_type": "execute_result"
    }
   ],
   "source": [
    "c = collapsed_df[collapsed_df.GeneBiotype == 'protein_coding']\n",
    "Counter(c.NumberOfCollapsedCopies), len(c)"
   ]
  },
  {
   "cell_type": "code",
   "execution_count": 78,
   "metadata": {},
   "outputs": [
    {
     "name": "stdout",
     "output_type": "stream",
     "text": [
      "550\n"
     ]
    }
   ],
   "source": [
    "# split gene analysis\n",
    "# this was done per-transcript, so the intervals may vary per transcript\n",
    "split = merged[~merged.PossibleSplitGeneLocations.isnull()]\n",
    "split = split[['GeneId', 'GeneName', 'TranscriptId', 'PossibleSplitGeneLocations']].sort_values(['GeneId', 'GeneName'])\n",
    "split.columns = ['Gene ID', 'Gene Name', 'Transcript ID', 'Locations of split mappings']\n",
    "print(len(set(split['Gene ID'])))"
   ]
  },
  {
   "cell_type": "code",
   "execution_count": 92,
   "metadata": {},
   "outputs": [
    {
     "data": {
      "text/plain": [
       "(Counter({2: 571,\n",
       "          3: 267,\n",
       "          1: 2512,\n",
       "          4: 108,\n",
       "          6: 67,\n",
       "          8: 32,\n",
       "          11: 16,\n",
       "          9: 18,\n",
       "          5: 86,\n",
       "          17: 9,\n",
       "          7: 44,\n",
       "          14: 7,\n",
       "          10: 9,\n",
       "          13: 7,\n",
       "          24: 2,\n",
       "          34: 1,\n",
       "          12: 10,\n",
       "          30: 1,\n",
       "          18: 1,\n",
       "          20: 2,\n",
       "          16: 3,\n",
       "          21: 3,\n",
       "          22: 2,\n",
       "          43: 1,\n",
       "          15: 3,\n",
       "          26: 3,\n",
       "          23: 1}),\n",
       " 3786)"
      ]
     },
     "execution_count": 92,
     "metadata": {},
     "output_type": "execute_result"
    }
   ],
   "source": [
    "# this was done per gene\n",
    "paralogy = merged[~merged.GeneAlternateLoci.isnull()]\n",
    "paralogy = paralogy[['GeneId', 'GeneName', 'GeneBiotype', 'GeneAlternateLoci']].groupby('GeneId').first().reset_index()\n",
    "paralogy.columns = ['Gene ID', 'Gene Name', 'Gene Biotype', 'Loci of possible paralogous mappings']\n",
    "paralogy['Number of possible paralogous mappings'] = [x.count(',') + 1 for x in paralogy['Loci of possible paralogous mappings']]\n",
    "paralogy = paralogy.sort_values(['Gene Biotype', 'Gene ID', 'Gene Name'])\n",
    "Counter(paralogy['Number of possible paralogous mappings']), len(paralogy)"
   ]
  },
  {
   "cell_type": "code",
   "execution_count": 93,
   "metadata": {},
   "outputs": [
    {
     "data": {
      "text/plain": [
       "(Counter({1: 711,\n",
       "          2: 116,\n",
       "          3: 62,\n",
       "          7: 18,\n",
       "          5: 13,\n",
       "          43: 1,\n",
       "          17: 6,\n",
       "          14: 1,\n",
       "          8: 9,\n",
       "          22: 1,\n",
       "          6: 8,\n",
       "          4: 16,\n",
       "          15: 2,\n",
       "          26: 1,\n",
       "          9: 2}),\n",
       " 967)"
      ]
     },
     "execution_count": 93,
     "metadata": {},
     "output_type": "execute_result"
    }
   ],
   "source": [
    "paralogy_coding = paralogy[paralogy['Gene Biotype'] == 'protein_coding']\n",
    "Counter(paralogy_coding['Number of possible paralogous mappings']), len(paralogy_coding)"
   ]
  },
  {
   "cell_type": "code",
   "execution_count": null,
   "metadata": {},
   "outputs": [],
   "source": [
    "with pd.ExcelWriter('rhesus_transMap_metrics.xlsx') as fh:\n",
    "    collapsed_df.to_excel(fh, sheet_name='Gene Family Collapse')\n",
    "    split.to_excel(fh, sheet_name='Split Gene Analysis')\n",
    "    paralogy.to_excel(fh, sheet_name='Putative Paralogous Loci')"
   ]
  },
  {
   "cell_type": "code",
   "execution_count": null,
   "metadata": {},
   "outputs": [],
   "source": []
  }
 ],
 "metadata": {
  "kernelspec": {
   "display_name": "Python 3",
   "language": "python",
   "name": "python3"
  },
  "language_info": {
   "codemirror_mode": {
    "name": "ipython",
    "version": 3
   },
   "file_extension": ".py",
   "mimetype": "text/x-python",
   "name": "python",
   "nbconvert_exporter": "python",
   "pygments_lexer": "ipython3",
   "version": "3.7.6"
  }
 },
 "nbformat": 4,
 "nbformat_minor": 4
}
