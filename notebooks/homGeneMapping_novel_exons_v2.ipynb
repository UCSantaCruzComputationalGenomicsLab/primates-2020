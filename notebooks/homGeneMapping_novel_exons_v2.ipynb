{
 "cells": [
  {
   "cell_type": "code",
   "execution_count": 1,
   "metadata": {},
   "outputs": [],
   "source": [
    "!mkdir hgm_pb_only_v2 -p\n",
    "import os\n",
    "os.chdir('hgm_pb_only_v2')\n",
    "from tools.procOps import *\n",
    "from tools.fileOps import *\n",
    "import pandas as pd\n",
    "from cat.hints_db import *\n",
    "from tools.misc import *\n",
    "from tools.intervals import *\n",
    "from tools.transcripts import *\n",
    "import itertools\n",
    "import re\n",
    "from cat.hgm import extract_exon_hints\n",
    "from collections import *\n",
    "from tools.bio import *\n",
    "from cat.plots import *\n",
    "from tools.psl import *\n",
    "import matplotlib.pyplot as plt\n",
    "import seaborn as sns\n",
    "%matplotlib inline"
   ]
  },
  {
   "cell_type": "code",
   "execution_count": 2,
   "metadata": {
    "collapsed": true
   },
   "outputs": [],
   "source": [
    "# to run homGeneMapping, I need to use the existing hints database which contains the IsoSeq hints\n",
    "\n",
    "# for each genome, I construct a reference GTF consisting of ab-initio exons and CDS\n",
    "# I then lift them over to target genomes\n",
    "\n",
    "# we want to use both CDS and exon intervals because CGP has a coding-only model, and so the CDS interval\n",
    "# will be the exonic interval\n",
    "\n",
    "# I also construct a supplemental GFF that consists of the transMap exons (or gencode for human)\n",
    "# these will let me know which exons are novel"
   ]
  },
  {
   "cell_type": "code",
   "execution_count": 4,
   "metadata": {},
   "outputs": [],
   "source": [
    "genomes = ['Human', 'Bonobo']"
   ]
  },
  {
   "cell_type": "code",
   "execution_count": 3,
   "metadata": {},
   "outputs": [],
   "source": [
    "gencode_gp = '/public/groups/cgl/cat/primates_evan/work/reference/gencode.v33.annotation.gff3.gp'\n",
    "\n",
    "def gene_pred_to_gtf(tx):\n",
    "    \"\"\"Extract both exons and CDS intervals as CDS\"\"\"\n",
    "    for exon in tx.exon_intervals:\n",
    "        yield [tx.chromosome, 'CAT', 'exon', exon.start + 1, exon.stop, '.', exon.strand, '.', 'transcript_id \"{}; gene_id \"{}\"'.format(tx.name, tx.name2)]\n",
    "    cds_tx = Transcript(tx.get_bed(new_start=tx.thick_start, new_stop=tx.thick_stop))\n",
    "    for exon in cds_tx.exon_intervals:\n",
    "        yield [tx.chromosome, 'CAT', 'exon', exon.start + 1, exon.stop, '.', exon.strand, '.', 'transcript_id \"{}_cds\"; gene_id \"{}\"'.format(tx.name, tx.name2)]\n",
    "        \n",
    "def gene_pred_to_gff(tx):\n",
    "    \"\"\"Extract both exons and CDS intervals as CDS\"\"\"\n",
    "    for exon in tx.exon_intervals:\n",
    "        yield [tx.chromosome, 'CAT', 'exon', exon.start + 1, exon.stop, '.', exon.strand, '.', 'source=A']\n",
    "    cds_tx = Transcript(tx.get_bed(new_start=tx.thick_start, new_stop=tx.thick_stop))\n",
    "    for exon in cds_tx.exon_intervals:\n",
    "        yield [tx.chromosome, 'CAT', 'exon', exon.start + 1, exon.stop, '.', exon.strand, '.', 'source=A']\n",
    "        \n",
    "\n",
    "with open('gtfs.tbl', 'w') as outf:\n",
    "    for genome in genomes:\n",
    "        # isolate ab-initio transcripts that are spliced\n",
    "        cgp_gp = '/public/groups/cgl/cat/primates_evan/v2/work/augustus_cgp/{}.augCGP.gp'.format(genome)\n",
    "        pb_gp = '/public/groups/cgl/cat/primates_evan/v2/work/augustus_pb/{}.augPB.gp'.format(genome)\n",
    "        out_gtf = genome + '.ab_initio_exons.gtf'\n",
    "        with open(out_gtf, 'w') as out_gtf_handle:\n",
    "            for gp in [cgp_gp, pb_gp]:\n",
    "                for tx in gene_pred_iterator(gp):\n",
    "                    if len(tx.intron_intervals) > 0:\n",
    "                        print_rows(out_gtf_handle, list(gene_pred_to_gtf(tx)))\n",
    "        supp_gff = genome + '.extrinsic_supplement.gff'\n",
    "        with open(supp_gff, 'w') as supp_gff_handle:\n",
    "            # copy all transMap or GENCODE exons with source=A to the supplement\n",
    "            if genome == 'Human':\n",
    "                annot_gp = gencode_gp\n",
    "            else:\n",
    "                annot_gp = '/public/groups/cgl/cat/primates_evan/v2/work/transMap/{}.gp'.format(genome)\n",
    "            for tx in gene_pred_iterator(annot_gp):\n",
    "                print_rows(supp_gff_handle, list(gene_pred_to_gff(tx)))\n",
    "        print_row(outf, [genome, out_gtf, supp_gff])"
   ]
  },
  {
   "cell_type": "code",
   "execution_count": 4,
   "metadata": {},
   "outputs": [
    {
     "name": "stdout",
     "output_type": "stream",
     "text": [
      "homGeneMapping: unrecognized option '--dbaccess=/public/groups/cgl/cat/primates_evan/v2/work/hints_db/hints.db'\n",
      "halLiftover starts. Processing\n",
      "Bonobo\n",
      "Human\n"
     ]
    }
   ],
   "source": [
    "# I ran this on kubernetes\n",
    "!homGeneMapping --halfile=primates_eichler.hal --gtfs=gtfs.tbl --cpus=32 --dbaccess=hints.db"
   ]
  },
  {
   "cell_type": "code",
   "execution_count": 5,
   "metadata": {},
   "outputs": [],
   "source": [
    "# load HGM output\n",
    "parsed_hgm = {}\n",
    "\n",
    "# 0\tChimp\n",
    "# 1\tGorilla\n",
    "# 2\tHuman\n",
    "# 3\tOrangutan\n",
    "# 4\tRhesus\n",
    "r = re.compile('\\**-')\n",
    "species_map = {'0': 'Bonobo', '1': 'Human'}\n",
    "\n",
    "def parse_info_line(hgm_info):\n",
    "    \"\"\"\n",
    "    For a given info line, we want to know what genomes it was supported in, and at what level\n",
    "    \n",
    "    Returns a dict with key-values of PB/N/M, etc, value is multiplicity\n",
    "    \"\"\"\n",
    "    ret_dict = {}  # keeps mapping of genome name to values\n",
    "    for l in hgm_info.split(','):\n",
    "        ret = {}\n",
    "        if 'PB' in l or 'A' in l:  # make sure we have something to look at\n",
    "            g = species_map[l[0]]\n",
    "            sl = l[1:].split(':')  # strip species identifier\n",
    "            for v in sl:\n",
    "                if '-' in v:\n",
    "                    feature_type, mult = r.split(v)\n",
    "                    ret[feature_type] = int(mult)\n",
    "                else:\n",
    "                    ret[v] = 1\n",
    "            ret_dict[g] = ret\n",
    "    return ret_dict\n",
    "\n",
    "for g in genomes:\n",
    "    e = []\n",
    "    with open(g + '.gtf') as infile:\n",
    "        for line in infile:\n",
    "            if '\\texon\\t' in line:\n",
    "                line = line.rstrip().split('\\t')\n",
    "                attr_line = line[-1]\n",
    "                attributes = parse_gtf_attr_line(attr_line)\n",
    "                data = parse_info_line(attributes['hgm_info'])\n",
    "                i = ChromosomeInterval(line[0], int(line[3]) - 1, int(line[4]), '.', data)\n",
    "                e.append([i, attributes['transcript_id'].split('_')[0]])\n",
    "    parsed_hgm[g] = e"
   ]
  },
  {
   "cell_type": "code",
   "execution_count": 6,
   "metadata": {},
   "outputs": [],
   "source": [
    "supported_dfs = {}\n",
    "features = ['PB', 'A']\n",
    "cols = ['ab_initio_tx_id', 'chromosome', 'start', 'stop']\n",
    "for g in genomes:\n",
    "    for m in features:\n",
    "        cols.append(g + '_' + m)\n",
    "\n",
    "for genome, e in parsed_hgm.items():\n",
    "    df = []  # dataframe with values chromosome, start, stop, then genome support levels in order\n",
    "    for i, tx_id in e:\n",
    "        # filter out poorly annotated human sequences\n",
    "        if genome == 'Human' and ('alt' in i.chromosome or 'random' in i.chromosome or 'chrUn' in i.chromosome):\n",
    "            continue\n",
    "        r = [tx_id, i.chromosome, i.start, i.stop]  # row\n",
    "        for g in genomes:\n",
    "            for m in features:\n",
    "                if g in i.data:\n",
    "                    r.append(i.data[g].get(m, 0))\n",
    "                else:\n",
    "                    r.append(0)\n",
    "        df.append(r)\n",
    "    \n",
    "    df = pd.DataFrame(df, columns=cols)\n",
    "    supported_dfs[genome] = df.drop_duplicates()\n",
    "            "
   ]
  },
  {
   "cell_type": "code",
   "execution_count": 7,
   "metadata": {},
   "outputs": [],
   "source": [
    "# load gene info for output\n",
    "annotation_maps = {}\n",
    "for genome in genomes:\n",
    "    if genome == 'Human':\n",
    "        continue\n",
    "    df = pd.read_csv(os.path.join('/public/groups/cgl/cat/primates_evan/v2/no-cupcake/consensus_gene_set', genome + '.gp_info'), sep='\\t')\n",
    "    df = df[['alignment_id', 'source_gene', 'source_gene_common_name']]\n",
    "    df.columns = ['ab_initio_tx_id', 'gene_id', 'gene_name']\n",
    "    annotation_maps[genome] = df"
   ]
  },
  {
   "cell_type": "code",
   "execution_count": 10,
   "metadata": {},
   "outputs": [],
   "source": [
    "# perform parent gene assignment on Human\n",
    "from cat.parent_gene_assignment import assign_parents\n",
    "parents = []\n",
    "for d in ['/public/groups/cgl/cat/primates_evan/v2/work/augustus_cgp/Human.augCGP.gp', \n",
    "          '/public/groups/cgl/cat/primates_evan/v2/work/augustus_pb/Human.augPB.gp']:\n",
    "    tx_dict = get_gene_pred_dict(d)\n",
    "    tx_dict = {tx_id: tx for tx_id, tx in tx_dict.items() if len(tx.exon_intervals) > 1}\n",
    "    # abuse parental assignment code by passing reference as unfiltered and filtered transMap\n",
    "    parents.append(assign_parents('/public/groups/cgl/cat/primates_evan/work/reference/gencode.v33.annotation.gff3.gp', \n",
    "                                  '/public/groups/cgl/cat/primates_evan/work/reference/gencode.v33.annotation.gff3.gp', \n",
    "                                d))\n",
    "assignment_df = pd.concat(parents)"
   ]
  },
  {
   "cell_type": "code",
   "execution_count": 12,
   "metadata": {},
   "outputs": [],
   "source": [
    "from tools.sqlInterface import *\n",
    "ref_df = load_annotation('/public/groups/cgl/cat/primates_evan/v2/no-cupcake/databases/Human.db')"
   ]
  },
  {
   "cell_type": "code",
   "execution_count": 13,
   "metadata": {},
   "outputs": [],
   "source": [
    "human_df = assignment_df.merge(ref_df, left_on='AssignedGeneId', right_on='GeneId')\n",
    "human_df = human_df[['TranscriptId', 'GeneId', 'GeneName']]\n",
    "human_df.columns = ['ab_initio_tx_id', 'gene_id', 'gene_name']\n",
    "annotation_maps['Human'] = human_df"
   ]
  },
  {
   "cell_type": "code",
   "execution_count": 14,
   "metadata": {},
   "outputs": [],
   "source": [
    "strict_novel_exon_dfs = {}\n",
    "for g, df in supported_dfs.items():\n",
    "    if g == 'Human':\n",
    "        continue\n",
    "    subset_df = df[df['{}_PB'.format(g)] > 2]\n",
    "    for gg in genomes:\n",
    "        subset_df = subset_df[subset_df['{}_A'.format(gg)] == 0]\n",
    "    subset_df = subset_df.merge(annotation_maps[g], on='ab_initio_tx_id')\n",
    "    subset_df = subset_df[~subset_df.gene_id.isnull()]\n",
    "    for gg in genomes:\n",
    "        subset_df = subset_df.drop('{}_A'.format(gg), axis=1)\n",
    "    # drop duplicates\n",
    "    subset_df = subset_df.groupby(['chromosome', 'start', 'stop']).first().reset_index()\n",
    "    subset_df.to_csv('{}.txt'.format(g), sep='\\t', index=False)\n",
    "    strict_novel_exon_dfs[g] = subset_df\n"
   ]
  },
  {
   "cell_type": "code",
   "execution_count": 16,
   "metadata": {},
   "outputs": [
    {
     "name": "stdout",
     "output_type": "stream",
     "text": [
      "***** WARNING: File tmp/Bonobo.comparative.bed6.bed has inconsistent naming convention for record:\n",
      "chr1\t2110\t2319\tENST00000330388.2-0\t1000\t-\n",
      "\n",
      "***** WARNING: File tmp/Bonobo.comparative.bed6.bed has inconsistent naming convention for record:\n",
      "chr1\t2110\t2319\tENST00000330388.2-0\t1000\t-\n",
      "\n"
     ]
    }
   ],
   "source": [
    "# how many of the strict set have no overlap with any comparative exon, including TMR?\n",
    "\n",
    "useful_biotypes = {'processed_pseudogene',\n",
    " 'protein_coding',\n",
    " 'transcribed_processed_pseudogene',\n",
    " 'transcribed_unitary_pseudogene',\n",
    " 'transcribed_unprocessed_pseudogene',\n",
    " 'unprocessed_pseudogene'}\n",
    "\n",
    "for genome, df in strict_novel_exon_dfs.items():\n",
    "    with TemporaryDirectoryPath() as tmpdir:\n",
    "        tmpdir = 'tmp'\n",
    "        !mkdir -p {tmpdir}\n",
    "        tmp_novel = os.path.join(tmpdir, '{}.bed'.format(genome))\n",
    "        tmp_comparative = os.path.join(tmpdir, '{}.comparative.bed'.format(genome))\n",
    "        tmp_comparative_bed6_sorted = os.path.join(tmpdir, '{}.comparative.bed6.bed'.format(genome))\n",
    "        df[['chromosome', 'start', 'stop']].to_csv(tmp_novel, sep='\\t', header=None, index=False)\n",
    "        !bedSort {tmp_novel} {tmp_novel}\n",
    "        if genome == 'Human':\n",
    "            !cp '/public/groups/cgl/cat/primates_evan/work/reference/gencode.v33.annotation.gff3.bed' {tmp_comparative}\n",
    "        else:\n",
    "            # transMap doesn't keep genePred anymore\n",
    "            psl = f'/public/groups/cgl/cat/primates_evan/v2/work/transMap/{genome}.psl'\n",
    "            !pslToBed {psl} {tmp_comparative}\n",
    "            # adding augTMR removes too many true positives\n",
    "            #with open(tmp_comparative, 'a') as fh:\n",
    "            #    for f in [f'/public/groups/cgl/cat/primates_evan/work/augustus/{genome}.augTM.gp',\n",
    "            #              f'/public/groups/cgl/cat/primates_evan/work/augustus/{genome}.augTMR.gp']:\n",
    "            #        for rec in gene_pred_iterator(f):\n",
    "            #            print_row(fh, rec.get_bed())\n",
    "        !bedtools bed12tobed6 -i {tmp_comparative} | sort -k1,1 -k2,2n | uniq > {tmp_comparative_bed6_sorted}\n",
    "        # find complement of intersection of flat per-exon BED with novel calls\n",
    "        !bedtools intersect -v -a {tmp_novel} -b {tmp_comparative_bed6_sorted} > {genome}.no_overlap.txt\n",
    "        # re-add columns\n",
    "        p = genome + '.no_overlap.txt'\n",
    "        tmp_df = pd.read_csv(p, sep='\\t', header=None)\n",
    "        tmp_df.columns = ['chromosome', 'start', 'stop']\n",
    "        tmp_df = tmp_df.merge(df, on=['chromosome', 'start', 'stop'])\n",
    "        tmp_df = tmp_df[~tmp_df.gene_id.isnull()]\n",
    "        # add biotypes to filter out non-coding\n",
    "        tmp_df = tmp_df.merge(ref_df[['GeneBiotype', 'GeneName']], left_on='gene_name', right_on='GeneName')\n",
    "        # filter for known genes\n",
    "        tmp_df = tmp_df[~tmp_df.GeneName.str.contains('\\.[0-9]$')]\n",
    "        tmp_df = tmp_df[tmp_df.GeneBiotype.isin(useful_biotypes)]\n",
    "        tmp_df = tmp_df.drop(['GeneBiotype', 'GeneName'], axis=1)\n",
    "        tmp_df = tmp_df.drop_duplicates()\n",
    "        tmp_df.to_csv(p, sep='\\t', index=False)\n",
    "        tmp_df.to_excel(genome + '.no_overlap.xlsx')"
   ]
  },
  {
   "cell_type": "code",
   "execution_count": null,
   "metadata": {},
   "outputs": [],
   "source": []
  }
 ],
 "metadata": {
  "kernelspec": {
   "display_name": "Python 3",
   "language": "python",
   "name": "python3"
  },
  "language_info": {
   "codemirror_mode": {
    "name": "ipython",
    "version": 3
   },
   "file_extension": ".py",
   "mimetype": "text/x-python",
   "name": "python",
   "nbconvert_exporter": "python",
   "pygments_lexer": "ipython3",
   "version": "3.7.6"
  }
 },
 "nbformat": 4,
 "nbformat_minor": 1
}
