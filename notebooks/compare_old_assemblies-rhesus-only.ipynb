{
 "cells": [
  {
   "cell_type": "code",
   "execution_count": 1,
   "metadata": {},
   "outputs": [],
   "source": [
    "from tools.transcripts import *\n",
    "from tools.psl import *\n",
    "import pandas as pd\n",
    "from tools.mathOps import *\n",
    "from tools.sqlInterface import *\n",
    "from tools.nameConversions import *\n",
    "%matplotlib inline\n",
    "import seaborn as sns\n",
    "import pysam\n",
    "from glob import glob\n",
    "import os"
   ]
  },
  {
   "cell_type": "code",
   "execution_count": 2,
   "metadata": {},
   "outputs": [],
   "source": [
    "genomes = [\"Rhesus\"]\n",
    "new_dir = '/public/groups/cgl/cat/primates_evan/work/transMap'\n",
    "old_dir = '/public/groups/cgl/cat/primates_evan/original_primates/work/transMap/'\n"
   ]
  },
  {
   "cell_type": "code",
   "execution_count": 3,
   "metadata": {},
   "outputs": [],
   "source": [
    "ref_df = load_annotation('/public/groups/cgl/cat/primates_evan/out/databases/Human.db')"
   ]
  },
  {
   "cell_type": "code",
   "execution_count": 16,
   "metadata": {},
   "outputs": [],
   "source": [
    "def load_metrics(genome, psl_dict):\n",
    "    m = [[genome, strip_alignment_numbers(x.q_name), x.coverage, x.identity] for x in psl_dict.values()]\n",
    "    return pd.DataFrame(m, columns=['Genome', 'TranscriptId', 'Coverage', 'Identity'])\n",
    "\n",
    "gene_sets = []\n",
    "for genome in genomes:\n",
    "    new_psl = get_alignment_dict(f'{new_dir}/{genome}.filtered.psl')\n",
    "    old_psl = get_alignment_dict(f'{old_dir}/{genome}.filtered.psl')\n",
    "    new_metrics_df = load_metrics(genome, new_psl)\n",
    "    old_metrics_df = load_metrics(genome, old_psl)\n",
    "    merged = new_metrics_df.merge(old_metrics_df, on=['Genome', 'TranscriptId'], \n",
    "                                  suffixes=['_NewAssembly', '_OriginalAssembly'])\n",
    "    gene_sets.append(merged)\n",
    "df = pd.concat(gene_sets)"
   ]
  },
  {
   "cell_type": "code",
   "execution_count": 17,
   "metadata": {},
   "outputs": [],
   "source": [
    "df = df.merge(ref_df[['TranscriptId', 'TranscriptBiotype']], on='TranscriptId')"
   ]
  },
  {
   "cell_type": "code",
   "execution_count": 18,
   "metadata": {},
   "outputs": [],
   "source": [
    "df = df[df.TranscriptBiotype == 'protein_coding']"
   ]
  },
  {
   "cell_type": "code",
   "execution_count": 19,
   "metadata": {},
   "outputs": [],
   "source": [
    "df['d(transMap Identity)'] = 100.0 * (df['Identity_NewAssembly'] - df['Identity_OriginalAssembly'])\n",
    "df['d(transMap Coverage)'] = 100.0 * (df['Coverage_NewAssembly'] - df['Coverage_OriginalAssembly'])"
   ]
  },
  {
   "cell_type": "code",
   "execution_count": 20,
   "metadata": {},
   "outputs": [],
   "source": [
    "m = df[['Genome', 'd(transMap Identity)', 'd(transMap Coverage)']].melt(id_vars=['Genome'])"
   ]
  },
  {
   "cell_type": "code",
   "execution_count": 45,
   "metadata": {},
   "outputs": [],
   "source": [
    "flnc = glob('/public/groups/cgl/cat/primates_evan/isoseq/*/*fasta')\n",
    "\n",
    "bam_map = defaultdict(list)\n",
    "\n",
    "for f in flnc:\n",
    "    g = f.split('/')[-2].split('_')[0]\n",
    "    g = g.title()\n",
    "    if g != 'Rhesus':\n",
    "        continue\n",
    "    new_bam = f.replace('fasta', 'sorted.bam')\n",
    "    assert os.path.exists(new_bam)\n",
    "    old_bam = new_bam.replace('isoseq/', 'isoseq_original_primates/')\n",
    "    if not os.path.exists(old_bam):\n",
    "        continue\n",
    "    bam_map[g].append([new_bam, old_bam])"
   ]
  },
  {
   "cell_type": "code",
   "execution_count": 11,
   "metadata": {},
   "outputs": [],
   "source": [
    "def filter_bam(bam):\n",
    "    for rec in pysam.Samfile(bam):\n",
    "        if not rec.is_supplementary and not rec.is_secondary and not rec.is_unmapped and rec.seq is not None:\n",
    "            yield rec\n",
    "            \n",
    "\n",
    "def parse_cigar(rec):\n",
    "    matches = 0\n",
    "    for op, num_bases in rec.cigar:\n",
    "        if op == 0:\n",
    "            matches += num_bases\n",
    "    return rec.qname, format_ratio(matches, len(rec.seq))\n",
    "\n",
    "\n",
    "def bam_wapper(bam):\n",
    "    for rec in filter_bam(bam):\n",
    "        yield parse_cigar(rec)"
   ]
  },
  {
   "cell_type": "code",
   "execution_count": 12,
   "metadata": {},
   "outputs": [],
   "source": [
    "metrics = []\n",
    "for genome, bams in bam_map.items():\n",
    "    for new_bam, old_bam in bams:\n",
    "        new_bam = pd.DataFrame(list(bam_wapper(new_bam)), columns=['qname', 'coverage'])\n",
    "        old_bam = pd.DataFrame(list(bam_wapper(old_bam)), columns=['qname', 'coverage'])\n",
    "        m = new_bam.merge(old_bam, how='outer', on='qname', suffixes=['_new', '_old'])\n",
    "        m['genome'] = [genome] * len(m)\n",
    "        metrics.append(m)"
   ]
  },
  {
   "cell_type": "code",
   "execution_count": 13,
   "metadata": {},
   "outputs": [],
   "source": [
    "metrics_df = pd.concat(metrics)"
   ]
  },
  {
   "cell_type": "code",
   "execution_count": 21,
   "metadata": {},
   "outputs": [],
   "source": [
    "metrics_df['d(IsoSeq Coverage)'] = 100 * (metrics_df['coverage_new'] - metrics_df['coverage_old'])"
   ]
  },
  {
   "cell_type": "code",
   "execution_count": 22,
   "metadata": {},
   "outputs": [],
   "source": [
    "m_iso = metrics_df[['d(IsoSeq Coverage)', 'genome']].melt(id_vars=['genome'])"
   ]
  },
  {
   "cell_type": "code",
   "execution_count": 23,
   "metadata": {},
   "outputs": [],
   "source": [
    "m_iso.columns = ['Genome', 'variable', 'value']"
   ]
  },
  {
   "cell_type": "code",
   "execution_count": 24,
   "metadata": {},
   "outputs": [],
   "source": [
    "combined = pd.concat([m_iso, m])"
   ]
  },
  {
   "cell_type": "code",
   "execution_count": 25,
   "metadata": {},
   "outputs": [
    {
     "data": {
      "image/png": "[encoded data removed]",
      "text/plain": [
       "<Figure size 507.625x360 with 1 Axes>"
      ]
     },
     "metadata": {
      "needs_background": "light"
     },
     "output_type": "display_data"
    }
   ],
   "source": [
    "g = sns.catplot(data=combined[combined.value != 0], kind='box', x='Genome', y='value', hue='variable',\n",
    "            showfliers=False, sharey=False, order=genomes, hue_order=['d(transMap Identity)', \n",
    "                                                                      'd(transMap Coverage)', 'd(IsoSeq Coverage)'])\n",
    "_ = g.fig.suptitle('Percentage change in alignment metrics')"
   ]
  },
  {
   "cell_type": "code",
   "execution_count": 33,
   "metadata": {},
   "outputs": [
    {
     "data": {
      "text/plain": [
       "<seaborn.axisgrid.FacetGrid at 0x7f8e9bed2a50>"
      ]
     },
     "execution_count": 33,
     "metadata": {},
     "output_type": "execute_result"
    },
    {
     "data": {
      "image/png": "[encoded data removed]",
      "text/plain": [
       "<Figure size 1173x360 with 3 Axes>"
      ]
     },
     "metadata": {
      "needs_background": "light"
     },
     "output_type": "display_data"
    }
   ],
   "source": [
    "counts = []\n",
    "for (genome, variable), d in combined.groupby(['Genome', 'variable']):\n",
    "    num_zero = len(d[d.value == 0])\n",
    "    num_nonzero = len(d) - num_zero\n",
    "    tot = len(d)\n",
    "    counts.append([genome, variable, num_zero, num_nonzero])\n",
    "cdf = pd.DataFrame(counts, columns=['Genome', 'Metric', 'Unchanged', 'Changed'])\n",
    "cdf = cdf.melt(id_vars=['Genome', 'Metric'])\n",
    "sns.catplot(data=cdf, hue='variable', y='value', x='Genome', col='Metric', kind='bar', sharey=False)"
   ]
  },
  {
   "cell_type": "code",
   "execution_count": null,
   "metadata": {},
   "outputs": [],
   "source": []
  }
 ],
 "metadata": {
  "kernelspec": {
   "display_name": "Python 3",
   "language": "python",
   "name": "python3"
  },
  "language_info": {
   "codemirror_mode": {
    "name": "ipython",
    "version": 3
   },
   "file_extension": ".py",
   "mimetype": "text/x-python",
   "name": "python",
   "nbconvert_exporter": "python",
   "pygments_lexer": "ipython3",
   "version": "3.7.6"
  }
 },
 "nbformat": 4,
 "nbformat_minor": 4
}
