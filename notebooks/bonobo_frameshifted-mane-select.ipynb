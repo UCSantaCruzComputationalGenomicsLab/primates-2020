{
 "cells": [
  {
   "cell_type": "code",
   "execution_count": 1,
   "metadata": {},
   "outputs": [],
   "source": [
    "import collections\n",
    "import pandas as pd\n",
    "\n",
    "import tools.intervals\n",
    "import tools.misc\n",
    "import tools.mathOps\n",
    "import tools.fileOps\n",
    "import tools.sqlInterface\n",
    "import tools.transcripts\n",
    "import tools.nameConversions\n",
    "import tools.procOps\n",
    "from cat.consensus import *\n",
    "from argparse import ArgumentParser"
   ]
  },
  {
   "cell_type": "code",
   "execution_count": 15,
   "metadata": {},
   "outputs": [],
   "source": [
    "df = pd.read_csv(\"/public/groups/cgl/cat/primates_evan/v2/bonobo-only-v2.1/consensus_gene_set/Bonobo.gp_info\", sep=\"\\t\")"
   ]
  },
  {
   "cell_type": "code",
   "execution_count": 16,
   "metadata": {},
   "outputs": [],
   "source": [
    "df_filt = df[~df.tag.isnull()]\n",
    "df_filt = df_filt[df_filt.tag.str.contains(\"MANE\")]"
   ]
  },
  {
   "cell_type": "code",
   "execution_count": 17,
   "metadata": {},
   "outputs": [],
   "source": [
    "frameshifted = []\n",
    "for gene_id, d in df_filt.groupby(\"gene_id\"):\n",
    "    d = d[~d.frameshift.isnull()]\n",
    "    if len(d[d.frameshift == True]) > 0:\n",
    "        frameshifted.append(gene_id)"
   ]
  },
  {
   "cell_type": "code",
   "execution_count": 18,
   "metadata": {},
   "outputs": [
    {
     "data": {
      "text/plain": [
       "234"
      ]
     },
     "execution_count": 18,
     "metadata": {},
     "output_type": "execute_result"
    }
   ],
   "source": [
    "len(frameshifted)"
   ]
  },
  {
   "cell_type": "code",
   "execution_count": 19,
   "metadata": {},
   "outputs": [],
   "source": [
    "ref_txs = tools.transcripts.get_gene_pred_dict(\"/public/groups/cgl/cat/primates_evan/v2/work/reference/gencode.v33.annotation.gff3.gp\")"
   ]
  },
  {
   "cell_type": "code",
   "execution_count": 20,
   "metadata": {},
   "outputs": [],
   "source": [
    "ref_txs = tools.transcripts.group_transcripts_by_name2(ref_txs.values())"
   ]
  },
  {
   "cell_type": "code",
   "execution_count": 21,
   "metadata": {},
   "outputs": [],
   "source": [
    "bonobo_txs = tools.transcripts.get_gene_pred_dict(\"/public/groups/cgl/cat/primates_evan/v2/bonobo-only-v2.1/consensus_gene_set/Bonobo.gp\")"
   ]
  },
  {
   "cell_type": "code",
   "execution_count": 22,
   "metadata": {},
   "outputs": [],
   "source": [
    "bonobo_txs = tools.transcripts.group_transcripts_by_name2(bonobo_txs.values())"
   ]
  },
  {
   "cell_type": "code",
   "execution_count": 23,
   "metadata": {},
   "outputs": [],
   "source": [
    "frameshifted_df = df[df.gene_id.isin(frameshifted)][[\"gene_id\", \"source_gene\", \"alignment_id\"]].groupby(\"gene_id\").first().reset_index()"
   ]
  },
  {
   "cell_type": "code",
   "execution_count": 24,
   "metadata": {},
   "outputs": [],
   "source": [
    "def get_coords(txs):\n",
    "    chrom = txs[0].chromosome\n",
    "    start = min(x.start for x in txs)\n",
    "    end = max(x.stop for x in txs)\n",
    "    return f\"{chrom}:{start}-{end}\""
   ]
  },
  {
   "cell_type": "code",
   "execution_count": 25,
   "metadata": {},
   "outputs": [],
   "source": [
    "frameshifted_df[\"bonobo_gene_coords\"] = [get_coords(bonobo_txs[x]) for x in frameshifted_df.gene_id]"
   ]
  },
  {
   "cell_type": "code",
   "execution_count": 26,
   "metadata": {},
   "outputs": [],
   "source": [
    "frameshifted_df[\"human_gene_coords\"] = [get_coords(ref_txs[x]) for x in frameshifted_df.source_gene]"
   ]
  },
  {
   "cell_type": "code",
   "execution_count": 27,
   "metadata": {},
   "outputs": [],
   "source": [
    "db_path = \"/public/groups/cgl/cat/primates_evan/v2/bonobo-only-v2.1/databases/Bonobo.db\"\n",
    "session = tools.sqlInterface.start_session(db_path)\n",
    "\n",
    "eval_dfs = []\n",
    "for tx_mode in ['transMap', 'augTM']:\n",
    "    cds_table = tools.sqlInterface.tables['CDS'][tx_mode]['evaluation']\n",
    "    cds_df = pd.read_sql_table(cds_table.__tablename__, session.bind.engine)\n",
    "    eval_dfs.append(cds_df)\n",
    "    \n",
    "    \n",
    "eval_df = pd.concat(eval_dfs).set_index(\"AlignmentId\")"
   ]
  },
  {
   "cell_type": "code",
   "execution_count": 64,
   "metadata": {},
   "outputs": [],
   "source": [
    "filt_eval_df = eval_df[eval_df.index.isin(frameshifted_df.alignment_id)]"
   ]
  },
  {
   "cell_type": "code",
   "execution_count": 140,
   "metadata": {},
   "outputs": [],
   "source": [
    "filt_eval_txs = [tools.transcripts.Transcript(list(x)) for _, x in filt_eval_df.iterrows()]\n",
    "for i, (_, s) in enumerate(filt_eval_df.iterrows()):\n",
    "    filt_eval_txs[i].name = f\"loc{i}\""
   ]
  },
  {
   "cell_type": "code",
   "execution_count": 209,
   "metadata": {},
   "outputs": [],
   "source": [
    "with open(\"coords.bed\", \"w\") as fh:\n",
    "    for x in filt_eval_txs:\n",
    "        for exon in x.exon_intervals:\n",
    "            if exon.start != exon.stop:\n",
    "                fh.write(\"\\t\".join(map(str, [x.chromosome, exon.start - 1, exon.stop, x.name])) + \"\\n\")\n",
    "            else:\n",
    "                fh.write(\"\\t\".join(map(str, [x.chromosome, exon.start - 1, exon.stop + 1, x.name])) + \"\\n\")\n"
   ]
  },
  {
   "cell_type": "code",
   "execution_count": 210,
   "metadata": {},
   "outputs": [],
   "source": [
    "!halLiftover /public/groups/cgl/cat/primates_evan/v2/bonobo-only-v2.1/assemblyHub/primates_eichler-v2.hal Bonobo coords.bed Human human_coords.bed"
   ]
  },
  {
   "cell_type": "code",
   "execution_count": 211,
   "metadata": {},
   "outputs": [],
   "source": [
    "!bedtools intersect -u -a human_coords.bed -b human_genes.bed > human_genes_intersected.bed"
   ]
  },
  {
   "cell_type": "code",
   "execution_count": 212,
   "metadata": {},
   "outputs": [],
   "source": [
    "human_coords = pd.read_csv(\"human_coords.bed\", header=None, sep=\"\\t\")\n",
    "human_coords.columns = [\"human_chrom\", \"human_start\", \"human_stop\", \"idx\"]"
   ]
  },
  {
   "cell_type": "code",
   "execution_count": 213,
   "metadata": {},
   "outputs": [],
   "source": [
    "human_merged = []\n",
    "for idx, s in human_coords.groupby('idx'):\n",
    "    vals = ';'.join([f\"{x.human_chrom}:{x.human_start}-{x.human_stop}\" for _, x in pd.DataFrame(s).iterrows()])\n",
    "    human_merged.append([idx, vals])\n",
    "human_merged_df = pd.DataFrame(human_merged, columns=[\"idx\", \"human_indel_coords\"])"
   ]
  },
  {
   "cell_type": "code",
   "execution_count": 214,
   "metadata": {},
   "outputs": [],
   "source": [
    "bonobo_df = [[aln_id, s[\"name\"], f\"loc{i}\", f\"{s.chromosome}:{s.start}-{s.stop}\"] for i, (aln_id, s) in enumerate(filt_eval_df.iterrows())]\n",
    "bonobo_df = pd.DataFrame(bonobo_df, columns=[\"AlignmentId\", \"indel type\", \"idx\", \"bonobo_indel_coords\"])\n",
    "bonobo_df = frameshifted_df.merge(bonobo_df, left_on=\"alignment_id\", right_on=\"AlignmentId\")\n",
    "bonobo_df = bonobo_df.drop(\"AlignmentId\", axis=\"columns\")"
   ]
  },
  {
   "cell_type": "code",
   "execution_count": 228,
   "metadata": {},
   "outputs": [],
   "source": [
    "final = bonobo_df.merge(human_merged_df, on=\"idx\", how=\"outer\")\n",
    "final = final.drop(\"idx\", axis=\"columns\")\n",
    "final = final[~final.human_indel_coords.isnull()]\n",
    "final = final[final[\"indel type\"].isin([\"CodingDeletion\", \"CodingInsertion\"])]"
   ]
  },
  {
   "cell_type": "code",
   "execution_count": 229,
   "metadata": {},
   "outputs": [],
   "source": [
    "final.to_csv(\"bonobo_frameshifts_MANE_select.csv\")"
   ]
  },
  {
   "cell_type": "code",
   "execution_count": 249,
   "metadata": {},
   "outputs": [],
   "source": [
    "offset = 5\n",
    "\n",
    "with open('indels.bed', 'w') as fh:\n",
    "    for _, s in final.iterrows():\n",
    "        chrom, pos = s.bonobo_indel_coords.split(\":\")\n",
    "        start, stop = pos.split(\"-\")\n",
    "        start = int(start)\n",
    "        stop = int(stop)\n",
    "        start -= offset\n",
    "        stop += offset\n",
    "        fh.write(\"\\t\".join(map(str, [chrom, start, stop, s.bonobo_indel_coords])) + \"\\n\")"
   ]
  },
  {
   "cell_type": "code",
   "execution_count": 250,
   "metadata": {
    "scrolled": true
   },
   "outputs": [
    {
     "name": "stdout",
     "output_type": "stream",
     "text": [
      "***** WARNING: File /public/groups/cgl/cat/primates_evan/v2/bonobo_hifi/filtered.vcf.gz has inconsistent naming convention for record:\n",
      "chr16\t6412\t.\tGTG\tGCTG\t75.3441\t.\tAB=0;ABP=0;AC=2;AF=1;AN=2;AO=2;CIGAR=1M1I2M;DP=2;DPB=2.66667;DPRA=0;EPP=3.0103;EPPR=0;GTI=0;LEN=1;MEANALT=1;MQM=60;MQMR=0;NS=1;NUMALT=1;ODDS=6.27915;PAIRED=0;PAIREDR=0;PAO=0;PQA=0;PQR=0;PRO=0;QA=95;QR=0;RO=0;RPL=0;RPP=7.35324;RPPR=0;RPR=2;RUN=1;SAF=1;SAP=3.0103;SAR=1;SRF=0;SRP=0;SRR=0;TYPE=ins\tGT:DP:AD:RO:QR:AO:QA:GL\t.\n",
      "\n",
      "***** WARNING: File /public/groups/cgl/cat/primates_evan/v2/bonobo_hifi/filtered.vcf.gz has inconsistent naming convention for record:\n",
      "chr16\t6412\t.\tGTG\tGCTG\t75.3441\t.\tAB=0;ABP=0;AC=2;AF=1;AN=2;AO=2;CIGAR=1M1I2M;DP=2;DPB=2.66667;DPRA=0;EPP=3.0103;EPPR=0;GTI=0;LEN=1;MEANALT=1;MQM=60;MQMR=0;NS=1;NUMALT=1;ODDS=6.27915;PAIRED=0;PAIREDR=0;PAO=0;PQA=0;PQR=0;PRO=0;QA=95;QR=0;RO=0;RPL=0;RPP=7.35324;RPPR=0;RPR=2;RUN=1;SAF=1;SAP=3.0103;SAR=1;SRF=0;SRP=0;SRR=0;TYPE=ins\tGT:DP:AD:RO:QR:AO:QA:GL\t.\n",
      "\n"
     ]
    }
   ],
   "source": [
    "!bedtools intersect -wo -a indels.bed -b /public/groups/cgl/cat/primates_evan/v2/bonobo_hifi/filtered.vcf.gz > overlaps.txt"
   ]
  },
  {
   "cell_type": "code",
   "execution_count": 257,
   "metadata": {},
   "outputs": [],
   "source": [
    "overlap_df = pd.read_csv(\"overlaps.txt\", sep='\\t', header=None)"
   ]
  },
  {
   "cell_type": "code",
   "execution_count": 264,
   "metadata": {},
   "outputs": [],
   "source": [
    "# column 3 basically says 'did this have a VCF hit'\n",
    "final_vcf_filt = final[~final.bonobo_indel_coords.isin(set(overlap_df[3]))]"
   ]
  },
  {
   "cell_type": "code",
   "execution_count": 270,
   "metadata": {},
   "outputs": [],
   "source": [
    "final_nochrXY = final_vcf_filt[(~final_vcf_filt.human_indel_coords.str.contains('chrX')) & (~final_vcf_filt.human_indel_coords.str.contains('chrY')) & (~final_vcf_filt.human_indel_coords.str.contains('alt'))]"
   ]
  },
  {
   "cell_type": "code",
   "execution_count": 271,
   "metadata": {},
   "outputs": [
    {
     "data": {
      "text/html": [
       "<div>\n",
       "<style scoped>\n",
       "    .dataframe tbody tr th:only-of-type {\n",
       "        vertical-align: middle;\n",
       "    }\n",
       "\n",
       "    .dataframe tbody tr th {\n",
       "        vertical-align: top;\n",
       "    }\n",
       "\n",
       "    .dataframe thead th {\n",
       "        text-align: right;\n",
       "    }\n",
       "</style>\n",
       "<table border=\"1\" class=\"dataframe\">\n",
       "  <thead>\n",
       "    <tr style=\"text-align: right;\">\n",
       "      <th></th>\n",
       "      <th>gene_id</th>\n",
       "      <th>source_gene</th>\n",
       "      <th>alignment_id</th>\n",
       "      <th>bonobo_gene_coords</th>\n",
       "      <th>human_gene_coords</th>\n",
       "      <th>indel type</th>\n",
       "      <th>bonobo_indel_coords</th>\n",
       "      <th>human_indel_coords</th>\n",
       "    </tr>\n",
       "  </thead>\n",
       "  <tbody>\n",
       "    <tr>\n",
       "      <th>48</th>\n",
       "      <td>Bonobo_G0001089</td>\n",
       "      <td>ENSG00000227124.11</td>\n",
       "      <td>ENST00000652011.2-2</td>\n",
       "      <td>Super_Scaffold_200000119422:68749-72169</td>\n",
       "      <td>chr3:75678659-75785583</td>\n",
       "      <td>CodingDeletion</td>\n",
       "      <td>Super_Scaffold_200000119422:70212-70212</td>\n",
       "      <td>chr3:75737405-75737406</td>\n",
       "    </tr>\n",
       "    <tr>\n",
       "      <th>49</th>\n",
       "      <td>Bonobo_G0001089</td>\n",
       "      <td>ENSG00000227124.11</td>\n",
       "      <td>ENST00000652011.2-2</td>\n",
       "      <td>Super_Scaffold_200000119422:68749-72169</td>\n",
       "      <td>chr3:75678659-75785583</td>\n",
       "      <td>CodingDeletion</td>\n",
       "      <td>Super_Scaffold_200000119422:70375-70375</td>\n",
       "      <td>chr3:75737483-75737485</td>\n",
       "    </tr>\n",
       "    <tr>\n",
       "      <th>50</th>\n",
       "      <td>Bonobo_G0001089</td>\n",
       "      <td>ENSG00000227124.11</td>\n",
       "      <td>ENST00000652011.2-2</td>\n",
       "      <td>Super_Scaffold_200000119422:68749-72169</td>\n",
       "      <td>chr3:75678659-75785583</td>\n",
       "      <td>CodingDeletion</td>\n",
       "      <td>Super_Scaffold_200000119422:70409-70409</td>\n",
       "      <td>chr3:75737517-75737519</td>\n",
       "    </tr>\n",
       "    <tr>\n",
       "      <th>51</th>\n",
       "      <td>Bonobo_G0001089</td>\n",
       "      <td>ENSG00000227124.11</td>\n",
       "      <td>ENST00000652011.2-2</td>\n",
       "      <td>Super_Scaffold_200000119422:68749-72169</td>\n",
       "      <td>chr3:75678659-75785583</td>\n",
       "      <td>CodingInsertion</td>\n",
       "      <td>Super_Scaffold_200000119422:70420-70421</td>\n",
       "      <td>chr3:75737528-75737530</td>\n",
       "    </tr>\n",
       "    <tr>\n",
       "      <th>52</th>\n",
       "      <td>Bonobo_G0001089</td>\n",
       "      <td>ENSG00000227124.11</td>\n",
       "      <td>ENST00000652011.2-2</td>\n",
       "      <td>Super_Scaffold_200000119422:68749-72169</td>\n",
       "      <td>chr3:75678659-75785583</td>\n",
       "      <td>CodingDeletion</td>\n",
       "      <td>Super_Scaffold_200000119422:70503-70503</td>\n",
       "      <td>chr3:75737611-75737612;chr3:75737613-75737614</td>\n",
       "    </tr>\n",
       "    <tr>\n",
       "      <th>...</th>\n",
       "      <td>...</td>\n",
       "      <td>...</td>\n",
       "      <td>...</td>\n",
       "      <td>...</td>\n",
       "      <td>...</td>\n",
       "      <td>...</td>\n",
       "      <td>...</td>\n",
       "      <td>...</td>\n",
       "    </tr>\n",
       "    <tr>\n",
       "      <th>899</th>\n",
       "      <td>Bonobo_G0054032</td>\n",
       "      <td>ENSG00000177992.10</td>\n",
       "      <td>ENST00000325643.6-0</td>\n",
       "      <td>chr9:58978124-58984131</td>\n",
       "      <td>chr9:87882876-87888903</td>\n",
       "      <td>CodingDeletion</td>\n",
       "      <td>chr9:58981308-58981308</td>\n",
       "      <td>chr9:87886074-87886075;chr9:87886077-87886078</td>\n",
       "    </tr>\n",
       "    <tr>\n",
       "      <th>900</th>\n",
       "      <td>Bonobo_G0054032</td>\n",
       "      <td>ENSG00000177992.10</td>\n",
       "      <td>ENST00000325643.6-0</td>\n",
       "      <td>chr9:58978124-58984131</td>\n",
       "      <td>chr9:87882876-87888903</td>\n",
       "      <td>CodingDeletion</td>\n",
       "      <td>chr9:58982997-58982997</td>\n",
       "      <td>chr9:87887765-87887767</td>\n",
       "    </tr>\n",
       "    <tr>\n",
       "      <th>901</th>\n",
       "      <td>Bonobo_G0054032</td>\n",
       "      <td>ENSG00000177992.10</td>\n",
       "      <td>ENST00000325643.6-0</td>\n",
       "      <td>chr9:58978124-58984131</td>\n",
       "      <td>chr9:87882876-87888903</td>\n",
       "      <td>CodingDeletion</td>\n",
       "      <td>chr9:58983062-58983062</td>\n",
       "      <td>chr9:87887832-87887834</td>\n",
       "    </tr>\n",
       "    <tr>\n",
       "      <th>903</th>\n",
       "      <td>Bonobo_G0054608</td>\n",
       "      <td>ENSG00000136834.3</td>\n",
       "      <td>augTM-ENST00000259357.3-0</td>\n",
       "      <td>chr9:93603026-93603832</td>\n",
       "      <td>chr9:122476957-122477926</td>\n",
       "      <td>CodingDeletion</td>\n",
       "      <td>chr9:93603821-93603821</td>\n",
       "      <td>chr9:122477719-122477720;chr9:122477724-122477725</td>\n",
       "    </tr>\n",
       "    <tr>\n",
       "      <th>905</th>\n",
       "      <td>Bonobo_G0055092</td>\n",
       "      <td>ENSG00000187609.16</td>\n",
       "      <td>ENST00000340951.9-0</td>\n",
       "      <td>chr9:108366207-108490301</td>\n",
       "      <td>chr9:137306895-137423211</td>\n",
       "      <td>CodingDeletion</td>\n",
       "      <td>chr9:108439997-108439997</td>\n",
       "      <td>chr9:137373021-137373022;chr9:137373050-137373051</td>\n",
       "    </tr>\n",
       "  </tbody>\n",
       "</table>\n",
       "<p>353 rows × 8 columns</p>\n",
       "</div>"
      ],
      "text/plain": [
       "             gene_id         source_gene               alignment_id  \\\n",
       "48   Bonobo_G0001089  ENSG00000227124.11        ENST00000652011.2-2   \n",
       "49   Bonobo_G0001089  ENSG00000227124.11        ENST00000652011.2-2   \n",
       "50   Bonobo_G0001089  ENSG00000227124.11        ENST00000652011.2-2   \n",
       "51   Bonobo_G0001089  ENSG00000227124.11        ENST00000652011.2-2   \n",
       "52   Bonobo_G0001089  ENSG00000227124.11        ENST00000652011.2-2   \n",
       "..               ...                 ...                        ...   \n",
       "899  Bonobo_G0054032  ENSG00000177992.10        ENST00000325643.6-0   \n",
       "900  Bonobo_G0054032  ENSG00000177992.10        ENST00000325643.6-0   \n",
       "901  Bonobo_G0054032  ENSG00000177992.10        ENST00000325643.6-0   \n",
       "903  Bonobo_G0054608   ENSG00000136834.3  augTM-ENST00000259357.3-0   \n",
       "905  Bonobo_G0055092  ENSG00000187609.16        ENST00000340951.9-0   \n",
       "\n",
       "                          bonobo_gene_coords         human_gene_coords  \\\n",
       "48   Super_Scaffold_200000119422:68749-72169    chr3:75678659-75785583   \n",
       "49   Super_Scaffold_200000119422:68749-72169    chr3:75678659-75785583   \n",
       "50   Super_Scaffold_200000119422:68749-72169    chr3:75678659-75785583   \n",
       "51   Super_Scaffold_200000119422:68749-72169    chr3:75678659-75785583   \n",
       "52   Super_Scaffold_200000119422:68749-72169    chr3:75678659-75785583   \n",
       "..                                       ...                       ...   \n",
       "899                   chr9:58978124-58984131    chr9:87882876-87888903   \n",
       "900                   chr9:58978124-58984131    chr9:87882876-87888903   \n",
       "901                   chr9:58978124-58984131    chr9:87882876-87888903   \n",
       "903                   chr9:93603026-93603832  chr9:122476957-122477926   \n",
       "905                 chr9:108366207-108490301  chr9:137306895-137423211   \n",
       "\n",
       "          indel type                      bonobo_indel_coords  \\\n",
       "48    CodingDeletion  Super_Scaffold_200000119422:70212-70212   \n",
       "49    CodingDeletion  Super_Scaffold_200000119422:70375-70375   \n",
       "50    CodingDeletion  Super_Scaffold_200000119422:70409-70409   \n",
       "51   CodingInsertion  Super_Scaffold_200000119422:70420-70421   \n",
       "52    CodingDeletion  Super_Scaffold_200000119422:70503-70503   \n",
       "..               ...                                      ...   \n",
       "899   CodingDeletion                   chr9:58981308-58981308   \n",
       "900   CodingDeletion                   chr9:58982997-58982997   \n",
       "901   CodingDeletion                   chr9:58983062-58983062   \n",
       "903   CodingDeletion                   chr9:93603821-93603821   \n",
       "905   CodingDeletion                 chr9:108439997-108439997   \n",
       "\n",
       "                                    human_indel_coords  \n",
       "48                              chr3:75737405-75737406  \n",
       "49                              chr3:75737483-75737485  \n",
       "50                              chr3:75737517-75737519  \n",
       "51                              chr3:75737528-75737530  \n",
       "52       chr3:75737611-75737612;chr3:75737613-75737614  \n",
       "..                                                 ...  \n",
       "899      chr9:87886074-87886075;chr9:87886077-87886078  \n",
       "900                             chr9:87887765-87887767  \n",
       "901                             chr9:87887832-87887834  \n",
       "903  chr9:122477719-122477720;chr9:122477724-122477725  \n",
       "905  chr9:137373021-137373022;chr9:137373050-137373051  \n",
       "\n",
       "[353 rows x 8 columns]"
      ]
     },
     "execution_count": 271,
     "metadata": {},
     "output_type": "execute_result"
    }
   ],
   "source": [
    "final_nochrXY"
   ]
  },
  {
   "cell_type": "code",
   "execution_count": 273,
   "metadata": {},
   "outputs": [],
   "source": [
    "final_nochrXY.to_csv(\"bonobo_frameshifts_MANE_select_hifi_filtered.csv\")"
   ]
  },
  {
   "cell_type": "code",
   "execution_count": null,
   "metadata": {},
   "outputs": [],
   "source": []
  }
 ],
 "metadata": {
  "kernelspec": {
   "display_name": "Python 3",
   "language": "python",
   "name": "python3"
  },
  "language_info": {
   "codemirror_mode": {
    "name": "ipython",
    "version": 3
   },
   "file_extension": ".py",
   "mimetype": "text/x-python",
   "name": "python",
   "nbconvert_exporter": "python",
   "pygments_lexer": "ipython3",
   "version": "3.7.6"
  }
 },
 "nbformat": 4,
 "nbformat_minor": 4
}
