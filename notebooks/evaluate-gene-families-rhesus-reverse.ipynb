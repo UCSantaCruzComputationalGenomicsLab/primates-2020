{
 "cells": [
  {
   "cell_type": "code",
   "execution_count": 1,
   "metadata": {},
   "outputs": [],
   "source": [
    "# Look at augPB mappings back to human"
   ]
  },
  {
   "cell_type": "code",
   "execution_count": 2,
   "metadata": {},
   "outputs": [],
   "source": [
    "import pandas as pd\n",
    "from tools.sqlInterface import *\n",
    "from collections import *"
   ]
  },
  {
   "cell_type": "code",
   "execution_count": 4,
   "metadata": {},
   "outputs": [],
   "source": [
    "df = load_filter_evaluation('/public/groups/cgl/cat/primates_evan/rhesus_reverse/out/databases/Human.db')"
   ]
  },
  {
   "cell_type": "code",
   "execution_count": 5,
   "metadata": {},
   "outputs": [],
   "source": [
    "ref_df = load_annotation('/public/groups/cgl/cat/primates_evan/rhesus_reverse/out/databases/Rhesus.db')"
   ]
  },
  {
   "cell_type": "code",
   "execution_count": 6,
   "metadata": {},
   "outputs": [],
   "source": [
    "merged = df.merge(ref_df, on=['GeneId', 'TranscriptId'])"
   ]
  },
  {
   "cell_type": "code",
   "execution_count": 7,
   "metadata": {},
   "outputs": [],
   "source": [
    "merged_collapsed = merged[~merged.CollapsedGeneIds.isnull()]"
   ]
  },
  {
   "cell_type": "code",
   "execution_count": 12,
   "metadata": {},
   "outputs": [],
   "source": [
    "merged_collapsed = merged_collapsed[merged_collapsed.GeneBiotype == 'unknown_likely_coding']"
   ]
  },
  {
   "cell_type": "code",
   "execution_count": 13,
   "metadata": {},
   "outputs": [],
   "source": [
    "r = []\n",
    "# this was actually calculated per-gene in the original analysis, so we can just look at the first transcript\n",
    "for (gene_biotype, gene_id, gene_name), d in merged_collapsed.groupby(['GeneBiotype', 'GeneId', 'GeneName']):\n",
    "    d = d.iloc[0]\n",
    "    r.append([gene_id, gene_name, gene_biotype, d.CollapsedGeneIds.count(',') + 1, d.CollapsedGeneIds, d.CollapsedGeneNames])\n",
    "collapsed_df = pd.DataFrame(r, columns=['GeneId', 'GeneName', 'GeneBiotype', 'NumberOfCollapsedCopies', 'CollapsedGeneIds', 'CollapsedGeneNames'])"
   ]
  },
  {
   "cell_type": "code",
   "execution_count": 22,
   "metadata": {},
   "outputs": [],
   "source": [
    "collapsed_df = collapsed_df[collapsed_df.CollapsedGeneNames != 'None']"
   ]
  },
  {
   "cell_type": "code",
   "execution_count": 23,
   "metadata": {},
   "outputs": [
    {
     "data": {
      "text/plain": [
       "(Counter({1: 19, 2: 18, 3: 4, 9: 1, 8: 1}), 43)"
      ]
     },
     "execution_count": 23,
     "metadata": {},
     "output_type": "execute_result"
    }
   ],
   "source": [
    "Counter(collapsed_df.NumberOfCollapsedCopies), len(collapsed_df)"
   ]
  },
  {
   "cell_type": "code",
   "execution_count": 15,
   "metadata": {},
   "outputs": [
    {
     "name": "stdout",
     "output_type": "stream",
     "text": [
      "88\n"
     ]
    }
   ],
   "source": [
    "# split gene analysis\n",
    "# this was done per-transcript, so the intervals may vary per transcript\n",
    "split = merged[~merged.PossibleSplitGeneLocations.isnull()]\n",
    "split = split[['GeneId', 'GeneName', 'TranscriptId', 'PossibleSplitGeneLocations']].sort_values(['GeneId', 'GeneName'])\n",
    "split.columns = ['Gene ID', 'Gene Name', 'Transcript ID', 'Locations of split mappings']\n",
    "print(len(set(split['Gene ID'])))"
   ]
  },
  {
   "cell_type": "code",
   "execution_count": 25,
   "metadata": {},
   "outputs": [
    {
     "data": {
      "text/plain": [
       "(Counter({4: 37,\n",
       "          1: 267,\n",
       "          5: 30,\n",
       "          2: 79,\n",
       "          3: 57,\n",
       "          9: 13,\n",
       "          7: 23,\n",
       "          11: 6,\n",
       "          10: 10,\n",
       "          12: 6,\n",
       "          6: 24,\n",
       "          20: 2,\n",
       "          16: 4,\n",
       "          23: 2,\n",
       "          8: 8,\n",
       "          17: 2,\n",
       "          15: 4,\n",
       "          29: 1,\n",
       "          19: 2,\n",
       "          22: 4,\n",
       "          30: 1,\n",
       "          14: 2,\n",
       "          21: 1,\n",
       "          49: 1,\n",
       "          26: 1,\n",
       "          25: 1}),\n",
       " 588)"
      ]
     },
     "execution_count": 25,
     "metadata": {},
     "output_type": "execute_result"
    }
   ],
   "source": [
    "# this was done per gene\n",
    "paralogy = merged[~merged.GeneAlternateLoci.isnull()]\n",
    "paralogy = paralogy[paralogy.GeneBiotype == 'unknown_likely_coding']\n",
    "paralogy = paralogy[['GeneId', 'GeneName', 'GeneBiotype', 'GeneAlternateLoci']].groupby('GeneId').first().reset_index()\n",
    "paralogy.columns = ['Gene ID', 'Gene Name', 'Gene Biotype', 'Loci of possible paralogous mappings']\n",
    "paralogy['Number of possible paralogous mappings'] = [x.count(',') + 1 for x in paralogy['Loci of possible paralogous mappings']]\n",
    "paralogy = paralogy.sort_values(['Gene Biotype', 'Gene ID', 'Gene Name'])\n",
    "Counter(paralogy['Number of possible paralogous mappings']), len(paralogy)"
   ]
  },
  {
   "cell_type": "code",
   "execution_count": 26,
   "metadata": {},
   "outputs": [],
   "source": [
    "with pd.ExcelWriter('rhesus_reverse_transMap_metrics.xlsx') as fh:\n",
    "    collapsed_df.to_excel(fh, sheet_name='Gene Family Collapse')\n",
    "    split.to_excel(fh, sheet_name='Split Gene Analysis')\n",
    "    paralogy.to_excel(fh, sheet_name='Putative Paralogous Loci')"
   ]
  },
  {
   "cell_type": "code",
   "execution_count": null,
   "metadata": {},
   "outputs": [],
   "source": []
  }
 ],
 "metadata": {
  "kernelspec": {
   "display_name": "Python 3",
   "language": "python",
   "name": "python3"
  },
  "language_info": {
   "codemirror_mode": {
    "name": "ipython",
    "version": 3
   },
   "file_extension": ".py",
   "mimetype": "text/x-python",
   "name": "python",
   "nbconvert_exporter": "python",
   "pygments_lexer": "ipython3",
   "version": "3.7.6"
  }
 },
 "nbformat": 4,
 "nbformat_minor": 4
}
