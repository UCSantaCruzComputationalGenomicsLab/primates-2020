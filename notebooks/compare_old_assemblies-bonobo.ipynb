{
 "cells": [
  {
   "cell_type": "code",
   "execution_count": 1,
   "metadata": {},
   "outputs": [],
   "source": [
    "from tools.transcripts import *\n",
    "from tools.psl import *\n",
    "import pandas as pd\n",
    "from tools.mathOps import *\n",
    "from tools.sqlInterface import *\n",
    "from tools.nameConversions import *\n",
    "%matplotlib inline\n",
    "import seaborn as sns\n",
    "import pysam\n",
    "from glob import glob\n",
    "import os"
   ]
  },
  {
   "cell_type": "code",
   "execution_count": 2,
   "metadata": {},
   "outputs": [],
   "source": [
    "genomes = [\"Bonobo\"]\n",
    "new_dir = '/public/groups/cgl/cat/primates_evan/v2/work/transMap/'\n",
    "old_dir = '/public/groups/cgl/cat/primates_evan/v2/original-bonobo/work/transMap/'\n"
   ]
  },
  {
   "cell_type": "code",
   "execution_count": 3,
   "metadata": {},
   "outputs": [],
   "source": [
    "ref_df = load_annotation('/public/groups/cgl/cat/primates_evan/out/databases/Human.db')"
   ]
  },
  {
   "cell_type": "code",
   "execution_count": 37,
   "metadata": {},
   "outputs": [],
   "source": [
    "def load_metrics(genome, psl_dict):\n",
    "    m = [[genome, strip_alignment_numbers(x.q_name), x.coverage, x.identity] for x in psl_dict.values()]\n",
    "    return pd.DataFrame(m, columns=['Genome', 'TranscriptId', 'Coverage', 'Identity'])\n",
    "\n",
    "gene_sets = []\n",
    "for genome in genomes:\n",
    "    new_psl = get_alignment_dict(f'{new_dir}/{genome}.filtered.psl')\n",
    "    old_psl = get_alignment_dict(f'{old_dir}/{genome}.filtered.psl')\n",
    "    new_metrics_df = load_metrics(genome, new_psl)\n",
    "    old_metrics_df = load_metrics(genome, old_psl)\n",
    "    merged = new_metrics_df.merge(old_metrics_df, on=['Genome', 'TranscriptId'], \n",
    "                                  suffixes=['_NewAssembly', '_OriginalAssembly'], how='outer')\n",
    "    gene_sets.append(merged)\n",
    "df = pd.concat(gene_sets)"
   ]
  },
  {
   "cell_type": "code",
   "execution_count": 38,
   "metadata": {},
   "outputs": [],
   "source": [
    "df = df.merge(ref_df[['TranscriptId', 'GeneId', 'GeneBiotype', 'TranscriptBiotype']], on='TranscriptId')"
   ]
  },
  {
   "cell_type": "code",
   "execution_count": 39,
   "metadata": {},
   "outputs": [],
   "source": [
    "df = df[df.TranscriptBiotype == 'protein_coding']"
   ]
  },
  {
   "cell_type": "code",
   "execution_count": 40,
   "metadata": {},
   "outputs": [],
   "source": [
    "df['d(transMap Identity)'] = 100.0 * (df['Identity_NewAssembly'] - df['Identity_OriginalAssembly'])\n",
    "df['d(transMap Coverage)'] = 100.0 * (df['Coverage_NewAssembly'] - df['Coverage_OriginalAssembly'])"
   ]
  },
  {
   "cell_type": "code",
   "execution_count": 41,
   "metadata": {},
   "outputs": [
    {
     "data": {
      "text/html": [
       "<div>\n",
       "<style scoped>\n",
       "    .dataframe tbody tr th:only-of-type {\n",
       "        vertical-align: middle;\n",
       "    }\n",
       "\n",
       "    .dataframe tbody tr th {\n",
       "        vertical-align: top;\n",
       "    }\n",
       "\n",
       "    .dataframe thead th {\n",
       "        text-align: right;\n",
       "    }\n",
       "</style>\n",
       "<table border=\"1\" class=\"dataframe\">\n",
       "  <thead>\n",
       "    <tr style=\"text-align: right;\">\n",
       "      <th></th>\n",
       "      <th>Genome</th>\n",
       "      <th>TranscriptId</th>\n",
       "      <th>Coverage_NewAssembly</th>\n",
       "      <th>Identity_NewAssembly</th>\n",
       "      <th>Coverage_OriginalAssembly</th>\n",
       "      <th>Identity_OriginalAssembly</th>\n",
       "      <th>GeneId</th>\n",
       "      <th>GeneBiotype</th>\n",
       "      <th>TranscriptBiotype</th>\n",
       "      <th>d(transMap Identity)</th>\n",
       "      <th>d(transMap Coverage)</th>\n",
       "    </tr>\n",
       "  </thead>\n",
       "  <tbody>\n",
       "    <tr>\n",
       "      <th>288</th>\n",
       "      <td>Bonobo</td>\n",
       "      <td>ENST00000187910.6</td>\n",
       "      <td>0.99761</td>\n",
       "      <td>0.98507</td>\n",
       "      <td>NaN</td>\n",
       "      <td>NaN</td>\n",
       "      <td>ENSG00000170848.15</td>\n",
       "      <td>protein_coding</td>\n",
       "      <td>protein_coding</td>\n",
       "      <td>NaN</td>\n",
       "      <td>NaN</td>\n",
       "    </tr>\n",
       "    <tr>\n",
       "      <th>751</th>\n",
       "      <td>Bonobo</td>\n",
       "      <td>ENST00000219481.10</td>\n",
       "      <td>1.00000</td>\n",
       "      <td>0.98968</td>\n",
       "      <td>NaN</td>\n",
       "      <td>NaN</td>\n",
       "      <td>ENSG00000242612.7</td>\n",
       "      <td>protein_coding</td>\n",
       "      <td>protein_coding</td>\n",
       "      <td>NaN</td>\n",
       "      <td>NaN</td>\n",
       "    </tr>\n",
       "    <tr>\n",
       "      <th>821</th>\n",
       "      <td>Bonobo</td>\n",
       "      <td>ENST00000221232.11</td>\n",
       "      <td>1.00000</td>\n",
       "      <td>0.99610</td>\n",
       "      <td>NaN</td>\n",
       "      <td>NaN</td>\n",
       "      <td>ENSG00000088038.19</td>\n",
       "      <td>protein_coding</td>\n",
       "      <td>protein_coding</td>\n",
       "      <td>NaN</td>\n",
       "      <td>NaN</td>\n",
       "    </tr>\n",
       "    <tr>\n",
       "      <th>907</th>\n",
       "      <td>Bonobo</td>\n",
       "      <td>ENST00000222224.4</td>\n",
       "      <td>0.99783</td>\n",
       "      <td>0.99059</td>\n",
       "      <td>NaN</td>\n",
       "      <td>NaN</td>\n",
       "      <td>ENSG00000105617.4</td>\n",
       "      <td>protein_coding</td>\n",
       "      <td>protein_coding</td>\n",
       "      <td>NaN</td>\n",
       "      <td>NaN</td>\n",
       "    </tr>\n",
       "    <tr>\n",
       "      <th>1496</th>\n",
       "      <td>Bonobo</td>\n",
       "      <td>ENST00000235347.4</td>\n",
       "      <td>0.20721</td>\n",
       "      <td>0.99051</td>\n",
       "      <td>NaN</td>\n",
       "      <td>NaN</td>\n",
       "      <td>ENSG00000187545.5</td>\n",
       "      <td>protein_coding</td>\n",
       "      <td>protein_coding</td>\n",
       "      <td>NaN</td>\n",
       "      <td>NaN</td>\n",
       "    </tr>\n",
       "    <tr>\n",
       "      <th>...</th>\n",
       "      <td>...</td>\n",
       "      <td>...</td>\n",
       "      <td>...</td>\n",
       "      <td>...</td>\n",
       "      <td>...</td>\n",
       "      <td>...</td>\n",
       "      <td>...</td>\n",
       "      <td>...</td>\n",
       "      <td>...</td>\n",
       "      <td>...</td>\n",
       "      <td>...</td>\n",
       "    </tr>\n",
       "    <tr>\n",
       "      <th>218619</th>\n",
       "      <td>Bonobo</td>\n",
       "      <td>ENST00000672145.1</td>\n",
       "      <td>1.00000</td>\n",
       "      <td>0.99184</td>\n",
       "      <td>NaN</td>\n",
       "      <td>NaN</td>\n",
       "      <td>ENSG00000061938.19</td>\n",
       "      <td>protein_coding</td>\n",
       "      <td>protein_coding</td>\n",
       "      <td>NaN</td>\n",
       "      <td>NaN</td>\n",
       "    </tr>\n",
       "    <tr>\n",
       "      <th>218740</th>\n",
       "      <td>Bonobo</td>\n",
       "      <td>ENST00000672542.1</td>\n",
       "      <td>0.99168</td>\n",
       "      <td>0.98170</td>\n",
       "      <td>NaN</td>\n",
       "      <td>NaN</td>\n",
       "      <td>ENSG00000061938.19</td>\n",
       "      <td>protein_coding</td>\n",
       "      <td>protein_coding</td>\n",
       "      <td>NaN</td>\n",
       "      <td>NaN</td>\n",
       "    </tr>\n",
       "    <tr>\n",
       "      <th>218974</th>\n",
       "      <td>Bonobo</td>\n",
       "      <td>ENST00000673243.1</td>\n",
       "      <td>0.91839</td>\n",
       "      <td>0.88361</td>\n",
       "      <td>NaN</td>\n",
       "      <td>NaN</td>\n",
       "      <td>ENSG00000234719.9</td>\n",
       "      <td>protein_coding</td>\n",
       "      <td>protein_coding</td>\n",
       "      <td>NaN</td>\n",
       "      <td>NaN</td>\n",
       "    </tr>\n",
       "    <tr>\n",
       "      <th>219073</th>\n",
       "      <td>Bonobo</td>\n",
       "      <td>ENST00000673559.1</td>\n",
       "      <td>0.98966</td>\n",
       "      <td>0.97931</td>\n",
       "      <td>NaN</td>\n",
       "      <td>NaN</td>\n",
       "      <td>ENSG00000061938.19</td>\n",
       "      <td>protein_coding</td>\n",
       "      <td>protein_coding</td>\n",
       "      <td>NaN</td>\n",
       "      <td>NaN</td>\n",
       "    </tr>\n",
       "    <tr>\n",
       "      <th>219539</th>\n",
       "      <td>Bonobo</td>\n",
       "      <td>ENST00000674102.1</td>\n",
       "      <td>0.91343</td>\n",
       "      <td>0.98732</td>\n",
       "      <td>NaN</td>\n",
       "      <td>NaN</td>\n",
       "      <td>ENSG00000107104.19</td>\n",
       "      <td>protein_coding</td>\n",
       "      <td>protein_coding</td>\n",
       "      <td>NaN</td>\n",
       "      <td>NaN</td>\n",
       "    </tr>\n",
       "  </tbody>\n",
       "</table>\n",
       "<p>1026 rows × 11 columns</p>\n",
       "</div>"
      ],
      "text/plain": [
       "        Genome        TranscriptId  Coverage_NewAssembly  \\\n",
       "288     Bonobo   ENST00000187910.6               0.99761   \n",
       "751     Bonobo  ENST00000219481.10               1.00000   \n",
       "821     Bonobo  ENST00000221232.11               1.00000   \n",
       "907     Bonobo   ENST00000222224.4               0.99783   \n",
       "1496    Bonobo   ENST00000235347.4               0.20721   \n",
       "...        ...                 ...                   ...   \n",
       "218619  Bonobo   ENST00000672145.1               1.00000   \n",
       "218740  Bonobo   ENST00000672542.1               0.99168   \n",
       "218974  Bonobo   ENST00000673243.1               0.91839   \n",
       "219073  Bonobo   ENST00000673559.1               0.98966   \n",
       "219539  Bonobo   ENST00000674102.1               0.91343   \n",
       "\n",
       "        Identity_NewAssembly  Coverage_OriginalAssembly  \\\n",
       "288                  0.98507                        NaN   \n",
       "751                  0.98968                        NaN   \n",
       "821                  0.99610                        NaN   \n",
       "907                  0.99059                        NaN   \n",
       "1496                 0.99051                        NaN   \n",
       "...                      ...                        ...   \n",
       "218619               0.99184                        NaN   \n",
       "218740               0.98170                        NaN   \n",
       "218974               0.88361                        NaN   \n",
       "219073               0.97931                        NaN   \n",
       "219539               0.98732                        NaN   \n",
       "\n",
       "        Identity_OriginalAssembly              GeneId     GeneBiotype  \\\n",
       "288                           NaN  ENSG00000170848.15  protein_coding   \n",
       "751                           NaN   ENSG00000242612.7  protein_coding   \n",
       "821                           NaN  ENSG00000088038.19  protein_coding   \n",
       "907                           NaN   ENSG00000105617.4  protein_coding   \n",
       "1496                          NaN   ENSG00000187545.5  protein_coding   \n",
       "...                           ...                 ...             ...   \n",
       "218619                        NaN  ENSG00000061938.19  protein_coding   \n",
       "218740                        NaN  ENSG00000061938.19  protein_coding   \n",
       "218974                        NaN   ENSG00000234719.9  protein_coding   \n",
       "219073                        NaN  ENSG00000061938.19  protein_coding   \n",
       "219539                        NaN  ENSG00000107104.19  protein_coding   \n",
       "\n",
       "       TranscriptBiotype  d(transMap Identity)  d(transMap Coverage)  \n",
       "288       protein_coding                   NaN                   NaN  \n",
       "751       protein_coding                   NaN                   NaN  \n",
       "821       protein_coding                   NaN                   NaN  \n",
       "907       protein_coding                   NaN                   NaN  \n",
       "1496      protein_coding                   NaN                   NaN  \n",
       "...                  ...                   ...                   ...  \n",
       "218619    protein_coding                   NaN                   NaN  \n",
       "218740    protein_coding                   NaN                   NaN  \n",
       "218974    protein_coding                   NaN                   NaN  \n",
       "219073    protein_coding                   NaN                   NaN  \n",
       "219539    protein_coding                   NaN                   NaN  \n",
       "\n",
       "[1026 rows x 11 columns]"
      ]
     },
     "execution_count": 41,
     "metadata": {},
     "output_type": "execute_result"
    }
   ],
   "source": [
    "r = []\n",
    "for genome, d in df.groupby(\"Genome\"):\n",
    "    for gene_id, dd in d.groupby(\"GeneId\"):\n",
    "        if all(dd.Coverage_OriginalAssembly.isnull()):\n",
    "            \n",
    "for gene_id, d in df.groupby(\"\")"
   ]
  },
  {
   "cell_type": "code",
   "execution_count": 68,
   "metadata": {},
   "outputs": [],
   "source": [
    "m = df[['Genome', 'd(transMap Identity)', 'd(transMap Coverage)']].melt(id_vars=['Genome']).dropna()"
   ]
  },
  {
   "cell_type": "code",
   "execution_count": 15,
   "metadata": {},
   "outputs": [
    {
     "data": {
      "image/png": "[encoded data removed]",
      "text/plain": [
       "<Figure size 507.625x360 with 1 Axes>"
      ]
     },
     "metadata": {
      "needs_background": "light"
     },
     "output_type": "display_data"
    }
   ],
   "source": [
    "g = sns.catplot(data=m[m.value != 0], kind='box', x='Genome', y='value', hue='variable',\n",
    "            showfliers=False, sharey=False, order=genomes, hue_order=['d(transMap Identity)', \n",
    "                                                                      'd(transMap Coverage)'])\n",
    "_ = g.fig.suptitle('Percentage change in alignment metrics')"
   ]
  },
  {
   "cell_type": "code",
   "execution_count": 20,
   "metadata": {},
   "outputs": [
    {
     "data": {
      "image/png": "[encoded data removed]",
      "text/plain": [
       "<Figure size 507.625x360 with 1 Axes>"
      ]
     },
     "metadata": {
      "needs_background": "light"
     },
     "output_type": "display_data"
    }
   ],
   "source": [
    "g = sns.catplot(data=m, kind='box', x='Genome', y='value', hue='variable',\n",
    "            showfliers=False, sharey=False, order=genomes, hue_order=['d(transMap Identity)', \n",
    "                                                                      'd(transMap Coverage)'])\n",
    "_ = g.fig.suptitle('Percentage change in alignment metrics')"
   ]
  },
  {
   "cell_type": "code",
   "execution_count": 14,
   "metadata": {},
   "outputs": [
    {
     "data": {
      "image/png": "[encoded data removed]",
      "text/plain": [
       "<Figure size 720x360 with 2 Axes>"
      ]
     },
     "metadata": {
      "needs_background": "light"
     },
     "output_type": "display_data"
    }
   ],
   "source": [
    "g = sns.catplot(data=m[m.value != 0], kind='boxen', x='Genome', y='value', col='variable',\n",
    "             sharey=False, order=genomes, col_order=['d(transMap Identity)', \n",
    "                                                                      'd(transMap Coverage)'])\n",
    "_ = g.fig.suptitle('Percentage change in alignment metrics')"
   ]
  },
  {
   "cell_type": "code",
   "execution_count": 21,
   "metadata": {},
   "outputs": [
    {
     "data": {
      "image/png": "[encoded data removed]",
      "text/plain": [
       "<Figure size 720x360 with 2 Axes>"
      ]
     },
     "metadata": {
      "needs_background": "light"
     },
     "output_type": "display_data"
    }
   ],
   "source": [
    "g = sns.catplot(data=m, kind='boxen', x='Genome', y='value', col='variable',\n",
    "             sharey=False, order=genomes, col_order=['d(transMap Identity)', \n",
    "                                                                      'd(transMap Coverage)'])\n",
    "_ = g.fig.suptitle('Percentage change in alignment metrics')"
   ]
  },
  {
   "cell_type": "code",
   "execution_count": 16,
   "metadata": {},
   "outputs": [
    {
     "data": {
      "text/plain": [
       "<seaborn.axisgrid.FacetGrid at 0x7f26cd8ce050>"
      ]
     },
     "execution_count": 16,
     "metadata": {},
     "output_type": "execute_result"
    },
    {
     "data": {
      "image/png": "[encoded data removed]",
      "text/plain": [
       "<Figure size 813x360 with 2 Axes>"
      ]
     },
     "metadata": {
      "needs_background": "light"
     },
     "output_type": "display_data"
    }
   ],
   "source": [
    "counts = []\n",
    "for (genome, variable), d in m.groupby(['Genome', 'variable']):\n",
    "    num_zero = len(d[d.value == 0])\n",
    "    num_nonzero = len(d) - num_zero\n",
    "    tot = len(d)\n",
    "    counts.append([genome, variable, num_zero, num_nonzero])\n",
    "cdf = pd.DataFrame(counts, columns=['Genome', 'Metric', 'Unchanged', 'Changed'])\n",
    "cdf = cdf.melt(id_vars=['Genome', 'Metric'])\n",
    "sns.catplot(data=cdf, hue='variable', y='value', x='Genome', col='Metric', kind='bar', sharey=False)"
   ]
  },
  {
   "cell_type": "code",
   "execution_count": 69,
   "metadata": {},
   "outputs": [
    {
     "data": {
      "text/html": [
       "<div>\n",
       "<style scoped>\n",
       "    .dataframe tbody tr th:only-of-type {\n",
       "        vertical-align: middle;\n",
       "    }\n",
       "\n",
       "    .dataframe tbody tr th {\n",
       "        vertical-align: top;\n",
       "    }\n",
       "\n",
       "    .dataframe thead th {\n",
       "        text-align: right;\n",
       "    }\n",
       "</style>\n",
       "<table border=\"1\" class=\"dataframe\">\n",
       "  <thead>\n",
       "    <tr style=\"text-align: right;\">\n",
       "      <th></th>\n",
       "      <th>value</th>\n",
       "    </tr>\n",
       "    <tr>\n",
       "      <th>variable</th>\n",
       "      <th></th>\n",
       "    </tr>\n",
       "  </thead>\n",
       "  <tbody>\n",
       "    <tr>\n",
       "      <th>d(transMap Coverage)</th>\n",
       "      <td>2.073341</td>\n",
       "    </tr>\n",
       "    <tr>\n",
       "      <th>d(transMap Identity)</th>\n",
       "      <td>0.763984</td>\n",
       "    </tr>\n",
       "  </tbody>\n",
       "</table>\n",
       "</div>"
      ],
      "text/plain": [
       "                         value\n",
       "variable                      \n",
       "d(transMap Coverage)  2.073341\n",
       "d(transMap Identity)  0.763984"
      ]
     },
     "execution_count": 69,
     "metadata": {},
     "output_type": "execute_result"
    }
   ],
   "source": [
    "import numpy as np\n",
    "m.groupby(\"variable\").aggregate(np.mean)"
   ]
  },
  {
   "cell_type": "code",
   "execution_count": 54,
   "metadata": {},
   "outputs": [
    {
     "data": {
      "text/html": [
       "<div>\n",
       "<style scoped>\n",
       "    .dataframe tbody tr th:only-of-type {\n",
       "        vertical-align: middle;\n",
       "    }\n",
       "\n",
       "    .dataframe tbody tr th {\n",
       "        vertical-align: top;\n",
       "    }\n",
       "\n",
       "    .dataframe thead th {\n",
       "        text-align: right;\n",
       "    }\n",
       "</style>\n",
       "<table border=\"1\" class=\"dataframe\">\n",
       "  <thead>\n",
       "    <tr style=\"text-align: right;\">\n",
       "      <th></th>\n",
       "      <th>Genome</th>\n",
       "      <th>Metric</th>\n",
       "      <th>Num Unchanged</th>\n",
       "      <th>Num Changed</th>\n",
       "      <th>Total</th>\n",
       "      <th>Change Frac</th>\n",
       "    </tr>\n",
       "  </thead>\n",
       "  <tbody>\n",
       "    <tr>\n",
       "      <th>0</th>\n",
       "      <td>Bonobo</td>\n",
       "      <td>d(transMap Coverage)</td>\n",
       "      <td>50211</td>\n",
       "      <td>31336</td>\n",
       "      <td>81547</td>\n",
       "      <td>31336</td>\n",
       "    </tr>\n",
       "    <tr>\n",
       "      <th>1</th>\n",
       "      <td>Bonobo</td>\n",
       "      <td>d(transMap Identity)</td>\n",
       "      <td>32858</td>\n",
       "      <td>48689</td>\n",
       "      <td>81547</td>\n",
       "      <td>48689</td>\n",
       "    </tr>\n",
       "  </tbody>\n",
       "</table>\n",
       "</div>"
      ],
      "text/plain": [
       "   Genome                Metric  Num Unchanged  Num Changed  Total  \\\n",
       "0  Bonobo  d(transMap Coverage)          50211        31336  81547   \n",
       "1  Bonobo  d(transMap Identity)          32858        48689  81547   \n",
       "\n",
       "   Change Frac  \n",
       "0        31336  \n",
       "1        48689  "
      ]
     },
     "execution_count": 54,
     "metadata": {},
     "output_type": "execute_result"
    }
   ],
   "source": [
    "counts_df = pd.DataFrame(counts, columns=[\"Genome\", \"Metric\", \"Num Unchanged\", \"Num Changed\"])\n",
    "counts_df[\"Total\"] = counts_df[\"Num Unchanged\"] + counts_df['Num Changed']\n",
    "counts_df[\"Change Frac\"] = counts_df[\"Num Changed\"]\n",
    "counts_df"
   ]
  },
  {
   "cell_type": "code",
   "execution_count": 56,
   "metadata": {},
   "outputs": [],
   "source": [
    "flnc = glob('/public/groups/cgl/cat/primates_evan/isoseq/*/*fasta')\n",
    "\n",
    "bam_map = defaultdict(list)\n",
    "\n",
    "for f in flnc:\n",
    "    g = f.split('/')[-2].split('_')[0]\n",
    "    g = g.title()\n",
    "    if g != 'Bonobo':\n",
    "        continue\n",
    "    new_bam = f.replace('fasta', 'sorted.bam')\n",
    "    assert os.path.exists(new_bam)\n",
    "    n = os.path.basename(f).split(\".\")[0]\n",
    "    old_bam = os.path.join(\"/public/groups/cgl/cat/primates_evan/v2/original-bonobo\", n + \".sorted.bam\")\n",
    "    assert os.path.exists(old_bam)\n",
    "    bam_map[g].append([new_bam, old_bam])"
   ]
  },
  {
   "cell_type": "code",
   "execution_count": 58,
   "metadata": {},
   "outputs": [],
   "source": [
    "def filter_bam(bam):\n",
    "    for rec in pysam.Samfile(bam):\n",
    "        if not rec.is_supplementary and not rec.is_secondary and not rec.is_unmapped and rec.seq is not None:\n",
    "            yield rec\n",
    "            \n",
    "\n",
    "def parse_cigar(rec):\n",
    "    matches = 0\n",
    "    for op, num_bases in rec.cigar:\n",
    "        if op == 0:\n",
    "            matches += num_bases\n",
    "    return rec.qname, format_ratio(matches, len(rec.seq))\n",
    "\n",
    "\n",
    "def bam_wapper(bam):\n",
    "    for rec in filter_bam(bam):\n",
    "        yield parse_cigar(rec)"
   ]
  },
  {
   "cell_type": "code",
   "execution_count": 59,
   "metadata": {},
   "outputs": [],
   "source": [
    "metrics = []\n",
    "for genome, bams in bam_map.items():\n",
    "    for new_bam, old_bam in bams:\n",
    "        new_bam = pd.DataFrame(list(bam_wapper(new_bam)), columns=['qname', 'coverage'])\n",
    "        old_bam = pd.DataFrame(list(bam_wapper(old_bam)), columns=['qname', 'coverage'])\n",
    "        m = new_bam.merge(old_bam, how='outer', on='qname', suffixes=['_new', '_old'])\n",
    "        m['genome'] = [genome] * len(m)\n",
    "        metrics.append(m)"
   ]
  },
  {
   "cell_type": "code",
   "execution_count": 60,
   "metadata": {},
   "outputs": [],
   "source": [
    "metrics_df = pd.concat(metrics)"
   ]
  },
  {
   "cell_type": "code",
   "execution_count": 61,
   "metadata": {},
   "outputs": [],
   "source": [
    "metrics_df['d(IsoSeq Coverage)'] = 100 * (metrics_df['coverage_new'] - metrics_df['coverage_old'])"
   ]
  },
  {
   "cell_type": "code",
   "execution_count": 62,
   "metadata": {},
   "outputs": [],
   "source": [
    "m_iso = metrics_df[['d(IsoSeq Coverage)', 'genome']].melt(id_vars=['genome'])"
   ]
  },
  {
   "cell_type": "code",
   "execution_count": 63,
   "metadata": {},
   "outputs": [],
   "source": [
    "m_iso.columns = ['Genome', 'variable', 'value']"
   ]
  },
  {
   "cell_type": "code",
   "execution_count": 70,
   "metadata": {},
   "outputs": [],
   "source": [
    "combined = pd.concat([m_iso, m])"
   ]
  },
  {
   "cell_type": "code",
   "execution_count": 73,
   "metadata": {},
   "outputs": [
    {
     "data": {
      "image/png": "[encoded data removed]",
      "text/plain": [
       "<Figure size 507.625x360 with 1 Axes>"
      ]
     },
     "metadata": {
      "needs_background": "light"
     },
     "output_type": "display_data"
    }
   ],
   "source": [
    "g = sns.catplot(data=combined, kind='box', x='Genome', y='value', hue='variable',\n",
    "            showfliers=False, sharey=False, order=genomes, hue_order=['d(transMap Identity)', \n",
    "                                                                      'd(transMap Coverage)', 'd(IsoSeq Coverage)'])\n",
    "_ = g.fig.suptitle('Percentage change in alignment metrics')"
   ]
  },
  {
   "cell_type": "code",
   "execution_count": 74,
   "metadata": {},
   "outputs": [
    {
     "data": {
      "image/png": "[encoded data removed]",
      "text/plain": [
       "<Figure size 507.625x360 with 1 Axes>"
      ]
     },
     "metadata": {
      "needs_background": "light"
     },
     "output_type": "display_data"
    }
   ],
   "source": [
    "g = sns.catplot(data=combined, kind='boxen', x='Genome', y='value', hue='variable',\n",
    "             sharey=False, order=genomes, hue_order=['d(transMap Identity)', \n",
    "                                                                      'd(transMap Coverage)', 'd(IsoSeq Coverage)'])\n",
    "_ = g.fig.suptitle('Percentage change in alignment metrics')"
   ]
  },
  {
   "cell_type": "code",
   "execution_count": 72,
   "metadata": {},
   "outputs": [
    {
     "data": {
      "text/plain": [
       "<seaborn.axisgrid.FacetGrid at 0x7f26f0054f90>"
      ]
     },
     "execution_count": 72,
     "metadata": {},
     "output_type": "execute_result"
    },
    {
     "data": {
      "image/png": "[encoded data removed]",
      "text/plain": [
       "<Figure size 1173x360 with 3 Axes>"
      ]
     },
     "metadata": {
      "needs_background": "light"
     },
     "output_type": "display_data"
    }
   ],
   "source": [
    "counts = []\n",
    "for (genome, variable), d in combined.groupby(['Genome', 'variable']):\n",
    "    num_zero = len(d[d.value == 0])\n",
    "    num_nonzero = len(d) - num_zero\n",
    "    tot = len(d)\n",
    "    counts.append([genome, variable, num_zero, num_nonzero])\n",
    "cdf = pd.DataFrame(counts, columns=['Genome', 'Metric', 'Unchanged', 'Changed'])\n",
    "cdf = cdf.melt(id_vars=['Genome', 'Metric'])\n",
    "sns.catplot(data=cdf, hue='variable', y='value', x='Genome', col='Metric', kind='bar', sharey=False)"
   ]
  },
  {
   "cell_type": "code",
   "execution_count": 75,
   "metadata": {},
   "outputs": [
    {
     "data": {
      "text/html": [
       "<div>\n",
       "<style scoped>\n",
       "    .dataframe tbody tr th:only-of-type {\n",
       "        vertical-align: middle;\n",
       "    }\n",
       "\n",
       "    .dataframe tbody tr th {\n",
       "        vertical-align: top;\n",
       "    }\n",
       "\n",
       "    .dataframe thead th {\n",
       "        text-align: right;\n",
       "    }\n",
       "</style>\n",
       "<table border=\"1\" class=\"dataframe\">\n",
       "  <thead>\n",
       "    <tr style=\"text-align: right;\">\n",
       "      <th></th>\n",
       "      <th>value</th>\n",
       "    </tr>\n",
       "    <tr>\n",
       "      <th>variable</th>\n",
       "      <th></th>\n",
       "    </tr>\n",
       "  </thead>\n",
       "  <tbody>\n",
       "    <tr>\n",
       "      <th>d(IsoSeq Coverage)</th>\n",
       "      <td>1.56181</td>\n",
       "    </tr>\n",
       "  </tbody>\n",
       "</table>\n",
       "</div>"
      ],
      "text/plain": [
       "                      value\n",
       "variable                   \n",
       "d(IsoSeq Coverage)  1.56181"
      ]
     },
     "execution_count": 75,
     "metadata": {},
     "output_type": "execute_result"
    }
   ],
   "source": [
    "m_iso.groupby(\"variable\").aggregate(np.mean)"
   ]
  },
  {
   "cell_type": "code",
   "execution_count": 77,
   "metadata": {},
   "outputs": [
    {
     "data": {
      "text/html": [
       "<div>\n",
       "<style scoped>\n",
       "    .dataframe tbody tr th:only-of-type {\n",
       "        vertical-align: middle;\n",
       "    }\n",
       "\n",
       "    .dataframe tbody tr th {\n",
       "        vertical-align: top;\n",
       "    }\n",
       "\n",
       "    .dataframe thead th {\n",
       "        text-align: right;\n",
       "    }\n",
       "</style>\n",
       "<table border=\"1\" class=\"dataframe\">\n",
       "  <thead>\n",
       "    <tr style=\"text-align: right;\">\n",
       "      <th></th>\n",
       "      <th>Genome</th>\n",
       "      <th>Metric</th>\n",
       "      <th>Num Unchanged</th>\n",
       "      <th>Num Changed</th>\n",
       "      <th>Total</th>\n",
       "      <th>Change Frac</th>\n",
       "    </tr>\n",
       "  </thead>\n",
       "  <tbody>\n",
       "    <tr>\n",
       "      <th>0</th>\n",
       "      <td>Bonobo</td>\n",
       "      <td>d(IsoSeq Coverage)</td>\n",
       "      <td>427778</td>\n",
       "      <td>439333</td>\n",
       "      <td>867111</td>\n",
       "      <td>0.506663</td>\n",
       "    </tr>\n",
       "    <tr>\n",
       "      <th>1</th>\n",
       "      <td>Bonobo</td>\n",
       "      <td>d(transMap Coverage)</td>\n",
       "      <td>50211</td>\n",
       "      <td>31336</td>\n",
       "      <td>81547</td>\n",
       "      <td>0.384269</td>\n",
       "    </tr>\n",
       "    <tr>\n",
       "      <th>2</th>\n",
       "      <td>Bonobo</td>\n",
       "      <td>d(transMap Identity)</td>\n",
       "      <td>32858</td>\n",
       "      <td>48689</td>\n",
       "      <td>81547</td>\n",
       "      <td>0.597067</td>\n",
       "    </tr>\n",
       "  </tbody>\n",
       "</table>\n",
       "</div>"
      ],
      "text/plain": [
       "   Genome                Metric  Num Unchanged  Num Changed   Total  \\\n",
       "0  Bonobo    d(IsoSeq Coverage)         427778       439333  867111   \n",
       "1  Bonobo  d(transMap Coverage)          50211        31336   81547   \n",
       "2  Bonobo  d(transMap Identity)          32858        48689   81547   \n",
       "\n",
       "   Change Frac  \n",
       "0     0.506663  \n",
       "1     0.384269  \n",
       "2     0.597067  "
      ]
     },
     "execution_count": 77,
     "metadata": {},
     "output_type": "execute_result"
    }
   ],
   "source": [
    "counts_df = pd.DataFrame(counts, columns=[\"Genome\", \"Metric\", \"Num Unchanged\", \"Num Changed\"])\n",
    "counts_df[\"Total\"] = counts_df[\"Num Unchanged\"] + counts_df['Num Changed']\n",
    "counts_df[\"Change Frac\"] = counts_df[\"Num Changed\"] / counts_df[\"Total\"]\n",
    "counts_df"
   ]
  },
  {
   "cell_type": "code",
   "execution_count": null,
   "metadata": {},
   "outputs": [],
   "source": []
  }
 ],
 "metadata": {
  "kernelspec": {
   "display_name": "Python 3",
   "language": "python",
   "name": "python3"
  },
  "language_info": {
   "codemirror_mode": {
    "name": "ipython",
    "version": 3
   },
   "file_extension": ".py",
   "mimetype": "text/x-python",
   "name": "python",
   "nbconvert_exporter": "python",
   "pygments_lexer": "ipython3",
   "version": "3.7.6"
  }
 },
 "nbformat": 4,
 "nbformat_minor": 4
}
