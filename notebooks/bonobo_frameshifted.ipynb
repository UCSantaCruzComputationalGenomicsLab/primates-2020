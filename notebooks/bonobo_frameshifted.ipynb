{
 "cells": [
  {
   "cell_type": "code",
   "execution_count": 1,
   "metadata": {},
   "outputs": [],
   "source": [
    "import collections\n",
    "import pandas as pd\n",
    "\n",
    "import tools.intervals\n",
    "import tools.misc\n",
    "import tools.mathOps\n",
    "import tools.fileOps\n",
    "import tools.sqlInterface\n",
    "import tools.transcripts\n",
    "import tools.nameConversions\n",
    "import tools.procOps\n",
    "from cat.consensus import *\n",
    "from argparse import ArgumentParser"
   ]
  },
  {
   "cell_type": "code",
   "execution_count": 2,
   "metadata": {},
   "outputs": [],
   "source": [
    "df = pd.read_csv(\"/public/groups/cgl/cat/primates_evan/v2/bonobo-only-v2.1/consensus_gene_set/Bonobo.gp_info\", sep=\"\\t\")"
   ]
  },
  {
   "cell_type": "code",
   "execution_count": 3,
   "metadata": {},
   "outputs": [],
   "source": [
    "df_filt = df[~df.frameshift.isnull()]"
   ]
  },
  {
   "cell_type": "code",
   "execution_count": 4,
   "metadata": {},
   "outputs": [],
   "source": [
    "frameshifted = []\n",
    "for gene_id, d in df_filt.groupby(\"gene_id\"):\n",
    "    d = d[~d.frameshift.isnull()]\n",
    "    if len(d[d.frameshift == True]) > 0:\n",
    "        frameshifted.append(gene_id)"
   ]
  },
  {
   "cell_type": "code",
   "execution_count": 5,
   "metadata": {},
   "outputs": [
    {
     "data": {
      "text/plain": [
       "1117"
      ]
     },
     "execution_count": 5,
     "metadata": {},
     "output_type": "execute_result"
    }
   ],
   "source": [
    "len(frameshifted)"
   ]
  },
  {
   "cell_type": "code",
   "execution_count": 6,
   "metadata": {},
   "outputs": [],
   "source": [
    "ref_txs = tools.transcripts.get_gene_pred_dict(\"/public/groups/cgl/cat/primates_evan/v2/work/reference/gencode.v33.annotation.gff3.gp\")"
   ]
  },
  {
   "cell_type": "code",
   "execution_count": 7,
   "metadata": {},
   "outputs": [],
   "source": [
    "ref_txs = tools.transcripts.group_transcripts_by_name2(ref_txs.values())"
   ]
  },
  {
   "cell_type": "code",
   "execution_count": 8,
   "metadata": {},
   "outputs": [],
   "source": [
    "bonobo_txs = tools.transcripts.get_gene_pred_dict(\"/public/groups/cgl/cat/primates_evan/v2/bonobo-only-v2.1/consensus_gene_set/Bonobo.gp\")"
   ]
  },
  {
   "cell_type": "code",
   "execution_count": 9,
   "metadata": {},
   "outputs": [],
   "source": [
    "bonobo_txs = tools.transcripts.group_transcripts_by_name2(bonobo_txs.values())"
   ]
  },
  {
   "cell_type": "code",
   "execution_count": 10,
   "metadata": {},
   "outputs": [],
   "source": [
    "frameshifted_df = df[df.gene_id.isin(frameshifted)][[\"gene_id\", \"source_gene\", \"alignment_id\"]].groupby(\"gene_id\").first().reset_index()"
   ]
  },
  {
   "cell_type": "code",
   "execution_count": 11,
   "metadata": {},
   "outputs": [],
   "source": [
    "def get_coords(txs):\n",
    "    chrom = txs[0].chromosome\n",
    "    start = min(x.start for x in txs)\n",
    "    end = max(x.stop for x in txs)\n",
    "    return f\"{chrom}:{start}-{end}\""
   ]
  },
  {
   "cell_type": "code",
   "execution_count": 12,
   "metadata": {},
   "outputs": [],
   "source": [
    "frameshifted_df[\"bonobo_gene_coords\"] = [get_coords(bonobo_txs[x]) for x in frameshifted_df.gene_id]"
   ]
  },
  {
   "cell_type": "code",
   "execution_count": 13,
   "metadata": {},
   "outputs": [],
   "source": [
    "frameshifted_df[\"human_gene_coords\"] = [get_coords(ref_txs[x]) for x in frameshifted_df.source_gene]"
   ]
  },
  {
   "cell_type": "code",
   "execution_count": 14,
   "metadata": {},
   "outputs": [],
   "source": [
    "db_path = \"/public/groups/cgl/cat/primates_evan/v2/bonobo-only-v2.1/databases/Bonobo.db\"\n",
    "session = tools.sqlInterface.start_session(db_path)\n",
    "\n",
    "eval_dfs = []\n",
    "for tx_mode in ['transMap', 'augTM']:\n",
    "    cds_table = tools.sqlInterface.tables['CDS'][tx_mode]['evaluation']\n",
    "    cds_df = pd.read_sql_table(cds_table.__tablename__, session.bind.engine)\n",
    "    eval_dfs.append(cds_df)\n",
    "    \n",
    "    \n",
    "eval_df = pd.concat(eval_dfs).set_index(\"AlignmentId\")"
   ]
  },
  {
   "cell_type": "code",
   "execution_count": 15,
   "metadata": {},
   "outputs": [],
   "source": [
    "filt_eval_df = eval_df[eval_df.index.isin(frameshifted_df.alignment_id)]"
   ]
  },
  {
   "cell_type": "code",
   "execution_count": 16,
   "metadata": {},
   "outputs": [],
   "source": [
    "filt_eval_df = filt_eval_df[[\"chromosome\", \"start\", \"stop\", \"name\"]].reset_index()"
   ]
  },
  {
   "cell_type": "code",
   "execution_count": 17,
   "metadata": {},
   "outputs": [],
   "source": [
    "final = frameshifted_df.merge(filt_eval_df, left_on=\"alignment_id\", right_on=\"AlignmentId\")"
   ]
  },
  {
   "cell_type": "code",
   "execution_count": 18,
   "metadata": {},
   "outputs": [],
   "source": [
    "final = final.drop(\"AlignmentId\", axis=\"columns\")"
   ]
  },
  {
   "cell_type": "code",
   "execution_count": 19,
   "metadata": {},
   "outputs": [],
   "source": [
    "final = final.set_index([\"gene_id\", \"source_gene\", \"alignment_id\", \"bonobo_gene_coords\", \"human_gene_coords\"])"
   ]
  },
  {
   "cell_type": "code",
   "execution_count": 20,
   "metadata": {},
   "outputs": [],
   "source": [
    "final.to_csv(\"bonobo_frameshifts_any_isoform.csv\")"
   ]
  },
  {
   "cell_type": "code",
   "execution_count": null,
   "metadata": {},
   "outputs": [],
   "source": []
  }
 ],
 "metadata": {
  "kernelspec": {
   "display_name": "Python 3",
   "language": "python",
   "name": "python3"
  },
  "language_info": {
   "codemirror_mode": {
    "name": "ipython",
    "version": 3
   },
   "file_extension": ".py",
   "mimetype": "text/x-python",
   "name": "python",
   "nbconvert_exporter": "python",
   "pygments_lexer": "ipython3",
   "version": "3.7.6"
  }
 },
 "nbformat": 4,
 "nbformat_minor": 4
}
