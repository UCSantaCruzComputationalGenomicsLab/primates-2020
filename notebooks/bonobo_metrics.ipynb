{
 "cells": [
  {
   "cell_type": "code",
   "execution_count": 17,
   "metadata": {},
   "outputs": [],
   "source": [
    "import pandas as pd\n",
    "import json\n",
    "from collections import *"
   ]
  },
  {
   "cell_type": "code",
   "execution_count": 2,
   "metadata": {},
   "outputs": [],
   "source": [
    "df = pd.read_csv('/public/groups/cgl/cat/primates_evan/v2/bonobo-only-v2.1/consensus_gene_set/Bonobo.gp_info', sep='\\t')"
   ]
  },
  {
   "cell_type": "code",
   "execution_count": 19,
   "metadata": {},
   "outputs": [],
   "source": [
    "q = df.groupby('gene_id').first()"
   ]
  },
  {
   "cell_type": "code",
   "execution_count": 21,
   "metadata": {},
   "outputs": [],
   "source": [
    "counts = Counter(q.gene_biotype)"
   ]
  },
  {
   "cell_type": "code",
   "execution_count": 23,
   "metadata": {},
   "outputs": [
    {
     "name": "stdout",
     "output_type": "stream",
     "text": [
      "20478 36880\n"
     ]
    }
   ],
   "source": [
    "coding = counts['unknown_likely_coding']  + counts['protein_coding']\n",
    "non_coding = sum(counts.values()) - coding\n",
    "print(coding, non_coding)"
   ]
  },
  {
   "cell_type": "code",
   "execution_count": 25,
   "metadata": {},
   "outputs": [
    {
     "data": {
      "text/plain": [
       "84110"
      ]
     },
     "execution_count": 25,
     "metadata": {},
     "output_type": "execute_result"
    }
   ],
   "source": [
    "# coding isoforms\n",
    "len(df[df.transcript_biotype.isin(['protein_coding', 'unknown_likely_coding'])])"
   ]
  },
  {
   "cell_type": "code",
   "execution_count": 27,
   "metadata": {},
   "outputs": [
    {
     "data": {
      "text/plain": [
       "1152"
      ]
     },
     "execution_count": 27,
     "metadata": {},
     "output_type": "execute_result"
    }
   ],
   "source": [
    "# novel isoforms from IsoSeq\n",
    "len(df[(df.transcript_modes == 'augPB') & (df.source_gene.isnull())])"
   ]
  },
  {
   "cell_type": "code",
   "execution_count": 28,
   "metadata": {},
   "outputs": [
    {
     "data": {
      "text/plain": [
       "1003"
      ]
     },
     "execution_count": 28,
     "metadata": {},
     "output_type": "execute_result"
    }
   ],
   "source": [
    "# novel isoforms from CGP\n",
    "len(df[df.transcript_modes == 'augCGP'])"
   ]
  },
  {
   "cell_type": "code",
   "execution_count": 29,
   "metadata": {},
   "outputs": [
    {
     "data": {
      "text/plain": [
       "1736"
      ]
     },
     "execution_count": 29,
     "metadata": {},
     "output_type": "execute_result"
    }
   ],
   "source": [
    "# novel genes\n",
    "len(q[q.gene_biotype == 'unknown_likely_coding'])"
   ]
  },
  {
   "cell_type": "code",
   "execution_count": null,
   "metadata": {},
   "outputs": [],
   "source": []
  },
  {
   "cell_type": "code",
   "execution_count": 4,
   "metadata": {},
   "outputs": [],
   "source": [
    "j = json.load(open('/public/groups/cgl/cat/primates_evan/v2/bonobo-only-v2.1/plot_data/Bonobo/consensus.json'))"
   ]
  },
  {
   "cell_type": "code",
   "execution_count": 8,
   "metadata": {},
   "outputs": [
    {
     "data": {
      "text/plain": [
       "dict_keys(['Transcript Missing', 'Gene Missing', 'Transcript Modes', 'Duplicate transcripts', 'Discarded by strand resolution', 'Coverage', 'Identity', 'Splice Support', 'Exon Support', 'Original Introns', 'Splice Annotation Support', 'Exon Annotation Support', 'IsoSeq Transcript Validation', 'denovo', 'Completeness', 'Evaluation Improvement', 'transMap Indels', 'Consensus Indels'])"
      ]
     },
     "execution_count": 8,
     "metadata": {},
     "output_type": "execute_result"
    }
   ],
   "source": [
    "j.keys()"
   ]
  },
  {
   "cell_type": "code",
   "execution_count": 31,
   "metadata": {},
   "outputs": [
    {
     "data": {
      "text/plain": [
       "({'Frameshift': 0.8076654116361245,\n",
       "  'CodingInsertion': 0.28990742413085663,\n",
       "  'CodingDeletion': 0.6826254683208988,\n",
       "  'CodingMult3Indel': 2.390115360925481},\n",
       " {'Frameshift': 4.302685434760907,\n",
       "  'CodingInsertion': 0.6339223320355396,\n",
       "  'CodingDeletion': 4.230308475591494,\n",
       "  'CodingMult3Indel': 12.488769092542677})"
      ]
     },
     "execution_count": 31,
     "metadata": {},
     "output_type": "execute_result"
    }
   ],
   "source": [
    "j['Consensus Indels'], j['transMap Indels']"
   ]
  },
  {
   "cell_type": "code",
   "execution_count": 36,
   "metadata": {},
   "outputs": [],
   "source": [
    "j2 = json.load(open('/public/groups/cgl/cat/primates_evan/v2/bonobo-only-v2.1/plot_data/Bonobo/filter_tm_metrics.json'))"
   ]
  },
  {
   "cell_type": "code",
   "execution_count": 37,
   "metadata": {},
   "outputs": [
    {
     "data": {
      "text/plain": [
       "dict_keys(['Paralogy', 'UnfilteredParalogy', 'Gene Family Collapse', 'Split Genes'])"
      ]
     },
     "execution_count": 37,
     "metadata": {},
     "output_type": "execute_result"
    }
   ],
   "source": [
    "j2.keys()"
   ]
  },
  {
   "cell_type": "code",
   "execution_count": 38,
   "metadata": {},
   "outputs": [
    {
     "data": {
      "text/plain": [
       "{'Number of contig split genes': 90, 'Number of intra-contig split genes': 40}"
      ]
     },
     "execution_count": 38,
     "metadata": {},
     "output_type": "execute_result"
    }
   ],
   "source": [
    "j2['Split Genes']"
   ]
  },
  {
   "cell_type": "code",
   "execution_count": 43,
   "metadata": {},
   "outputs": [
    {
     "data": {
      "text/plain": [
       "206"
      ]
     },
     "execution_count": 43,
     "metadata": {},
     "output_type": "execute_result"
    }
   ],
   "source": [
    "sum(j2['Gene Family Collapse']['protein_coding'].values())"
   ]
  },
  {
   "cell_type": "code",
   "execution_count": 47,
   "metadata": {},
   "outputs": [
    {
     "data": {
      "text/plain": [
       "1576"
      ]
     },
     "execution_count": 47,
     "metadata": {},
     "output_type": "execute_result"
    }
   ],
   "source": [
    "sum(j2['Paralogy']['protein_coding'].values()) - j2['Paralogy']['protein_coding']['1']"
   ]
  },
  {
   "cell_type": "code",
   "execution_count": 48,
   "metadata": {},
   "outputs": [
    {
     "data": {
      "text/plain": [
       "{'1': 81619,\n",
       " '2': 959,\n",
       " '3': 247,\n",
       " '8': 42,\n",
       " '6': 65,\n",
       " '7': 30,\n",
       " '5': 54,\n",
       " '10': 8,\n",
       " '4': 123,\n",
       " '11': 13,\n",
       " '9': 15,\n",
       " '13': 2,\n",
       " '22': 1,\n",
       " '14': 7,\n",
       " '16': 1,\n",
       " '17': 1,\n",
       " '20': 1,\n",
       " '15': 2,\n",
       " '21': 3,\n",
       " '24': 1,\n",
       " '18': 1}"
      ]
     },
     "execution_count": 48,
     "metadata": {},
     "output_type": "execute_result"
    }
   ],
   "source": [
    "j2['Paralogy']['protein_coding']"
   ]
  },
  {
   "cell_type": "code",
   "execution_count": null,
   "metadata": {},
   "outputs": [],
   "source": [
    "## t = ''',Name,GenesFound,GenesFoundPercent,TranscriptsFound,TranscriptsFoundPercent,GenesMultiplyMapping,GenesMultiplyMappingPercent,TranscriptsMultiplyMapping,TranscriptsMultiplyMappingPercent,FullmRNACoverage,FullmRNACoveragePercent,FullCDSCoverage,FullCDSCoveragePercent,TranscriptsWithFrameshift,TranscriptsWithFrameshiftPercent,TranscriptsWithOriginalIntrons,TranscriptsWithOriginalIntronsPercent,TranscriptsWithFullCDSCoverage,TranscriptsWithFullCDSCoveragePercent,TranscriptsWithFullCDSCoverageAndNoFrameshifts,TranscriptsWithFullCDSCoverageAndNoFrameshiftsPercent,TranscriptsWithFullCDSCoverageAndNoFrameshiftsAndOriginalIntrons,TranscriptsWithFullCDSCoverageAndNoFrameshiftsAndOriginalIntronsPercent,GenesWithFrameshift,GenesWithFrameshiftPercent,GenesWithOriginalIntrons,GenesWithOriginalIntronsPercent,GenesWithFullCDSCoverage,GenesWithFullCDSCoveragePercent,GenesWithFullCDSCoverageAndNoFrameshifts,GenesWithFullCDSCoverageAndNoFrameshiftsPercent,GenesWithFullCDSCoverageAndNoFrameshiftsAndOriginalIntrons,GenesWithFullCDSCoverageAndNoFrameshiftsAndOriginalIntronsPercent,MissingGenes,MissingGenesPercent,GenesWithFrameshiftAllIsoforms,GenesWithFrameshiftAllIsoformsPercent\n",
    "0,databases/Bonobo,19469,98.78228220609874,83306,99.12660637791528,1328,6.738038459586991,3889,4.627558305568777,51010,60.69728700618753,75829,90.22965254640647,1723,2.050214183722037,78811,93.77796287482151,75829,90.22965254640647,75775,90.16539742979533,74971,89.20871013802952,971,4.9266832411588615,18498,93.85559896493987,17663,89.61895580699174,17860,90.61849916281902,17814,90.38510325232127,240,1.2177177939012633,318.0,1.613476076919174'''\n",
    "df2 = pd.DataFrame([x.split(',') for x in t.split('\\n')])\n",
    "df2.columns = df2.iloc[0]\n",
    "df2 = df2.iloc[1:]"
   ]
  },
  {
   "cell_type": "code",
   "execution_count": 16,
   "metadata": {},
   "outputs": [
    {
     "data": {
      "text/html": [
       "<div>\n",
       "<style scoped>\n",
       "    .dataframe tbody tr th:only-of-type {\n",
       "        vertical-align: middle;\n",
       "    }\n",
       "\n",
       "    .dataframe tbody tr th {\n",
       "        vertical-align: top;\n",
       "    }\n",
       "\n",
       "    .dataframe thead th {\n",
       "        text-align: right;\n",
       "    }\n",
       "</style>\n",
       "<table border=\"1\" class=\"dataframe\">\n",
       "  <thead>\n",
       "    <tr style=\"text-align: right;\">\n",
       "      <th></th>\n",
       "      <th>1</th>\n",
       "    </tr>\n",
       "    <tr>\n",
       "      <th>0</th>\n",
       "      <th></th>\n",
       "    </tr>\n",
       "  </thead>\n",
       "  <tbody>\n",
       "    <tr>\n",
       "      <th></th>\n",
       "      <td>0</td>\n",
       "    </tr>\n",
       "    <tr>\n",
       "      <th>Name</th>\n",
       "      <td>databases/Bonobo</td>\n",
       "    </tr>\n",
       "    <tr>\n",
       "      <th>GenesFound</th>\n",
       "      <td>19469</td>\n",
       "    </tr>\n",
       "    <tr>\n",
       "      <th>GenesFoundPercent</th>\n",
       "      <td>98.78228220609874</td>\n",
       "    </tr>\n",
       "    <tr>\n",
       "      <th>TranscriptsFound</th>\n",
       "      <td>83306</td>\n",
       "    </tr>\n",
       "    <tr>\n",
       "      <th>TranscriptsFoundPercent</th>\n",
       "      <td>99.12660637791528</td>\n",
       "    </tr>\n",
       "    <tr>\n",
       "      <th>GenesMultiplyMapping</th>\n",
       "      <td>1328</td>\n",
       "    </tr>\n",
       "    <tr>\n",
       "      <th>GenesMultiplyMappingPercent</th>\n",
       "      <td>6.738038459586991</td>\n",
       "    </tr>\n",
       "    <tr>\n",
       "      <th>TranscriptsMultiplyMapping</th>\n",
       "      <td>3889</td>\n",
       "    </tr>\n",
       "    <tr>\n",
       "      <th>TranscriptsMultiplyMappingPercent</th>\n",
       "      <td>4.627558305568777</td>\n",
       "    </tr>\n",
       "    <tr>\n",
       "      <th>FullmRNACoverage</th>\n",
       "      <td>51010</td>\n",
       "    </tr>\n",
       "    <tr>\n",
       "      <th>FullmRNACoveragePercent</th>\n",
       "      <td>60.69728700618753</td>\n",
       "    </tr>\n",
       "    <tr>\n",
       "      <th>FullCDSCoverage</th>\n",
       "      <td>75829</td>\n",
       "    </tr>\n",
       "    <tr>\n",
       "      <th>FullCDSCoveragePercent</th>\n",
       "      <td>90.22965254640647</td>\n",
       "    </tr>\n",
       "    <tr>\n",
       "      <th>TranscriptsWithFrameshift</th>\n",
       "      <td>1723</td>\n",
       "    </tr>\n",
       "    <tr>\n",
       "      <th>TranscriptsWithFrameshiftPercent</th>\n",
       "      <td>2.050214183722037</td>\n",
       "    </tr>\n",
       "    <tr>\n",
       "      <th>TranscriptsWithOriginalIntrons</th>\n",
       "      <td>78811</td>\n",
       "    </tr>\n",
       "    <tr>\n",
       "      <th>TranscriptsWithOriginalIntronsPercent</th>\n",
       "      <td>93.77796287482151</td>\n",
       "    </tr>\n",
       "    <tr>\n",
       "      <th>TranscriptsWithFullCDSCoverage</th>\n",
       "      <td>75829</td>\n",
       "    </tr>\n",
       "    <tr>\n",
       "      <th>TranscriptsWithFullCDSCoveragePercent</th>\n",
       "      <td>90.22965254640647</td>\n",
       "    </tr>\n",
       "    <tr>\n",
       "      <th>TranscriptsWithFullCDSCoverageAndNoFrameshifts</th>\n",
       "      <td>75775</td>\n",
       "    </tr>\n",
       "    <tr>\n",
       "      <th>TranscriptsWithFullCDSCoverageAndNoFrameshiftsPercent</th>\n",
       "      <td>90.16539742979533</td>\n",
       "    </tr>\n",
       "    <tr>\n",
       "      <th>TranscriptsWithFullCDSCoverageAndNoFrameshiftsAndOriginalIntrons</th>\n",
       "      <td>74971</td>\n",
       "    </tr>\n",
       "    <tr>\n",
       "      <th>TranscriptsWithFullCDSCoverageAndNoFrameshiftsAndOriginalIntronsPercent</th>\n",
       "      <td>89.20871013802952</td>\n",
       "    </tr>\n",
       "    <tr>\n",
       "      <th>GenesWithFrameshift</th>\n",
       "      <td>971</td>\n",
       "    </tr>\n",
       "    <tr>\n",
       "      <th>GenesWithFrameshiftPercent</th>\n",
       "      <td>4.9266832411588615</td>\n",
       "    </tr>\n",
       "    <tr>\n",
       "      <th>GenesWithOriginalIntrons</th>\n",
       "      <td>18498</td>\n",
       "    </tr>\n",
       "    <tr>\n",
       "      <th>GenesWithOriginalIntronsPercent</th>\n",
       "      <td>93.85559896493987</td>\n",
       "    </tr>\n",
       "    <tr>\n",
       "      <th>GenesWithFullCDSCoverage</th>\n",
       "      <td>17663</td>\n",
       "    </tr>\n",
       "    <tr>\n",
       "      <th>GenesWithFullCDSCoveragePercent</th>\n",
       "      <td>89.61895580699174</td>\n",
       "    </tr>\n",
       "    <tr>\n",
       "      <th>GenesWithFullCDSCoverageAndNoFrameshifts</th>\n",
       "      <td>17860</td>\n",
       "    </tr>\n",
       "    <tr>\n",
       "      <th>GenesWithFullCDSCoverageAndNoFrameshiftsPercent</th>\n",
       "      <td>90.61849916281902</td>\n",
       "    </tr>\n",
       "    <tr>\n",
       "      <th>GenesWithFullCDSCoverageAndNoFrameshiftsAndOriginalIntrons</th>\n",
       "      <td>17814</td>\n",
       "    </tr>\n",
       "    <tr>\n",
       "      <th>GenesWithFullCDSCoverageAndNoFrameshiftsAndOriginalIntronsPercent</th>\n",
       "      <td>90.38510325232127</td>\n",
       "    </tr>\n",
       "    <tr>\n",
       "      <th>MissingGenes</th>\n",
       "      <td>240</td>\n",
       "    </tr>\n",
       "    <tr>\n",
       "      <th>MissingGenesPercent</th>\n",
       "      <td>1.2177177939012633</td>\n",
       "    </tr>\n",
       "    <tr>\n",
       "      <th>GenesWithFrameshiftAllIsoforms</th>\n",
       "      <td>318.0</td>\n",
       "    </tr>\n",
       "    <tr>\n",
       "      <th>GenesWithFrameshiftAllIsoformsPercent</th>\n",
       "      <td>1.613476076919174</td>\n",
       "    </tr>\n",
       "  </tbody>\n",
       "</table>\n",
       "</div>"
      ],
      "text/plain": [
       "                                                                     1\n",
       "0                                                                     \n",
       "                                                                     0\n",
       "Name                                                  databases/Bonobo\n",
       "GenesFound                                                       19469\n",
       "GenesFoundPercent                                    98.78228220609874\n",
       "TranscriptsFound                                                 83306\n",
       "TranscriptsFoundPercent                              99.12660637791528\n",
       "GenesMultiplyMapping                                              1328\n",
       "GenesMultiplyMappingPercent                          6.738038459586991\n",
       "TranscriptsMultiplyMapping                                        3889\n",
       "TranscriptsMultiplyMappingPercent                    4.627558305568777\n",
       "FullmRNACoverage                                                 51010\n",
       "FullmRNACoveragePercent                              60.69728700618753\n",
       "FullCDSCoverage                                                  75829\n",
       "FullCDSCoveragePercent                               90.22965254640647\n",
       "TranscriptsWithFrameshift                                         1723\n",
       "TranscriptsWithFrameshiftPercent                     2.050214183722037\n",
       "TranscriptsWithOriginalIntrons                                   78811\n",
       "TranscriptsWithOriginalIntronsPercent                93.77796287482151\n",
       "TranscriptsWithFullCDSCoverage                                   75829\n",
       "TranscriptsWithFullCDSCoveragePercent                90.22965254640647\n",
       "TranscriptsWithFullCDSCoverageAndNoFrameshifts                   75775\n",
       "TranscriptsWithFullCDSCoverageAndNoFrameshiftsP...   90.16539742979533\n",
       "TranscriptsWithFullCDSCoverageAndNoFrameshiftsA...               74971\n",
       "TranscriptsWithFullCDSCoverageAndNoFrameshiftsA...   89.20871013802952\n",
       "GenesWithFrameshift                                                971\n",
       "GenesWithFrameshiftPercent                          4.9266832411588615\n",
       "GenesWithOriginalIntrons                                         18498\n",
       "GenesWithOriginalIntronsPercent                      93.85559896493987\n",
       "GenesWithFullCDSCoverage                                         17663\n",
       "GenesWithFullCDSCoveragePercent                      89.61895580699174\n",
       "GenesWithFullCDSCoverageAndNoFrameshifts                         17860\n",
       "GenesWithFullCDSCoverageAndNoFrameshiftsPercent      90.61849916281902\n",
       "GenesWithFullCDSCoverageAndNoFrameshiftsAndOrig...               17814\n",
       "GenesWithFullCDSCoverageAndNoFrameshiftsAndOrig...   90.38510325232127\n",
       "MissingGenes                                                       240\n",
       "MissingGenesPercent                                 1.2177177939012633\n",
       "GenesWithFrameshiftAllIsoforms                                   318.0\n",
       "GenesWithFrameshiftAllIsoformsPercent                1.613476076919174"
      ]
     },
     "execution_count": 16,
     "metadata": {},
     "output_type": "execute_result"
    }
   ],
   "source": [
    "df2.T"
   ]
  },
  {
   "cell_type": "code",
   "execution_count": null,
   "metadata": {},
   "outputs": [],
   "source": []
  }
 ],
 "metadata": {
  "kernelspec": {
   "display_name": "Python 3",
   "language": "python",
   "name": "python3"
  },
  "language_info": {
   "codemirror_mode": {
    "name": "ipython",
    "version": 3
   },
   "file_extension": ".py",
   "mimetype": "text/x-python",
   "name": "python",
   "nbconvert_exporter": "python",
   "pygments_lexer": "ipython3",
   "version": "3.7.6"
  }
 },
 "nbformat": 4,
 "nbformat_minor": 4
}
